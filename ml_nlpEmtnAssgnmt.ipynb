{
 "cells": [
  {
   "cell_type": "markdown",
   "id": "6baf9530-50f1-4f69-a495-14990161e442",
   "metadata": {},
   "source": [
    "# NLP - Emotion Classification in Text"
   ]
  },
  {
   "cell_type": "markdown",
   "id": "8081588e-8b4f-45f8-ae49-f027a3d7fdb6",
   "metadata": {},
   "source": [
    "### Dataset:\n",
    "-- https://drive.google.com/file/d/1HWczIICsMpaL8EJyu48ZvRFcXx3_pcnb/view?usp=drive_link\n"
   ]
  },
  {
   "cell_type": "markdown",
   "id": "921719e8-658a-4865-9c78-4e601564c3be",
   "metadata": {},
   "source": [
    "### Importing Libraries\n"
   ]
  },
  {
   "cell_type": "code",
   "execution_count": 35,
   "id": "9a365060-3b1c-4efb-8bb1-3587febdc660",
   "metadata": {},
   "outputs": [],
   "source": [
    "# libraries for EDA and visualization\n",
    "import numpy as numpy\n",
    "import pandas as pd\n",
    "import matplotlib.pyplot as plt\n",
    "import seaborn as sns\n",
    "%matplotlib inline\n",
    "pd.pandas.set_option('display.max_columns',None)\n",
    "pd.options.mode.copy_on_write = True"
   ]
  },
  {
   "cell_type": "markdown",
   "id": "cef20ab2-4e6c-4050-9325-b67200ddbc0f",
   "metadata": {},
   "source": [
    "### 1. Loading and Preprocessing\n"
   ]
  },
  {
   "cell_type": "code",
   "execution_count": 40,
   "id": "910528d9-ada3-4f64-a1fd-53fbed1057e1",
   "metadata": {},
   "outputs": [
    {
     "data": {
      "text/html": [
       "<div>\n",
       "<style scoped>\n",
       "    .dataframe tbody tr th:only-of-type {\n",
       "        vertical-align: middle;\n",
       "    }\n",
       "\n",
       "    .dataframe tbody tr th {\n",
       "        vertical-align: top;\n",
       "    }\n",
       "\n",
       "    .dataframe thead th {\n",
       "        text-align: right;\n",
       "    }\n",
       "</style>\n",
       "<table border=\"1\" class=\"dataframe\">\n",
       "  <thead>\n",
       "    <tr style=\"text-align: right;\">\n",
       "      <th></th>\n",
       "      <th>Comment</th>\n",
       "      <th>Emotion</th>\n",
       "    </tr>\n",
       "  </thead>\n",
       "  <tbody>\n",
       "    <tr>\n",
       "      <th>0</th>\n",
       "      <td>i seriously hate one subject to death but now ...</td>\n",
       "      <td>fear</td>\n",
       "    </tr>\n",
       "    <tr>\n",
       "      <th>1</th>\n",
       "      <td>im so full of life i feel appalled</td>\n",
       "      <td>anger</td>\n",
       "    </tr>\n",
       "    <tr>\n",
       "      <th>2</th>\n",
       "      <td>i sit here to write i start to dig out my feel...</td>\n",
       "      <td>fear</td>\n",
       "    </tr>\n",
       "    <tr>\n",
       "      <th>3</th>\n",
       "      <td>ive been really angry with r and i feel like a...</td>\n",
       "      <td>joy</td>\n",
       "    </tr>\n",
       "    <tr>\n",
       "      <th>4</th>\n",
       "      <td>i feel suspicious if there is no one outside l...</td>\n",
       "      <td>fear</td>\n",
       "    </tr>\n",
       "    <tr>\n",
       "      <th>...</th>\n",
       "      <td>...</td>\n",
       "      <td>...</td>\n",
       "    </tr>\n",
       "    <tr>\n",
       "      <th>5932</th>\n",
       "      <td>i begun to feel distressed for you</td>\n",
       "      <td>fear</td>\n",
       "    </tr>\n",
       "    <tr>\n",
       "      <th>5933</th>\n",
       "      <td>i left feeling annoyed and angry thinking that...</td>\n",
       "      <td>anger</td>\n",
       "    </tr>\n",
       "    <tr>\n",
       "      <th>5934</th>\n",
       "      <td>i were to ever get married i d have everything...</td>\n",
       "      <td>joy</td>\n",
       "    </tr>\n",
       "    <tr>\n",
       "      <th>5935</th>\n",
       "      <td>i feel reluctant in applying there because i w...</td>\n",
       "      <td>fear</td>\n",
       "    </tr>\n",
       "    <tr>\n",
       "      <th>5936</th>\n",
       "      <td>i just wanted to apologize to you because i fe...</td>\n",
       "      <td>anger</td>\n",
       "    </tr>\n",
       "  </tbody>\n",
       "</table>\n",
       "<p>5937 rows × 2 columns</p>\n",
       "</div>"
      ],
      "text/plain": [
       "                                                Comment Emotion\n",
       "0     i seriously hate one subject to death but now ...    fear\n",
       "1                    im so full of life i feel appalled   anger\n",
       "2     i sit here to write i start to dig out my feel...    fear\n",
       "3     ive been really angry with r and i feel like a...     joy\n",
       "4     i feel suspicious if there is no one outside l...    fear\n",
       "...                                                 ...     ...\n",
       "5932                 i begun to feel distressed for you    fear\n",
       "5933  i left feeling annoyed and angry thinking that...   anger\n",
       "5934  i were to ever get married i d have everything...     joy\n",
       "5935  i feel reluctant in applying there because i w...    fear\n",
       "5936  i just wanted to apologize to you because i fe...   anger\n",
       "\n",
       "[5937 rows x 2 columns]"
      ]
     },
     "execution_count": 40,
     "metadata": {},
     "output_type": "execute_result"
    }
   ],
   "source": [
    "# loading dataset\n",
    "data = pd.read_csv(r\"C:\\Users\\nafla\\Downloads\\nlp_dataset.csv\")\n",
    "data"
   ]
  },
  {
   "cell_type": "code",
   "execution_count": 41,
   "id": "133ca9d0-4780-4a9d-80a1-a31725448419",
   "metadata": {},
   "outputs": [
    {
     "data": {
      "text/plain": [
       "(5937, 2)"
      ]
     },
     "execution_count": 41,
     "metadata": {},
     "output_type": "execute_result"
    }
   ],
   "source": [
    "data.shape"
   ]
  },
  {
   "cell_type": "code",
   "execution_count": 42,
   "id": "9fc99070-a04c-43d1-97c4-fd7cb5457714",
   "metadata": {},
   "outputs": [
    {
     "data": {
      "text/html": [
       "<div>\n",
       "<style scoped>\n",
       "    .dataframe tbody tr th:only-of-type {\n",
       "        vertical-align: middle;\n",
       "    }\n",
       "\n",
       "    .dataframe tbody tr th {\n",
       "        vertical-align: top;\n",
       "    }\n",
       "\n",
       "    .dataframe thead th {\n",
       "        text-align: right;\n",
       "    }\n",
       "</style>\n",
       "<table border=\"1\" class=\"dataframe\">\n",
       "  <thead>\n",
       "    <tr style=\"text-align: right;\">\n",
       "      <th></th>\n",
       "      <th>Comment</th>\n",
       "      <th>Emotion</th>\n",
       "    </tr>\n",
       "  </thead>\n",
       "  <tbody>\n",
       "    <tr>\n",
       "      <th>0</th>\n",
       "      <td>i seriously hate one subject to death but now ...</td>\n",
       "      <td>fear</td>\n",
       "    </tr>\n",
       "    <tr>\n",
       "      <th>1</th>\n",
       "      <td>im so full of life i feel appalled</td>\n",
       "      <td>anger</td>\n",
       "    </tr>\n",
       "    <tr>\n",
       "      <th>2</th>\n",
       "      <td>i sit here to write i start to dig out my feel...</td>\n",
       "      <td>fear</td>\n",
       "    </tr>\n",
       "    <tr>\n",
       "      <th>3</th>\n",
       "      <td>ive been really angry with r and i feel like a...</td>\n",
       "      <td>joy</td>\n",
       "    </tr>\n",
       "    <tr>\n",
       "      <th>4</th>\n",
       "      <td>i feel suspicious if there is no one outside l...</td>\n",
       "      <td>fear</td>\n",
       "    </tr>\n",
       "  </tbody>\n",
       "</table>\n",
       "</div>"
      ],
      "text/plain": [
       "                                             Comment Emotion\n",
       "0  i seriously hate one subject to death but now ...    fear\n",
       "1                 im so full of life i feel appalled   anger\n",
       "2  i sit here to write i start to dig out my feel...    fear\n",
       "3  ive been really angry with r and i feel like a...     joy\n",
       "4  i feel suspicious if there is no one outside l...    fear"
      ]
     },
     "execution_count": 42,
     "metadata": {},
     "output_type": "execute_result"
    }
   ],
   "source": [
    "data.head()"
   ]
  },
  {
   "cell_type": "code",
   "execution_count": 43,
   "id": "0c35b1c3-4ba5-4fcf-a198-9f1b5438e987",
   "metadata": {},
   "outputs": [
    {
     "data": {
      "text/html": [
       "<div>\n",
       "<style scoped>\n",
       "    .dataframe tbody tr th:only-of-type {\n",
       "        vertical-align: middle;\n",
       "    }\n",
       "\n",
       "    .dataframe tbody tr th {\n",
       "        vertical-align: top;\n",
       "    }\n",
       "\n",
       "    .dataframe thead th {\n",
       "        text-align: right;\n",
       "    }\n",
       "</style>\n",
       "<table border=\"1\" class=\"dataframe\">\n",
       "  <thead>\n",
       "    <tr style=\"text-align: right;\">\n",
       "      <th></th>\n",
       "      <th>Comment</th>\n",
       "      <th>Emotion</th>\n",
       "    </tr>\n",
       "  </thead>\n",
       "  <tbody>\n",
       "    <tr>\n",
       "      <th>5932</th>\n",
       "      <td>i begun to feel distressed for you</td>\n",
       "      <td>fear</td>\n",
       "    </tr>\n",
       "    <tr>\n",
       "      <th>5933</th>\n",
       "      <td>i left feeling annoyed and angry thinking that...</td>\n",
       "      <td>anger</td>\n",
       "    </tr>\n",
       "    <tr>\n",
       "      <th>5934</th>\n",
       "      <td>i were to ever get married i d have everything...</td>\n",
       "      <td>joy</td>\n",
       "    </tr>\n",
       "    <tr>\n",
       "      <th>5935</th>\n",
       "      <td>i feel reluctant in applying there because i w...</td>\n",
       "      <td>fear</td>\n",
       "    </tr>\n",
       "    <tr>\n",
       "      <th>5936</th>\n",
       "      <td>i just wanted to apologize to you because i fe...</td>\n",
       "      <td>anger</td>\n",
       "    </tr>\n",
       "  </tbody>\n",
       "</table>\n",
       "</div>"
      ],
      "text/plain": [
       "                                                Comment Emotion\n",
       "5932                 i begun to feel distressed for you    fear\n",
       "5933  i left feeling annoyed and angry thinking that...   anger\n",
       "5934  i were to ever get married i d have everything...     joy\n",
       "5935  i feel reluctant in applying there because i w...    fear\n",
       "5936  i just wanted to apologize to you because i fe...   anger"
      ]
     },
     "execution_count": 43,
     "metadata": {},
     "output_type": "execute_result"
    }
   ],
   "source": [
    "data.tail()"
   ]
  },
  {
   "cell_type": "code",
   "execution_count": 44,
   "id": "753ef967-5506-4f95-beff-afd2b3ad8518",
   "metadata": {},
   "outputs": [
    {
     "name": "stdout",
     "output_type": "stream",
     "text": [
      "<class 'pandas.core.frame.DataFrame'>\n",
      "RangeIndex: 5937 entries, 0 to 5936\n",
      "Data columns (total 2 columns):\n",
      " #   Column   Non-Null Count  Dtype \n",
      "---  ------   --------------  ----- \n",
      " 0   Comment  5937 non-null   object\n",
      " 1   Emotion  5937 non-null   object\n",
      "dtypes: object(2)\n",
      "memory usage: 92.9+ KB\n"
     ]
    }
   ],
   "source": [
    "data.info()"
   ]
  },
  {
   "cell_type": "code",
   "execution_count": 45,
   "id": "347b58c1-98f2-4652-93d9-3db9dac7834d",
   "metadata": {},
   "outputs": [
    {
     "data": {
      "text/plain": [
       "Comment    0\n",
       "Emotion    0\n",
       "dtype: int64"
      ]
     },
     "execution_count": 45,
     "metadata": {},
     "output_type": "execute_result"
    }
   ],
   "source": [
    "# missing values\n",
    "missing_values = data.isnull().sum()\n",
    "missing_values"
   ]
  },
  {
   "cell_type": "markdown",
   "id": "8136a2ca-c498-400f-9737-f607a99cdda1",
   "metadata": {},
   "source": [
    "no missing values"
   ]
  },
  {
   "cell_type": "code",
   "execution_count": 46,
   "id": "ca55cb81-5117-4eab-b176-2479bb8c8ec7",
   "metadata": {},
   "outputs": [
    {
     "data": {
      "text/plain": [
       "Comment    5934\n",
       "Emotion       3\n",
       "dtype: int64"
      ]
     },
     "execution_count": 46,
     "metadata": {},
     "output_type": "execute_result"
    }
   ],
   "source": [
    "data.nunique()"
   ]
  },
  {
   "cell_type": "markdown",
   "id": "8c305ea6-1533-484c-99fa-4f13f59d7240",
   "metadata": {},
   "source": [
    "Here 3 categories of emotions  and 5934 unique values in Comment."
   ]
  },
  {
   "cell_type": "code",
   "execution_count": 47,
   "id": "e82d7514-f5ca-4821-9a08-a5f443160fc9",
   "metadata": {},
   "outputs": [
    {
     "name": "stdout",
     "output_type": "stream",
     "text": [
      "Number of duplicate rows:0\n"
     ]
    }
   ],
   "source": [
    "num_duplicates = data.duplicated().sum()\n",
    "print(f\"Number of duplicate rows:{num_duplicates}\")"
   ]
  },
  {
   "cell_type": "code",
   "execution_count": 48,
   "id": "aec4f33f-8cde-4af0-a8f1-42c522332854",
   "metadata": {},
   "outputs": [
    {
     "data": {
      "text/html": [
       "<div>\n",
       "<style scoped>\n",
       "    .dataframe tbody tr th:only-of-type {\n",
       "        vertical-align: middle;\n",
       "    }\n",
       "\n",
       "    .dataframe tbody tr th {\n",
       "        vertical-align: top;\n",
       "    }\n",
       "\n",
       "    .dataframe thead th {\n",
       "        text-align: right;\n",
       "    }\n",
       "</style>\n",
       "<table border=\"1\" class=\"dataframe\">\n",
       "  <thead>\n",
       "    <tr style=\"text-align: right;\">\n",
       "      <th></th>\n",
       "      <th>Comment</th>\n",
       "      <th>Emotion</th>\n",
       "    </tr>\n",
       "  </thead>\n",
       "  <tbody>\n",
       "    <tr>\n",
       "      <th>986</th>\n",
       "      <td>i resorted to yesterday the post peak day of i...</td>\n",
       "      <td>anger</td>\n",
       "    </tr>\n",
       "    <tr>\n",
       "      <th>1930</th>\n",
       "      <td>i resorted to yesterday the post peak day of i...</td>\n",
       "      <td>fear</td>\n",
       "    </tr>\n",
       "    <tr>\n",
       "      <th>2262</th>\n",
       "      <td>i feel like a tortured artist when i talk to her</td>\n",
       "      <td>anger</td>\n",
       "    </tr>\n",
       "    <tr>\n",
       "      <th>2877</th>\n",
       "      <td>i feel pretty tortured because i work a job an...</td>\n",
       "      <td>anger</td>\n",
       "    </tr>\n",
       "    <tr>\n",
       "      <th>4869</th>\n",
       "      <td>i feel pretty tortured because i work a job an...</td>\n",
       "      <td>fear</td>\n",
       "    </tr>\n",
       "    <tr>\n",
       "      <th>5870</th>\n",
       "      <td>i feel like a tortured artist when i talk to her</td>\n",
       "      <td>fear</td>\n",
       "    </tr>\n",
       "  </tbody>\n",
       "</table>\n",
       "</div>"
      ],
      "text/plain": [
       "                                                Comment Emotion\n",
       "986   i resorted to yesterday the post peak day of i...   anger\n",
       "1930  i resorted to yesterday the post peak day of i...    fear\n",
       "2262   i feel like a tortured artist when i talk to her   anger\n",
       "2877  i feel pretty tortured because i work a job an...   anger\n",
       "4869  i feel pretty tortured because i work a job an...    fear\n",
       "5870   i feel like a tortured artist when i talk to her    fear"
      ]
     },
     "execution_count": 48,
     "metadata": {},
     "output_type": "execute_result"
    }
   ],
   "source": [
    "# Check duplicated comments\n",
    "data[data['Comment'].duplicated(keep=False)]"
   ]
  },
  {
   "cell_type": "code",
   "execution_count": 49,
   "id": "2f72cbd6-77fd-4354-830d-1407072f258d",
   "metadata": {},
   "outputs": [
    {
     "name": "stdout",
     "output_type": "stream",
     "text": [
      "Shape after removing duplicates: (5934, 2)\n"
     ]
    }
   ],
   "source": [
    "data = data.drop_duplicates(subset='Comment')\n",
    "print(f\"Shape after removing duplicates: {data.shape}\")"
   ]
  },
  {
   "cell_type": "code",
   "execution_count": 50,
   "id": "3544a302-ad09-4a41-baea-1296ab1c58e5",
   "metadata": {},
   "outputs": [],
   "source": [
    "# Reset index after removing duplicates\n",
    "data.reset_index(drop=True, inplace=True)"
   ]
  },
  {
   "cell_type": "code",
   "execution_count": 51,
   "id": "101f9b94-9388-4642-96f8-bc25f267ca0b",
   "metadata": {},
   "outputs": [
    {
     "data": {
      "text/plain": [
       "Emotion\n",
       "anger    2000\n",
       "joy      2000\n",
       "fear     1934\n",
       "Name: count, dtype: int64"
      ]
     },
     "execution_count": 51,
     "metadata": {},
     "output_type": "execute_result"
    }
   ],
   "source": [
    "# the counts of unique emotions\n",
    "emotion_counts = data['Emotion'].value_counts()\n",
    "emotion_counts"
   ]
  },
  {
   "cell_type": "code",
   "execution_count": 52,
   "id": "28d4aa60-1ed9-421c-8876-a3c680373ddc",
   "metadata": {},
   "outputs": [
    {
     "data": {
      "image/png": "[encoded data removed]",
      "text/plain": [
       "<Figure size 800x500 with 1 Axes>"
      ]
     },
     "metadata": {},
     "output_type": "display_data"
    }
   ],
   "source": [
    "import matplotlib.pyplot as plt\n",
    "# Plot the bar chart\n",
    "plt.figure(figsize=(8, 5))\n",
    "emotion_counts.plot(kind='bar', color=['red', 'yellow', 'violet'], alpha=0.6)\n",
    "plt.title(\"Distribution of Emotions\", fontsize=12)\n",
    "plt.xlabel(\"Emotions\", fontsize=10)\n",
    "plt.ylabel(\"Frequency\", fontsize=10)\n",
    "plt.xticks(rotation=0)\n",
    "plt.grid(axis='y', linestyle='--', alpha=0.4)"
   ]
  },
  {
   "cell_type": "markdown",
   "id": "f34c004c-beda-484b-9657-2e53f6e22213",
   "metadata": {},
   "source": [
    "### Data Preprocessing\n"
   ]
  },
  {
   "cell_type": "code",
   "execution_count": 53,
   "id": "97f6393a-f586-4a97-a60c-92620b2a2646",
   "metadata": {},
   "outputs": [],
   "source": [
    "import string"
   ]
  },
  {
   "cell_type": "code",
   "execution_count": 54,
   "id": "985cdd1c-b075-40a7-aa9c-f5b04ada0449",
   "metadata": {},
   "outputs": [
    {
     "data": {
      "text/html": [
       "<div>\n",
       "<style scoped>\n",
       "    .dataframe tbody tr th:only-of-type {\n",
       "        vertical-align: middle;\n",
       "    }\n",
       "\n",
       "    .dataframe tbody tr th {\n",
       "        vertical-align: top;\n",
       "    }\n",
       "\n",
       "    .dataframe thead th {\n",
       "        text-align: right;\n",
       "    }\n",
       "</style>\n",
       "<table border=\"1\" class=\"dataframe\">\n",
       "  <thead>\n",
       "    <tr style=\"text-align: right;\">\n",
       "      <th></th>\n",
       "      <th>Comment</th>\n",
       "      <th>Emotion</th>\n",
       "    </tr>\n",
       "  </thead>\n",
       "  <tbody>\n",
       "    <tr>\n",
       "      <th>0</th>\n",
       "      <td>i seriously hate one subject to death but now ...</td>\n",
       "      <td>fear</td>\n",
       "    </tr>\n",
       "    <tr>\n",
       "      <th>1</th>\n",
       "      <td>im so full of life i feel appalled</td>\n",
       "      <td>anger</td>\n",
       "    </tr>\n",
       "    <tr>\n",
       "      <th>2</th>\n",
       "      <td>i sit here to write i start to dig out my feel...</td>\n",
       "      <td>fear</td>\n",
       "    </tr>\n",
       "    <tr>\n",
       "      <th>3</th>\n",
       "      <td>ive been really angry with r and i feel like a...</td>\n",
       "      <td>joy</td>\n",
       "    </tr>\n",
       "    <tr>\n",
       "      <th>4</th>\n",
       "      <td>i feel suspicious if there is no one outside l...</td>\n",
       "      <td>fear</td>\n",
       "    </tr>\n",
       "  </tbody>\n",
       "</table>\n",
       "</div>"
      ],
      "text/plain": [
       "                                             Comment Emotion\n",
       "0  i seriously hate one subject to death but now ...    fear\n",
       "1                 im so full of life i feel appalled   anger\n",
       "2  i sit here to write i start to dig out my feel...    fear\n",
       "3  ive been really angry with r and i feel like a...     joy\n",
       "4  i feel suspicious if there is no one outside l...    fear"
      ]
     },
     "execution_count": 54,
     "metadata": {},
     "output_type": "execute_result"
    }
   ],
   "source": [
    "# Remove punctuation from the 'Comment' column\n",
    "data.loc[:, 'Comment'] = data['Comment'].str.replace(f'[{string.punctuation}]', '', regex=True)\n",
    "\n",
    "# Remove punctuation from the 'Emotion' column\n",
    "data.loc[:, 'Emotion'] = data['Emotion'].str.replace(f'[{string.punctuation}]', '', regex=True)\n",
    "\n",
    "data[['Comment', 'Emotion']].head()"
   ]
  },
  {
   "cell_type": "code",
   "execution_count": 55,
   "id": "3e9d063c-604b-4691-91e6-94bada848311",
   "metadata": {},
   "outputs": [
    {
     "data": {
      "text/html": [
       "<div>\n",
       "<style scoped>\n",
       "    .dataframe tbody tr th:only-of-type {\n",
       "        vertical-align: middle;\n",
       "    }\n",
       "\n",
       "    .dataframe tbody tr th {\n",
       "        vertical-align: top;\n",
       "    }\n",
       "\n",
       "    .dataframe thead th {\n",
       "        text-align: right;\n",
       "    }\n",
       "</style>\n",
       "<table border=\"1\" class=\"dataframe\">\n",
       "  <thead>\n",
       "    <tr style=\"text-align: right;\">\n",
       "      <th></th>\n",
       "      <th>Comment</th>\n",
       "      <th>Emotion</th>\n",
       "    </tr>\n",
       "  </thead>\n",
       "  <tbody>\n",
       "  </tbody>\n",
       "</table>\n",
       "</div>"
      ],
      "text/plain": [
       "Empty DataFrame\n",
       "Columns: [Comment, Emotion]\n",
       "Index: []"
      ]
     },
     "execution_count": 55,
     "metadata": {},
     "output_type": "execute_result"
    }
   ],
   "source": [
    "# Check Comments having any upper case letters\n",
    "data[data['Comment'].str.contains(r'[A-Z]')]"
   ]
  },
  {
   "cell_type": "code",
   "execution_count": 56,
   "id": "c9028b1c-1a61-4528-bf55-35e80b65f2ed",
   "metadata": {},
   "outputs": [
    {
     "name": "stdout",
     "output_type": "stream",
     "text": [
      "Text cleaned: Converted 'Comment' to lowercase.\n",
      "Lowercase conversion completed!\n"
     ]
    }
   ],
   "source": [
    "# Convert the 'Comment' column to lowercase safely\n",
    "data.loc[:, 'Cleaned_Comment'] = data['Comment'].str.lower()\n",
    "print(\"Text cleaned: Converted 'Comment' to lowercase.\")\n",
    "print(\"Lowercase conversion completed!\")"
   ]
  },
  {
   "cell_type": "markdown",
   "id": "b3ff6dba-6246-4df9-bf57-eea58f09584f",
   "metadata": {},
   "source": [
    "### Tokenization"
   ]
  },
  {
   "cell_type": "code",
   "execution_count": 57,
   "id": "90b24fd7-69ee-436f-b592-87d4f7d24b5c",
   "metadata": {},
   "outputs": [],
   "source": [
    "#Tokenization\n",
    "from nltk.tokenize import word_tokenize\n",
    "import nltk\n"
   ]
  },
  {
   "cell_type": "code",
   "execution_count": 58,
   "id": "28283443-a3a5-45ff-b23d-38bbc0c39f04",
   "metadata": {},
   "outputs": [
    {
     "name": "stdout",
     "output_type": "stream",
     "text": [
      "Tokenization completed!\n"
     ]
    },
    {
     "data": {
      "text/html": [
       "<div>\n",
       "<style scoped>\n",
       "    .dataframe tbody tr th:only-of-type {\n",
       "        vertical-align: middle;\n",
       "    }\n",
       "\n",
       "    .dataframe tbody tr th {\n",
       "        vertical-align: top;\n",
       "    }\n",
       "\n",
       "    .dataframe thead th {\n",
       "        text-align: right;\n",
       "    }\n",
       "</style>\n",
       "<table border=\"1\" class=\"dataframe\">\n",
       "  <thead>\n",
       "    <tr style=\"text-align: right;\">\n",
       "      <th></th>\n",
       "      <th>Comment</th>\n",
       "      <th>Cleaned_comment</th>\n",
       "    </tr>\n",
       "  </thead>\n",
       "  <tbody>\n",
       "    <tr>\n",
       "      <th>0</th>\n",
       "      <td>i seriously hate one subject to death but now ...</td>\n",
       "      <td>[i, seriously, hate, one, subject, to, death, ...</td>\n",
       "    </tr>\n",
       "    <tr>\n",
       "      <th>1</th>\n",
       "      <td>im so full of life i feel appalled</td>\n",
       "      <td>[im, so, full, of, life, i, feel, appalled]</td>\n",
       "    </tr>\n",
       "    <tr>\n",
       "      <th>2</th>\n",
       "      <td>i sit here to write i start to dig out my feel...</td>\n",
       "      <td>[i, sit, here, to, write, i, start, to, dig, o...</td>\n",
       "    </tr>\n",
       "    <tr>\n",
       "      <th>3</th>\n",
       "      <td>ive been really angry with r and i feel like a...</td>\n",
       "      <td>[ive, been, really, angry, with, r, and, i, fe...</td>\n",
       "    </tr>\n",
       "    <tr>\n",
       "      <th>4</th>\n",
       "      <td>i feel suspicious if there is no one outside l...</td>\n",
       "      <td>[i, feel, suspicious, if, there, is, no, one, ...</td>\n",
       "    </tr>\n",
       "  </tbody>\n",
       "</table>\n",
       "</div>"
      ],
      "text/plain": [
       "                                             Comment  \\\n",
       "0  i seriously hate one subject to death but now ...   \n",
       "1                 im so full of life i feel appalled   \n",
       "2  i sit here to write i start to dig out my feel...   \n",
       "3  ive been really angry with r and i feel like a...   \n",
       "4  i feel suspicious if there is no one outside l...   \n",
       "\n",
       "                                     Cleaned_comment  \n",
       "0  [i, seriously, hate, one, subject, to, death, ...  \n",
       "1        [im, so, full, of, life, i, feel, appalled]  \n",
       "2  [i, sit, here, to, write, i, start, to, dig, o...  \n",
       "3  [ive, been, really, angry, with, r, and, i, fe...  \n",
       "4  [i, feel, suspicious, if, there, is, no, one, ...  "
      ]
     },
     "execution_count": 58,
     "metadata": {},
     "output_type": "execute_result"
    }
   ],
   "source": [
    "data.loc[:, 'Cleaned_comment'] = data['Comment'].apply(word_tokenize)\n",
    "print(\"Tokenization completed!\")\n",
    "data[['Comment', 'Cleaned_comment']].head()"
   ]
  },
  {
   "cell_type": "code",
   "execution_count": 59,
   "id": "a9ec61b7-7ef4-4301-9016-902e6ddbf741",
   "metadata": {},
   "outputs": [],
   "source": [
    "#Sentence tokenization\n",
    "from nltk.tokenize import sent_tokenize"
   ]
  },
  {
   "cell_type": "code",
   "execution_count": 60,
   "id": "ec331a60-6bf0-4db8-bc60-2b372c6ee3dc",
   "metadata": {},
   "outputs": [
    {
     "data": {
      "text/html": [
       "<div>\n",
       "<style scoped>\n",
       "    .dataframe tbody tr th:only-of-type {\n",
       "        vertical-align: middle;\n",
       "    }\n",
       "\n",
       "    .dataframe tbody tr th {\n",
       "        vertical-align: top;\n",
       "    }\n",
       "\n",
       "    .dataframe thead th {\n",
       "        text-align: right;\n",
       "    }\n",
       "</style>\n",
       "<table border=\"1\" class=\"dataframe\">\n",
       "  <thead>\n",
       "    <tr style=\"text-align: right;\">\n",
       "      <th></th>\n",
       "      <th>Comment</th>\n",
       "      <th>Cleaned_sentences</th>\n",
       "    </tr>\n",
       "  </thead>\n",
       "  <tbody>\n",
       "    <tr>\n",
       "      <th>0</th>\n",
       "      <td>i seriously hate one subject to death but now ...</td>\n",
       "      <td>[i seriously hate one subject to death but now...</td>\n",
       "    </tr>\n",
       "    <tr>\n",
       "      <th>1</th>\n",
       "      <td>im so full of life i feel appalled</td>\n",
       "      <td>[im so full of life i feel appalled]</td>\n",
       "    </tr>\n",
       "    <tr>\n",
       "      <th>2</th>\n",
       "      <td>i sit here to write i start to dig out my feel...</td>\n",
       "      <td>[i sit here to write i start to dig out my fee...</td>\n",
       "    </tr>\n",
       "    <tr>\n",
       "      <th>3</th>\n",
       "      <td>ive been really angry with r and i feel like a...</td>\n",
       "      <td>[ive been really angry with r and i feel like ...</td>\n",
       "    </tr>\n",
       "    <tr>\n",
       "      <th>4</th>\n",
       "      <td>i feel suspicious if there is no one outside l...</td>\n",
       "      <td>[i feel suspicious if there is no one outside ...</td>\n",
       "    </tr>\n",
       "  </tbody>\n",
       "</table>\n",
       "</div>"
      ],
      "text/plain": [
       "                                             Comment  \\\n",
       "0  i seriously hate one subject to death but now ...   \n",
       "1                 im so full of life i feel appalled   \n",
       "2  i sit here to write i start to dig out my feel...   \n",
       "3  ive been really angry with r and i feel like a...   \n",
       "4  i feel suspicious if there is no one outside l...   \n",
       "\n",
       "                                   Cleaned_sentences  \n",
       "0  [i seriously hate one subject to death but now...  \n",
       "1               [im so full of life i feel appalled]  \n",
       "2  [i sit here to write i start to dig out my fee...  \n",
       "3  [ive been really angry with r and i feel like ...  \n",
       "4  [i feel suspicious if there is no one outside ...  "
      ]
     },
     "execution_count": 60,
     "metadata": {},
     "output_type": "execute_result"
    }
   ],
   "source": [
    "data.loc[:, 'Cleaned_sentences'] = data['Comment'].apply(sent_tokenize)\n",
    "\n",
    "# Print the first few rows to check\n",
    "data[['Comment', 'Cleaned_sentences']].head()"
   ]
  },
  {
   "cell_type": "markdown",
   "id": "c0294a13-471c-48c7-a977-c24fb88d1831",
   "metadata": {},
   "source": [
    "### Stopword Removal"
   ]
  },
  {
   "cell_type": "code",
   "execution_count": 61,
   "id": "2a75c24a-6edc-4203-9e8f-fbc556ebc9e3",
   "metadata": {},
   "outputs": [],
   "source": [
    "#Stopword Removal\n",
    "from nltk.corpus import stopwords"
   ]
  },
  {
   "cell_type": "code",
   "execution_count": 62,
   "id": "c536d4e4-36bc-4d1e-8a4a-05d16a060924",
   "metadata": {},
   "outputs": [
    {
     "name": "stdout",
     "output_type": "stream",
     "text": [
      "Stopword removal completed!\n"
     ]
    }
   ],
   "source": [
    "stop_words = set(stopwords.words('english') + ['im', 'ive', 'also'])\n",
    "\n",
    "def remove_stopwords(tokens):\n",
    "    return [token for token in tokens if token not in stop_words]\n",
    "\n",
    "data.loc[:,'Cleaned_comment'] = data['Cleaned_comment'].apply(remove_stopwords)\n",
    "print(\"Stopword removal completed!\")"
   ]
  },
  {
   "cell_type": "code",
   "execution_count": 63,
   "id": "8c02edc3-2619-4e3e-a4c1-7c3a3833996b",
   "metadata": {},
   "outputs": [
    {
     "data": {
      "text/html": [
       "<div>\n",
       "<style scoped>\n",
       "    .dataframe tbody tr th:only-of-type {\n",
       "        vertical-align: middle;\n",
       "    }\n",
       "\n",
       "    .dataframe tbody tr th {\n",
       "        vertical-align: top;\n",
       "    }\n",
       "\n",
       "    .dataframe thead th {\n",
       "        text-align: right;\n",
       "    }\n",
       "</style>\n",
       "<table border=\"1\" class=\"dataframe\">\n",
       "  <thead>\n",
       "    <tr style=\"text-align: right;\">\n",
       "      <th></th>\n",
       "      <th>Comment</th>\n",
       "      <th>Cleaned_comment</th>\n",
       "    </tr>\n",
       "  </thead>\n",
       "  <tbody>\n",
       "    <tr>\n",
       "      <th>0</th>\n",
       "      <td>i seriously hate one subject to death but now ...</td>\n",
       "      <td>[seriously, hate, one, subject, death, feel, r...</td>\n",
       "    </tr>\n",
       "    <tr>\n",
       "      <th>1</th>\n",
       "      <td>im so full of life i feel appalled</td>\n",
       "      <td>[full, life, feel, appalled]</td>\n",
       "    </tr>\n",
       "    <tr>\n",
       "      <th>2</th>\n",
       "      <td>i sit here to write i start to dig out my feel...</td>\n",
       "      <td>[sit, write, start, dig, feelings, think, afra...</td>\n",
       "    </tr>\n",
       "    <tr>\n",
       "      <th>3</th>\n",
       "      <td>ive been really angry with r and i feel like a...</td>\n",
       "      <td>[really, angry, r, feel, like, idiot, trusting...</td>\n",
       "    </tr>\n",
       "    <tr>\n",
       "      <th>4</th>\n",
       "      <td>i feel suspicious if there is no one outside l...</td>\n",
       "      <td>[feel, suspicious, one, outside, like, rapture...</td>\n",
       "    </tr>\n",
       "  </tbody>\n",
       "</table>\n",
       "</div>"
      ],
      "text/plain": [
       "                                             Comment  \\\n",
       "0  i seriously hate one subject to death but now ...   \n",
       "1                 im so full of life i feel appalled   \n",
       "2  i sit here to write i start to dig out my feel...   \n",
       "3  ive been really angry with r and i feel like a...   \n",
       "4  i feel suspicious if there is no one outside l...   \n",
       "\n",
       "                                     Cleaned_comment  \n",
       "0  [seriously, hate, one, subject, death, feel, r...  \n",
       "1                       [full, life, feel, appalled]  \n",
       "2  [sit, write, start, dig, feelings, think, afra...  \n",
       "3  [really, angry, r, feel, like, idiot, trusting...  \n",
       "4  [feel, suspicious, one, outside, like, rapture...  "
      ]
     },
     "execution_count": 63,
     "metadata": {},
     "output_type": "execute_result"
    }
   ],
   "source": [
    "# Print the first few rows to check\n",
    "data[['Comment', 'Cleaned_comment', ]].head()"
   ]
  },
  {
   "cell_type": "markdown",
   "id": "a9e57560-69f5-4d7a-ac56-4e3de58288d1",
   "metadata": {},
   "source": [
    "### Stemming and Lemmatization"
   ]
  },
  {
   "cell_type": "code",
   "execution_count": 64,
   "id": "1c5a8bf1-6702-40a5-bb5e-c903ca549993",
   "metadata": {},
   "outputs": [],
   "source": [
    "from nltk.stem import PorterStemmer, WordNetLemmatizer\n",
    "stemmer = PorterStemmer()"
   ]
  },
  {
   "cell_type": "code",
   "execution_count": 65,
   "id": "28739000-d533-4178-a8e8-e73e15f88530",
   "metadata": {},
   "outputs": [
    {
     "name": "stdout",
     "output_type": "stream",
     "text": [
      "Stemming completed!\n"
     ]
    }
   ],
   "source": [
    "def stem_tokens(tokens):\n",
    "    return [stemmer.stem(word) for word in tokens]\n",
    "\n",
    "data.loc[:, 'Stemmed_Tokens'] =  data['Cleaned_comment'].apply(stem_tokens)\n",
    "print(\"Stemming completed!\")"
   ]
  },
  {
   "cell_type": "code",
   "execution_count": 66,
   "id": "ac6bb177-bdd0-4e9a-a2ea-44bb73b386d2",
   "metadata": {},
   "outputs": [
    {
     "data": {
      "text/html": [
       "<div>\n",
       "<style scoped>\n",
       "    .dataframe tbody tr th:only-of-type {\n",
       "        vertical-align: middle;\n",
       "    }\n",
       "\n",
       "    .dataframe tbody tr th {\n",
       "        vertical-align: top;\n",
       "    }\n",
       "\n",
       "    .dataframe thead th {\n",
       "        text-align: right;\n",
       "    }\n",
       "</style>\n",
       "<table border=\"1\" class=\"dataframe\">\n",
       "  <thead>\n",
       "    <tr style=\"text-align: right;\">\n",
       "      <th></th>\n",
       "      <th>Cleaned_comment</th>\n",
       "      <th>Stemmed_Tokens</th>\n",
       "    </tr>\n",
       "  </thead>\n",
       "  <tbody>\n",
       "    <tr>\n",
       "      <th>0</th>\n",
       "      <td>[seriously, hate, one, subject, death, feel, r...</td>\n",
       "      <td>[serious, hate, one, subject, death, feel, rel...</td>\n",
       "    </tr>\n",
       "    <tr>\n",
       "      <th>1</th>\n",
       "      <td>[full, life, feel, appalled]</td>\n",
       "      <td>[full, life, feel, appal]</td>\n",
       "    </tr>\n",
       "    <tr>\n",
       "      <th>2</th>\n",
       "      <td>[sit, write, start, dig, feelings, think, afra...</td>\n",
       "      <td>[sit, write, start, dig, feel, think, afraid, ...</td>\n",
       "    </tr>\n",
       "    <tr>\n",
       "      <th>3</th>\n",
       "      <td>[really, angry, r, feel, like, idiot, trusting...</td>\n",
       "      <td>[realli, angri, r, feel, like, idiot, trust, f...</td>\n",
       "    </tr>\n",
       "    <tr>\n",
       "      <th>4</th>\n",
       "      <td>[feel, suspicious, one, outside, like, rapture...</td>\n",
       "      <td>[feel, suspici, one, outsid, like, raptur, hap...</td>\n",
       "    </tr>\n",
       "  </tbody>\n",
       "</table>\n",
       "</div>"
      ],
      "text/plain": [
       "                                     Cleaned_comment  \\\n",
       "0  [seriously, hate, one, subject, death, feel, r...   \n",
       "1                       [full, life, feel, appalled]   \n",
       "2  [sit, write, start, dig, feelings, think, afra...   \n",
       "3  [really, angry, r, feel, like, idiot, trusting...   \n",
       "4  [feel, suspicious, one, outside, like, rapture...   \n",
       "\n",
       "                                      Stemmed_Tokens  \n",
       "0  [serious, hate, one, subject, death, feel, rel...  \n",
       "1                          [full, life, feel, appal]  \n",
       "2  [sit, write, start, dig, feel, think, afraid, ...  \n",
       "3  [realli, angri, r, feel, like, idiot, trust, f...  \n",
       "4  [feel, suspici, one, outsid, like, raptur, hap...  "
      ]
     },
     "execution_count": 66,
     "metadata": {},
     "output_type": "execute_result"
    }
   ],
   "source": [
    "data[['Cleaned_comment', 'Stemmed_Tokens']].head()"
   ]
  },
  {
   "cell_type": "code",
   "execution_count": 67,
   "id": "f7558a50-351d-4824-adb5-392cf718c428",
   "metadata": {},
   "outputs": [],
   "source": [
    "lemmatizer = WordNetLemmatizer()"
   ]
  },
  {
   "cell_type": "code",
   "execution_count": 68,
   "id": "4a28f209-c8b8-4557-bc4a-812d87843acb",
   "metadata": {},
   "outputs": [
    {
     "name": "stdout",
     "output_type": "stream",
     "text": [
      "Lemmatization completed!\n"
     ]
    },
    {
     "data": {
      "text/html": [
       "<div>\n",
       "<style scoped>\n",
       "    .dataframe tbody tr th:only-of-type {\n",
       "        vertical-align: middle;\n",
       "    }\n",
       "\n",
       "    .dataframe tbody tr th {\n",
       "        vertical-align: top;\n",
       "    }\n",
       "\n",
       "    .dataframe thead th {\n",
       "        text-align: right;\n",
       "    }\n",
       "</style>\n",
       "<table border=\"1\" class=\"dataframe\">\n",
       "  <thead>\n",
       "    <tr style=\"text-align: right;\">\n",
       "      <th></th>\n",
       "      <th>Cleaned_comment</th>\n",
       "      <th>Processed_Comment</th>\n",
       "    </tr>\n",
       "  </thead>\n",
       "  <tbody>\n",
       "    <tr>\n",
       "      <th>0</th>\n",
       "      <td>[seriously, hate, one, subject, death, feel, r...</td>\n",
       "      <td>[seriously, hate, one, subject, death, feel, r...</td>\n",
       "    </tr>\n",
       "    <tr>\n",
       "      <th>1</th>\n",
       "      <td>[full, life, feel, appalled]</td>\n",
       "      <td>[full, life, feel, appalled]</td>\n",
       "    </tr>\n",
       "    <tr>\n",
       "      <th>2</th>\n",
       "      <td>[sit, write, start, dig, feelings, think, afra...</td>\n",
       "      <td>[sit, write, start, dig, feeling, think, afrai...</td>\n",
       "    </tr>\n",
       "    <tr>\n",
       "      <th>3</th>\n",
       "      <td>[really, angry, r, feel, like, idiot, trusting...</td>\n",
       "      <td>[really, angry, r, feel, like, idiot, trusting...</td>\n",
       "    </tr>\n",
       "    <tr>\n",
       "      <th>4</th>\n",
       "      <td>[feel, suspicious, one, outside, like, rapture...</td>\n",
       "      <td>[feel, suspicious, one, outside, like, rapture...</td>\n",
       "    </tr>\n",
       "  </tbody>\n",
       "</table>\n",
       "</div>"
      ],
      "text/plain": [
       "                                     Cleaned_comment  \\\n",
       "0  [seriously, hate, one, subject, death, feel, r...   \n",
       "1                       [full, life, feel, appalled]   \n",
       "2  [sit, write, start, dig, feelings, think, afra...   \n",
       "3  [really, angry, r, feel, like, idiot, trusting...   \n",
       "4  [feel, suspicious, one, outside, like, rapture...   \n",
       "\n",
       "                                   Processed_Comment  \n",
       "0  [seriously, hate, one, subject, death, feel, r...  \n",
       "1                       [full, life, feel, appalled]  \n",
       "2  [sit, write, start, dig, feeling, think, afrai...  \n",
       "3  [really, angry, r, feel, like, idiot, trusting...  \n",
       "4  [feel, suspicious, one, outside, like, rapture...  "
      ]
     },
     "execution_count": 68,
     "metadata": {},
     "output_type": "execute_result"
    }
   ],
   "source": [
    "def lemmatize_tokens(tokens):\n",
    "    return [lemmatizer.lemmatize(word) for word in tokens]\n",
    "\n",
    "# Apply the function to the 'Cleaned_comment' column\n",
    "data.loc[:, 'Processed_Comment'] = data['Cleaned_comment'].apply(lemmatize_tokens)\n",
    "print(\"Lemmatization completed!\")\n",
    "\n",
    "# Check the processed data\n",
    "data[['Cleaned_comment', 'Processed_Comment']].head()"
   ]
  },
  {
   "cell_type": "code",
   "execution_count": 69,
   "id": "761297cd-0538-4f41-bd94-53aa613bc05d",
   "metadata": {},
   "outputs": [
    {
     "name": "stdout",
     "output_type": "stream",
     "text": [
      "Index(['Comment', 'Emotion', 'Cleaned_Comment', 'Cleaned_comment',\n",
      "       'Cleaned_sentences', 'Stemmed_Tokens', 'Processed_Comment'],\n",
      "      dtype='object')\n"
     ]
    }
   ],
   "source": [
    "# Convert tokens back to string for vectorization\n",
    "data['Processed_Comment'] = data['Processed_Comment'].apply(lambda x: ' '.join(x))\n",
    "\n",
    "# Check if 'Processed_Comment' exists in the DataFrame\n",
    "print(data.columns)  # Check columns to ensure 'Processed_Comment' exists\n"
   ]
  },
  {
   "cell_type": "markdown",
   "id": "0783509b-ab7c-435b-b4a3-1de45738dab1",
   "metadata": {},
   "source": [
    "### 2. Feature Extraction"
   ]
  },
  {
   "cell_type": "code",
   "execution_count": 79,
   "id": "da330a6e-62c7-4100-a756-d6f490c19bc9",
   "metadata": {},
   "outputs": [],
   "source": [
    "from sklearn.feature_extraction.text import CountVectorizer, TfidfVectorizer"
   ]
  },
  {
   "cell_type": "code",
   "execution_count": 80,
   "id": "683e0154-e55c-4deb-be24-ba61b52d14e6",
   "metadata": {},
   "outputs": [],
   "source": [
    "# Bag of Words (BoW) method (CountVectorizer method )\n",
    "vectorizer = CountVectorizer()"
   ]
  },
  {
   "cell_type": "code",
   "execution_count": 83,
   "id": "a8a6c844-e735-41a1-a620-75f45bc85731",
   "metadata": {},
   "outputs": [],
   "source": [
    "bow_matrix = vectorizer.fit_transform(data['Processed_Comment'])"
   ]
  },
  {
   "cell_type": "code",
   "execution_count": 84,
   "id": "2b87c288-f312-496d-ad80-ac6e6f0b3b1d",
   "metadata": {},
   "outputs": [
    {
     "name": "stdout",
     "output_type": "stream",
     "text": [
      "[[0 0 0 ... 0 0 0]\n",
      " [0 0 0 ... 0 0 0]\n",
      " [0 0 0 ... 0 0 0]\n",
      " ...\n",
      " [0 0 0 ... 0 0 0]\n",
      " [0 0 0 ... 0 0 0]\n",
      " [0 0 0 ... 0 0 0]]\n"
     ]
    }
   ],
   "source": [
    "bow_array = bow_matrix.toarray()\n",
    "print(bow_array)"
   ]
  },
  {
   "cell_type": "code",
   "execution_count": 85,
   "id": "4d7e775b-52a1-4f7d-9205-e5d5a675802a",
   "metadata": {},
   "outputs": [
    {
     "name": "stdout",
     "output_type": "stream",
     "text": [
      "['aa', 'aac', 'aaron', 'ab', 'abandon', 'abandoned', 'abandonment', 'abbigail', 'abc', 'abdomen', 'abelard', 'abide', 'ability', 'abit', 'able', 'abnormally', 'abound', 'abroad', 'abruptly', 'absence', 'absolute', 'absolutely', 'absolutly', 'absorbed', 'abstract', 'absurdity', 'abuse', 'abusive', 'abyss', 'academia', 'academic', 'accelerated', 'accent', 'accentuating', 'accept', 'acceptable', 'acceptance', 'accepted', 'accepting', 'accepts', 'access', 'accessory', 'accident', 'accidentally', 'acclimated', 'accommodation', 'accompany', 'accomplish', 'accomplished', 'accomplishing', 'accomplishment', 'accordance', 'according', 'account', 'accounted', 'acctually', 'accumulate', 'accumulated', 'accumulation', 'accurate', 'accustomed', 'ache', 'acheivment', 'achieve', 'achieved', 'achievement', 'achieving', 'aching', 'acknowledge', 'acknowledgment', 'acne', 'aconfident', 'acquainted', 'acronym', 'across', 'act', 'acted', 'acting', 'action', 'active', 'actively', 'activism', 'activist', 'activity', 'actor', 'actress', 'actual', 'actuality', 'actually', 'acutely', 'ad', 'adapted', 'adaption', 'add', 'added', 'addicted', 'addictive', 'adding', 'addition', 'address', 'addressing', 'adequately', 'adherence', 'adjust', 'adjustment', 'admin', 'administration', 'administrator', 'admiration', 'admire', 'admired', 'admires', 'admission', 'admit', 'admittance', 'admitted', 'admittedly', 'admitting', 'adn', 'adopt', 'adoption', 'adorable', 'adress', 'adult', 'adulthood', 'advance', 'advancement', 'advantage', 'adventure', 'adventurous', 'advertising', 'advice', 'advise', 'advocate', 'aesthetic', 'affair', 'affeccion', 'affect', 'affected', 'affecting', 'affection', 'affend', 'affirmation', 'afford', 'afield', 'afp', 'afrade', 'afraid', 'african', 'aftermath', 'afternoon', 'afterward', 'afterwards', 'age', 'aged', 'agenda', 'agent', 'aggravated', 'aggression', 'aggressive', 'agiatated', 'agitated', 'agnostic', 'ago', 'agony', 'agree', 'agreed', 'agreement', 'ah', 'ahaha', 'ahahahaha', 'ahead', 'ahkman', 'aid', 'ailment', 'aimed', 'aimlessly', 'aint', 'air', 'aircleaner', 'airport', 'airritated', 'airtime', 'akward', 'al', 'alarm', 'alarmed', 'alaska', 'alba', 'albeit', 'albino', 'album', 'alcest', 'alcohol', 'alert', 'alexis', 'ali', 'alice', 'alight', 'aligncenter', 'alignment', 'alise', 'alive', 'allah', 'allergy', 'alliance', 'allocated', 'allow', 'allowed', 'allowing', 'allows', 'allthingsbucks', 'ally', 'almost', 'aloft', 'alone', 'along', 'alongside', 'aloof', 'alot', 'alphabet', 'already', 'alright', 'alteration', 'alternate', 'alternated', 'alternative', 'although', 'altitude', 'altogether', 'alway', 'always', 'amazing', 'amazingly', 'amazingness', 'ambient', 'ambition', 'ambitious', 'ambulance', 'ambulatory', 'amenity', 'america', 'american', 'amish', 'amits', 'amkris', 'among', 'amongst', 'amos', 'amount', 'amp', 'ampatuan', 'amused', 'amusing', 'amvassago', 'amy', 'anal', 'analyze', 'anansi', 'anatomy', 'ancient', 'andintrupte', 'andover', 'andreas', 'andri', 'andthenwear', 'andy', 'angel', 'angeles', 'anger', 'angered', 'angie', 'angle', 'angry', 'angst', 'angsty', 'anguish', 'animal', 'anime', 'animosity', 'anipike', 'ankle', 'anna', 'anne', 'annie', 'anniversary', 'announced', 'annoy', 'annoyance', 'annoyed', 'annoying', 'annual', 'annulment', 'ano', 'anonymous', 'another', 'anothers', 'ansi', 'answer', 'answered', 'answering', 'antagonism', 'anthology', 'anti', 'antic', 'anticipation', 'antoinette', 'antsy', 'anxiety', 'anxious', 'anxiously', 'anybody', 'anyhow', 'anymore', 'anyone', 'anyones', 'anything', 'anyway', 'anyways', 'anywhere', 'aout', 'apart', 'apartment', 'apathetic', 'apathy', 'apawa', 'apaya', 'apc', 'apgujeong', 'apologise', 'apologize', 'apologizes', 'apologizing', 'apology', 'apostrophe', 'appalled', 'apparent', 'apparently', 'appeal', 'appear', 'appearance', 'appeared', 'appears', 'apple', 'application', 'apply', 'applying', 'appointment', 'appreciate', 'appreciated', 'appreciation', 'appreciative', 'apprehensive', 'approach', 'approached', 'approaching', 'appropriate', 'approx', 'apraxia', 'april', 'apt', 'arab', 'arcade', 'archeological', 'area', 'arena', 'arent', 'argue', 'argued', 'argument', 'arm', 'armed', 'armistice', 'armor', 'army', 'around', 'aroused', 'arousing', 'arrangement', 'arrangment', 'array', 'arrival', 'arrive', 'arrived', 'arriving', 'arrogance', 'arrogant', 'art', 'article', 'articulate', 'articulating', 'artifically', 'artificially', 'artist', 'artistic', 'artistry', 'artwork', 'arun', 'aryiku', 'as', 'asbestos', 'ash', 'ashamed', 'ashers', 'ashton', 'asian', 'aside', 'ask', 'asked', 'asking', 'asks', 'asleep', 'aspect', 'ass', 'assassinated', 'assault', 'assaulted', 'asserting', 'assess', 'assessment', 'asset', 'asshole', 'assignment', 'assistance', 'assistant', 'associate', 'associated', 'association', 'assuage', 'assume', 'assumed', 'assumption', 'assurance', 'assured', 'asylum', 'atari', 'ate', 'atell', 'atention', 'ath', 'atheism', 'atheist', 'athletic', 'athleticism', 'athletics', 'atiqah', 'ativan', 'atleast', 'atm', 'atmosphere', 'atom', 'atrophy', 'attach', 'attached', 'attack', 'attacked', 'attain', 'attempt', 'attempted', 'attempting', 'attend', 'attending', 'attention', 'attic', 'attire', 'attitude', 'attracted', 'attractive', 'attribute', 'aubrey', 'audacity', 'audience', 'audre', 'august', 'aunt', 'austen', 'australia', 'authenticity', 'author', 'authority', 'auto', 'autobiography', 'automatically', 'autumn', 'available', 'average', 'avery', 'avoid', 'avoided', 'avoiding', 'awaiting', 'awaits', 'awake', 'award', 'aware', 'awareness', 'awash', 'away', 'awesome', 'awful', 'awfully', 'awhile', 'awkward', 'awkwardly', 'awkwardness', 'awoken', 'axel', 'ayan', 'baachan', 'babe', 'baby', 'babychaser', 'back', 'backdrop', 'backed', 'background', 'backing', 'backlog', 'backpacking', 'backward', 'backwards', 'bad', 'badass', 'badly', 'badman', 'baffled', 'baffroom', 'bag', 'bagan', 'baggage', 'baggy', 'bah', 'baker', 'baking', 'balance', 'balanced', 'bald', 'balk', 'ball', 'ballet', 'balloon', 'balsamic', 'baltic', 'ban', 'banal', 'banana', 'band', 'bandaid', 'bandhu', 'bang', 'bank', 'banker', 'banking', 'banter', 'baptism', 'baptized', 'bar', 'barbeque', 'barbie', 'barbies', 'bare', 'barely', 'barn', 'barrage', 'barrier', 'base', 'based', 'basement', 'bashful', 'basic', 'basically', 'basis', 'basks', 'bastard', 'batch', 'bath', 'bathing', 'bathroom', 'battered', 'batting', 'battle', 'battling', 'bauer', 'bay', 'bbc', 'beach', 'beacuse', 'bead', 'beam', 'bear', 'bearable', 'bearing', 'beast', 'beat', 'beaten', 'beating', 'beautiful', 'beautifully', 'beauty', 'became', 'becasue', 'become', 'becomes', 'becoming', 'becuz', 'bed', 'bedroom', 'beef', 'beefy', 'beer', 'beg', 'began', 'begging', 'begin', 'beginning', 'begun', 'behalf', 'behave', 'behaving', 'behavior', 'behaviour', 'behind', 'beholder', 'beijing', 'bein', 'being', 'beirut', 'belief', 'believe', 'believed', 'believer', 'believing', 'belittle', 'belittled', 'bell', 'belle', 'bellman', 'belly', 'belong', 'belonged', 'belonging', 'belongingness', 'beloved', 'beluga', 'bemused', 'benadryl', 'bench', 'beneath', 'benedict', 'beneficial', 'benefit', 'benefited', 'benevolent', 'benign', 'benzema', 'berate', 'beside', 'besides', 'best', 'bestselling', 'bet', 'betrayed', 'betraying', 'better', 'bewildered', 'beyond', 'bf', 'bi', 'biannual', 'bias', 'bible', 'biceps', 'bicycle', 'big', 'bigger', 'biggest', 'bigotry', 'bike', 'bill', 'billy', 'bind', 'binding', 'binging', 'bio', 'biochem', 'biochemistry', 'biology', 'bird', 'birding', 'birth', 'birthday', 'birthmoms', 'bishan', 'bit', 'bitch', 'bitching', 'bitchy', 'bite', 'bitstream', 'bitten', 'bitter', 'bitterly', 'bittersweet', 'bizarre', 'black', 'blackburn', 'blackpool', 'blackwater', 'bladder', 'blade', 'blah', 'blake', 'blame', 'blaming', 'blank', 'blare', 'blatant', 'bleed', 'bleeding', 'bleh', 'blender', 'blending', 'blessed', 'blessing', 'bleu', 'blinding', 'blindly', 'blink', 'blissfully', 'bloater', 'block', 'blocked', 'blocking', 'blog', 'blogger', 'blogging', 'bloging', 'bloke', 'blonde', 'blood', 'bloody', 'blossoming', 'blow', 'blowing', 'blown', 'blu', 'blubbering', 'blue', 'blunt', 'blur', 'blurting', 'blush', 'board', 'boasting', 'boat', 'bobbing', 'bobby', 'bod', 'bodega', 'bodily', 'body', 'bodypump', 'bodywork', 'bogged', 'boil', 'boisterous', 'bold', 'bomb', 'bombed', 'bombing', 'bond', 'bonded', 'bonding', 'bondmusings', 'bone', 'boo', 'boob', 'book', 'booked', 'booking', 'bookmark', 'boost', 'boot', 'booth', 'bopping', 'border', 'bore', 'bored', 'boring', 'born', 'borne', 'borrowed', 'bos', 'boss', 'bother', 'bothered', 'bothering', 'bothersome', 'bottle', 'bottling', 'bottom', 'bought', 'bounce', 'bouncier', 'bouncy', 'boundary', 'bout', 'bowel', 'box', 'boxing', 'boy', 'boyfriend', 'brach', 'brad', 'brain', 'brainless', 'brainstorming', 'brand', 'brandy', 'brassed', 'brat', 'brave', 'brazil', 'brazilian', 'break', 'breakfast', 'breaking', 'breast', 'breastfeed', 'breath', 'breathe', 'breathed', 'breathing', 'breed', 'breeze', 'brendon', 'brew', 'brewing', 'bride', 'bridge', 'brief', 'brig', 'bright', 'brighter', 'brilliant', 'bring', 'bringing', 'brings', 'brink', 'britain', 'british', 'britneys', 'bro', 'broaden', 'broadly', 'broke', 'broken', 'brokeup', 'brooding', 'brooklyn', 'broom', 'brother', 'brotherhood', 'brought', 'brow', 'brown', 'browness', 'browse', 'browser', 'bruce', 'brunch', 'brush', 'brutality', 'bsc', 'bt', 'btw', 'bubbling', 'bubbly', 'buck', 'bucket', 'bud', 'budding', 'budget', 'buffed', 'buffy', 'bug', 'build', 'building', 'bul', 'bullied', 'bully', 'bullying', 'bummed', 'bummin', 'bump', 'bumper', 'bunch', 'bundle', 'bunking', 'bunny', 'bunnysuit', 'buoyed', 'burden', 'burdened', 'bureaucracy', 'bureaucrat', 'burger', 'burlesque', 'burmeister', 'burn', 'burner', 'burnt', 'burrowed', 'burst', 'bursting', 'bury', 'bus', 'business', 'busy', 'butchery', 'butt', 'butter', 'butterfly', 'button', 'buy', 'buying', 'buzzy', 'bye', 'cabin', 'cafe', 'caffeine', 'caffeined', 'cage', 'caged', 'cajoled', 'cake', 'caleb', 'caledonia', 'calf', 'calgary', 'california', 'call', 'called', 'caller', 'calling', 'callous', 'callus', 'calm', 'calmed', 'calmer', 'calming', 'cam', 'cambodia', 'came', 'camera', 'cammie', 'camp', 'campaign', 'campus', 'can', 'canada', 'cancel', 'cancelled', 'cancer', 'candle', 'candy', 'candyland', 'canon', 'cant', 'cantankerous', 'canteen', 'canvas', 'capable', 'capacity', 'capp', 'caption', 'capture', 'captured', 'car', 'cara', 'carapace', 'carbs', 'carby', 'card', 'care', 'cared', 'careeeeee', 'career', 'carefree', 'careful', 'caregiver', 'carelessness', 'caretaker', 'carey', 'caring', 'carl', 'carniola', 'carpet', 'carried', 'carry', 'carrying', 'carson', 'carter', 'cartoon', 'cartwheel', 'case', 'cash', 'cashier', 'cassandra', 'cast', 'casual', 'casually', 'cat', 'catalyst', 'catapulted', 'catch', 'catching', 'category', 'caterpillar', 'cath', 'cathartic', 'catholic', 'caught', 'cause', 'caused', 'causing', 'caution', 'cautious', 'cautiously', 'cavalier', 'cave', 'caveman', 'cc', 'ccw', 'cd', 'cdn', 'cede', 'ceiling', 'celebrate', 'celebrated', 'celebration', 'celebrity', 'cell', 'censored', 'censorship', 'center', 'centered', 'central', 'centre', 'century', 'cert', 'certain', 'certainly', 'cesspool', 'cha', 'chadstone', 'chai', 'chained', 'chair', 'chajeul', 'chakotay', 'chalk', 'chalking', 'challenge', 'challenged', 'challenging', 'chamber', 'champagne', 'chance', 'change', 'changed', 'changer', 'changing', 'channel', 'chaos', 'chaotic', 'chaperone', 'chapter', 'character', 'characteristic', 'charge', 'charged', 'charging', 'charitable', 'charity', 'charlie', 'charm', 'charmed', 'charming', 'chase', 'chased', 'chasing', 'chaste', 'chat', 'chatter', 'chatting', 'cheap', 'cheaper', 'cheat', 'cheated', 'cheating', 'check', 'checked', 'checking', 'checklist', 'cheek', 'cheer', 'cheered', 'cheerful', 'cheerfully', 'cheering', 'chemical', 'chemistry', 'chemo', 'chemotherapy', 'cherish', 'cherry', 'chest', 'chewing', 'chick', 'chicken', 'chickie', 'chief', 'child', 'childhood', 'childish', 'childlike', 'chill', 'chin', 'china', 'chinese', 'ching', 'chink', 'chipmunk', 'chipping', 'chocolate', 'chocolating', 'choice', 'choir', 'choose', 'chooses', 'chore', 'chose', 'chosen', 'christ', 'christian', 'christianity', 'christine', 'christmas', 'christmassy', 'chromosome', 'chronically', 'chronicle', 'church', 'churchill', 'churchoffuck', 'churn', 'cigarette', 'cinema', 'circle', 'circuit', 'circumstance', 'citizen', 'city', 'civil', 'civilian', 'claim', 'claimed', 'clairee', 'claret', 'clarify', 'clarity', 'clarke', 'clash', 'class', 'classic', 'classical', 'classmate', 'classroom', 'claustrophobic', 'clawed', 'clay', 'clean', 'cleaned', 'cleaner', 'cleaning', 'cleansing', 'clear', 'clearboth', 'clearer', 'clearly', 'cleat', 'clench', 'clerk', 'clever', 'cliche', 'click', 'clicked', 'clicking', 'client', 'cliff', 'climate', 'climb', 'climbed', 'climbing', 'clingy', 'clinic', 'clinique', 'clint', 'clique', 'clit', 'clock', 'close', 'closed', 'closer', 'closest', 'closet', 'closing', 'closure', 'clothes', 'clothing', 'cloud', 'clover', 'clown', 'club', 'clubbed', 'clue', 'clueless', 'clumsy', 'cluster', 'clutch', 'clutched', 'cluttered', 'cnn', 'co', 'coach', 'coaching', 'coaster', 'coat', 'coca', 'cock', 'code', 'coercive', 'coffee', 'cognitive', 'cognize', 'cohens', 'coin', 'coke', 'cola', 'cold', 'collaboration', 'collar', 'colleague', 'collected', 'collection', 'collective', 'college', 'collide', 'collin', 'colon', 'color', 'colored', 'coloring', 'colour', 'coloured', 'colourful', 'column', 'com', 'combat', 'combination', 'combine', 'combing', 'combo', 'come', 'comeback', 'comedy', 'comfort', 'comfortable', 'comforted', 'comforting', 'comfy', 'comic', 'coming', 'command', 'comment', 'commercialism', 'commie', 'commit', 'commitment', 'committed', 'committee', 'committment', 'commodore', 'common', 'commonplace', 'communicate', 'communication', 'communicator', 'communion', 'community', 'commuter', 'comp', 'companion', 'company', 'comparatively', 'compare', 'compared', 'comparing', 'comparison', 'compartmentalised', 'compassion', 'compelled', 'compensate', 'compere', 'compete', 'competing', 'competition', 'complacent', 'complain', 'complaining', 'complaint', 'complainy', 'complete', 'completed', 'completely', 'completeness', 'completing', 'completion', 'complex', 'complicated', 'compliment', 'complimented', 'composition', 'compost', 'comprehend', 'comprehensive', 'compromised', 'compulsory', 'computer', 'conceal', 'concealer', 'concentrate', 'concentrating', 'concept', 'concern', 'concerned', 'concerning', 'concert', 'concidence', 'concieve', 'conclusion', 'concoction', 'concurrently', 'condemned', 'condemning', 'condescending', 'condition', 'conditioned', 'condone', 'conducive', 'conduct', 'conducted', 'conducting', 'conductor', 'conference', 'confess', 'confessed', 'confidence', 'confident', 'confined', 'confirm', 'conflict', 'conflicted', 'confront', 'confrontation', 'confrontational', 'confused', 'confusion', 'congratulate', 'congratulation', 'conifer', 'connect', 'connected', 'connection', 'conor', 'conscience', 'conscious', 'consciously', 'consequence', 'conservative', 'consider', 'considerable', 'considerate', 'consideration', 'considered', 'considering', 'considers', 'consistent', 'consistently', 'consists', 'consolidate', 'conspiracy', 'constant', 'constantly', 'constipated', 'constitution', 'constitutional', 'constraint', 'constructive', 'constructively', 'construes', 'consulate', 'consultant', 'consulted', 'consumed', 'consumer', 'consumes', 'consuming', 'consumption', 'contact', 'contacting', 'container', 'contemplated', 'contemplating', 'content', 'contented', 'contentedly', 'contest', 'context', 'continental', 'continually', 'continue', 'continued', 'continues', 'continuing', 'continuity', 'continuous', 'contract', 'contradictory', 'contribute', 'contributed', 'contribution', 'control', 'controlled', 'controlling', 'convenience', 'conveniently', 'convention', 'conventional', 'conversation', 'conversing', 'convince', 'convinced', 'convoluted', 'coo', 'cook', 'cookie', 'cooking', 'cooky', 'cool', 'cooped', 'cooperation', 'cooperative', 'coordinate', 'cop', 'copay', 'cope', 'coped', 'coping', 'copper', 'copy', 'copying', 'core', 'corey', 'corinthian', 'corner', 'cornish', 'cornwall', 'coronation', 'corporate', 'correction', 'correctly', 'correctness', 'cosmos', 'cost', 'costly', 'costume', 'cottage', 'couch', 'cough', 'coughing', 'could', 'couldnt', 'couldve', 'coulter', 'councilman', 'counsel', 'counselling', 'counsellor', 'count', 'counted', 'counter', 'countless', 'country', 'couple', 'coupled', 'courage', 'course', 'coursing', 'court', 'courtesy', 'courthouse', 'cousin', 'cover', 'covered', 'covering', 'covingtons', 'cow', 'cox', 'coz', 'cozy', 'cpine', 'craaaaaaack', 'crab', 'crack', 'craft', 'crafted', 'crake', 'cramp', 'cramped', 'cramping', 'cranberry', 'cranky', 'cranny', 'crap', 'crappy', 'crashing', 'crave', 'craving', 'crawl', 'crawling', 'crazily', 'craziness', 'crazy', 'cream', 'create', 'created', 'creating', 'creation', 'creative', 'creatively', 'creativity', 'creator', 'creature', 'cred', 'credential', 'credit', 'creek', 'creep', 'creeping', 'creepy', 'creme', 'crib', 'cried', 'crim', 'crime', 'criminal', 'cringe', 'crisis', 'crisp', 'critical', 'criticism', 'criticizing', 'crochet', 'crocs', 'croissant', 'crol', 'crone', 'cross', 'crossed', 'crossfit', 'crosshatching', 'crossing', 'crossword', 'crowd', 'crowe', 'cru', 'crud', 'crudely', 'cruising', 'crumbling', 'crunch', 'crunched', 'crunching', 'crunchy', 'crunk', 'crush', 'crust', 'cruz', 'cry', 'cryin', 'cs', 'cube', 'cubicle', 'cuddle', 'cue', 'cult', 'culturally', 'culture', 'cumberland', 'cumming', 'cup', 'cupcake', 'curated', 'curb', 'cure', 'curiosity', 'curiously', 'curl', 'curled', 'current', 'currently', 'curriculum', 'curse', 'curtain', 'cushion', 'customary', 'customer', 'cut', 'cute', 'cutesy', 'cutting', 'cuz', 'cya', 'cyber', 'cyberspace', 'cycle', 'cycling', 'cynicism', 'da', 'dad', 'daddy', 'daily', 'dale', 'dallas', 'dam', 'damage', 'damaged', 'damaging', 'damn', 'damnation', 'damp', 'dan', 'dance', 'danced', 'dancer', 'dancing', 'danger', 'dangerous', 'dangerously', 'dannika', 'dare', 'dark', 'darkness', 'darling', 'darn', 'dart', 'dash', 'dasi', 'date', 'dating', 'daughter', 'dave', 'david', 'dawn', 'day', 'daycare', 'daydream', 'daydreamed', 'daydreaming', 'daylight', 'dazs', 'dazzling', 'dd', 'dead', 'deadline', 'deaf', 'deal', 'dealing', 'dealt', 'dean', 'dear', 'death', 'debate', 'debris', 'debt', 'decade', 'decaf', 'deceived', 'december', 'decent', 'decently', 'decide', 'decided', 'decidedly', 'decides', 'deciding', 'decision', 'deck', 'declare', 'decluttering', 'decompress', 'decorate', 'decorative', 'dedicated', 'deed', 'deem', 'deemed', 'deen', 'deep', 'deeper', 'deeply', 'def', 'default', 'defeat', 'defeated', 'defeating', 'defend', 'defended', 'defending', 'defense', 'defensive', 'deferring', 'deffinately', 'defiance', 'definately', 'defination', 'define', 'definite', 'definitely', 'definition', 'definitive', 'deform', 'deformed', 'defriended', 'degrassi', 'degree', 'dejected', 'deke', 'delay', 'delayed', 'delhi', 'deliberate', 'deliberation', 'delicate', 'delicious', 'delight', 'delighted', 'delightful', 'deliver', 'delivered', 'delivery', 'delusion', 'deluxe', 'delve', 'demand', 'demanding', 'democratic', 'demon', 'demonstrate', 'demonstration', 'demostrators', 'demotivate', 'demotivated', 'denial', 'denied', 'denim', 'denise', 'denmark', 'dennis', 'denounced', 'dent', 'dentist', 'deny', 'denying', 'deo', 'deodorant', 'depend', 'dependent', 'depending', 'depends', 'depleted', 'depois', 'deprecation', 'depressant', 'depressed', 'depression', 'depth', 'deranged', 'derby', 'derek', 'derfwadmanor', 'derp', 'descara', 'describe', 'described', 'describes', 'describing', 'description', 'deserted', 'deserve', 'deserves', 'design', 'designed', 'designer', 'designing', 'desirable', 'desire', 'desiring', 'desk', 'desolate', 'desp', 'despair', 'desperate', 'desperately', 'desperation', 'despise', 'despised', 'despite', 'despondent', 'dessert', 'destination', 'destined', 'destiny', 'destroyed', 'destroying', 'destruction', 'destructive', 'detail', 'detailed', 'detailing', 'detatched', 'determination', 'determine', 'determined', 'detest', 'detested', 'detoured', 'devastated', 'devastating', 'develop', 'developed', 'development', 'devil', 'devin', 'devoid', 'devote', 'devoted', 'devotee', 'dew', 'dezinesamaze', 'dh', 'dharavi', 'dharma', 'dial', 'dialed', 'dialog', 'diane', 'diary', 'diazepam', 'dick', 'dickensian', 'dickinson', 'dickish', 'dictated', 'didnt', 'die', 'died', 'diet', 'dieting', 'difference', 'different', 'differently', 'difficult', 'difficulty', 'dig', 'digesting', 'digging', 'dignified', 'dignity', 'digress', 'digust', 'diktats', 'dilute', 'diminish', 'diminishing', 'dimple', 'din', 'dine', 'dingler', 'dining', 'dink', 'dinn', 'dinner', 'dint', 'dipshit', 'dire', 'direct', 'directed', 'directing', 'direction', 'directly', 'director', 'dirt', 'dirty', 'disability', 'disabled', 'disadvantaged', 'disagree', 'disagreement', 'disappear', 'disappoint', 'disappointed', 'disappointment', 'disaster', 'disbelief', 'discernment', 'disciple', 'disclaimer', 'disclosure', 'disco', 'discomfort', 'disconnect', 'disconnected', 'discontent', 'discouraged', 'discover', 'discovered', 'discovering', 'discovery', 'discus', 'discussed', 'discussing', 'discussion', 'disdain', 'disdainful', 'disease', 'disengaged', 'disgruntled', 'disgust', 'disgusted', 'disgusting', 'dish', 'dishonoring', 'dishwasher', 'disinterested', 'disjointed', 'dismayed', 'dismiss', 'dismisses', 'dismissing', 'disorder', 'disorganised', 'disorientated', 'disoriented', 'dispersed', 'displaced', 'displacement', 'display', 'displayed', 'displeasing', 'disposable', 'disqualification', 'disregard', 'disregarding', 'disrespect', 'disrespected', 'disrupt', 'dissassociated', 'dissatisfaction', 'dissatisfied', 'disservice', 'dissipate', 'dissolving', 'distance', 'distinct', 'distinctly', 'distorted', 'distortion', 'distracted', 'distracting', 'distraction', 'distraught', 'distress', 'distressed', 'distributor', 'distrustful', 'disturb', 'ditlevsen', 'div', 'diverse', 'diversity', 'divert', 'divine', 'divinity', 'division', 'divorce', 'diwali', 'diy', 'dizzy', 'dlk', 'dlpt', 'dm', 'doc', 'doctor', 'document', 'documented', 'doedollil', 'doesnt', 'dog', 'doha', 'doll', 'dollar', 'dom', 'dominant', 'dominican', 'donated', 'donation', 'done', 'dong', 'donning', 'dont', 'dontknow', 'donut', 'doodly', 'doom', 'doomnation', 'door', 'doorway', 'dopey', 'dorama', 'dork', 'dorky', 'dorm', 'dose', 'dot', 'double', 'doubt', 'doubtful', 'doubting', 'dough', 'down', 'downer', 'downright', 'downvoted', 'dozen', 'dp', 'dpt', 'dr', 'draft', 'drafted', 'drafting', 'drag', 'dragged', 'dragging', 'dragon', 'drained', 'drama', 'dramatic', 'drank', 'draw', 'drawer', 'drawing', 'drawn', 'dread', 'dreaded', 'dreadful', 'dreading', 'dream', 'dreamed', 'dreaming', 'dress', 'dressed', 'dressing', 'drew', 'dried', 'drink', 'drinkin', 'drinking', 'drive', 'driven', 'driver', 'driving', 'droop', 'drop', 'dropping', 'drove', 'drowning', 'drs', 'drug', 'drum', 'drunk', 'dry', 'dsp', 'dubai', 'dubstep', 'duckie', 'duct', 'due', 'duh', 'duke', 'dull', 'dulles', 'dullness', 'dumb', 'dummy', 'dump', 'dumpee', 'dumping', 'dun', 'dung', 'dunham', 'dunno', 'duped', 'dust', 'duty', 'dvd', 'dwell', 'dwelling', 'dying', 'dykey', 'dylan', 'eager', 'eagerly', 'eagle', 'ear', 'earlier', 'earliest', 'early', 'earn', 'earning', 'earring', 'earth', 'eartha', 'earthquake', 'ease', 'easel', 'easi', 'easier', 'easiest', 'easily', 'easter', 'easy', 'eat', 'eaten', 'eater', 'eatery', 'eating', 'ebay', 'ebb', 'ebooks', 'echo', 'economic', 'economically', 'economy', 'ecstasy', 'ecstatic', 'ed', 'edge', 'edgy', 'edit', 'edition', 'edochie', 'educate', 'educating', 'education', 'educationg', 'effect', 'effecting', 'effective', 'effectively', 'efficient', 'effort', 'effortlessly', 'egalitarian', 'egan', 'egf', 'egg', 'egypt', 'eh', 'ehb', 'ehh', 'eid', 'eight', 'eighteen', 'either', 'elated', 'elation', 'elder', 'elderly', 'election', 'electrified', 'elegant', 'element', 'elevated', 'elf', 'elle', 'elliptical', 'eloquence', 'eloquent', 'else', 'elses', 'elsewhere', 'elusive', 'elusively', 'em', 'email', 'emanating', 'embarassing', 'embarrased', 'embarrassed', 'embedding', 'ember', 'embrace', 'emerge', 'emergency', 'emily', 'eminent', 'emm', 'emo', 'emoticon', 'emotion', 'emotional', 'emotionally', 'emotionless', 'empathize', 'empathy', 'emphasize', 'employ', 'employee', 'employer', 'employment', 'empowered', 'empowering', 'empowerment', 'emptied', 'emptiness', 'empty', 'en', 'enabling', 'enacting', 'encapsulate', 'encased', 'encoding', 'encounter', 'encountered', 'encourage', 'encouraged', 'encouragement', 'end', 'endeavor', 'endeavoring', 'ended', 'ending', 'endless', 'endorphin', 'endurance', 'endure', 'endzone', 'enemy', 'energetic', 'energetically', 'energised', 'energized', 'energy', 'engage', 'engaged', 'engagement', 'engineer', 'engineering', 'england', 'english', 'enhance', 'enjambment', 'enjoy', 'enjoyable', 'enjoyed', 'enjoying', 'enjoyment', 'enjoys', 'enlist', 'enmayi', 'enormous', 'enormously', 'enough', 'enraged', 'enriching', 'ensue', 'ensure', 'ensuring', 'entail', 'enter', 'entered', 'entering', 'entertained', 'entertainer', 'entertainment', 'enthusiasm', 'enthusiast', 'enthusiastic', 'entire', 'entirelly', 'entirely', 'entirety', 'entitled', 'entrance', 'entrusted', 'entry', 'enuff', 'envelope', 'enveloped', 'envelops', 'envious', 'enviously', 'environment', 'environmental', 'envisioned', 'envous', 'epic', 'epileptic', 'episode', 'eqafe', 'equal', 'equally', 'equivalent', 'eric', 'erik', 'erm', 'error', 'errrr', 'erupt', 'escape', 'escaped', 'eschew', 'escorting', 'esily', 'esp', 'especially', 'essay', 'essence', 'essential', 'essentially', 'established', 'estimate', 'etape', 'etc', 'eternal', 'eternally', 'eternity', 'ethical', 'ethiopia', 'etsy', 'euan', 'eucharist', 'euphoria', 'euro', 'european', 'eurovision', 'evaluate', 'evaluation', 'evangelical', 'evaporate', 'eve', 'even', 'evening', 'event', 'eventual', 'eventually', 'ever', 'everchanging', 'every', 'everybody', 'everyday', 'everyone', 'everyones', 'everything', 'everythings', 'everytime', 'everywhere', 'evidence', 'evil', 'evoked', 'evolve', 'ewan', 'ex', 'exact', 'exactly', 'exaggerating', 'exaggeration', 'exam', 'examination', 'examine', 'examining', 'example', 'exboyfriend', 'exceedingly', 'excelent', 'excellent', 'except', 'exception', 'exceptional', 'exceptionally', 'excessive', 'exchange', 'exchanging', 'excited', 'excitedly', 'excitement', 'exciting', 'excitment', 'exclusively', 'excruciating', 'excuse', 'execute', 'executed', 'executing', 'execution', 'executive', 'exempted', 'exercise', 'exercised', 'exercising', 'exert', 'exhaling', 'exhausted', 'exhausting', 'exhibit', 'exhilarated', 'exhilarating', 'exhilirated', 'existance', 'existed', 'existent', 'existing', 'exists', 'exit', 'exited', 'exiting', 'expect', 'expectation', 'expected', 'expecting', 'expense', 'expensive', 'experience', 'experienced', 'experiencing', 'experiment', 'experimented', 'expert', 'explain', 'explaining', 'explains', 'explanation', 'explode', 'explodes', 'exploration', 'explore', 'explored', 'explorer', 'exploring', 'export', 'exposed', 'exposing', 'exposure', 'express', 'expressed', 'expressing', 'expression', 'expressive', 'extension', 'extent', 'exterior', 'external', 'externally', 'extra', 'extraordinarily', 'extreme', 'extremely', 'extrememly', 'eye', 'eyebrow', 'eyelid', 'fab', 'fabric', 'fabulous', 'face', 'facebook', 'facing', 'fact', 'factor', 'factory', 'faculty', 'fad', 'fade', 'fail', 'failed', 'failing', 'fails', 'failure', 'fair', 'fairly', 'fairy', 'faith', 'faithful', 'faithfulness', 'fake', 'fall', 'fallen', 'falling', 'false', 'falun', 'fam', 'familiar', 'family', 'famous', 'fan', 'fanatic', 'fandom', 'fanfictions', 'fangirls', 'fantabulous', 'fantastic', 'fantasy', 'far', 'fare', 'farm', 'fascinated', 'fascitis', 'fashion', 'fashionable', 'fashioned', 'fast', 'faster', 'fastforwarding', 'fat', 'fatale', 'fate', 'father', 'fathom', 'fault', 'faux', 'favor', 'favorable', 'favorite', 'favour', 'favourite', 'favs', 'fear', 'feared', 'fearful', 'fearless', 'feat', 'feature', 'feauture', 'feautures', 'february', 'fed', 'federal', 'federer', 'fedex', 'fedotenko', 'fedtastic', 'feeble', 'feed', 'feedback', 'feeder', 'feeding', 'feedlinks', 'feel', 'feelbut', 'feelin', 'feeling', 'feelingless', 'feely', 'fell', 'fellow', 'fellowship', 'felt', 'female', 'feminism', 'feminist', 'femme', 'ferocious', 'fertility', 'fervor', 'fester', 'festive', 'feta', 'fetch', 'fetched', 'feverish', 'feverishly', 'fff', 'ffs', 'ffxi', 'fiance', 'fiber', 'fiction', 'fiddle', 'fiddly', 'field', 'fierce', 'fierceness', 'fifteen', 'fight', 'fighting', 'figt', 'figure', 'figured', 'file', 'fill', 'filled', 'filling', 'film', 'filmfare', 'filmmaker', 'final', 'finality', 'finally', 'finance', 'financial', 'financially', 'finchers', 'find', 'finding', 'fine', 'finger', 'finish', 'finished', 'finishing', 'finland', 'finn', 'finnerty', 'fire', 'firefly', 'fireplace', 'firey', 'firm', 'firming', 'first', 'firstborn', 'fish', 'fishing', 'fist', 'fit', 'fitness', 'fitted', 'fitting', 'five', 'fix', 'flagellating', 'flailing', 'flake', 'flakiness', 'flame', 'flamingo', 'flash', 'flashing', 'flashlight', 'flat', 'flatmate', 'flattened', 'flattered', 'flaunt', 'flavor', 'flavour', 'flaw', 'flawless', 'fled', 'flee', 'flesh', 'fleshed', 'flew', 'flexible', 'flexy', 'flickering', 'flicking', 'flight', 'flighty', 'flinched', 'fling', 'flip', 'flipping', 'flirt', 'flirtiing', 'flirty', 'floating', 'flooding', 'floor', 'flop', 'floral', 'florence', 'florida', 'flounder', 'flourishing', 'flow', 'flowed', 'flower', 'flung', 'flush', 'flushing', 'flustered', 'flutter', 'fluttering', 'fly', 'flying', 'fma', 'focalors', 'focus', 'focused', 'fog', 'foggy', 'foist', 'fold', 'folk', 'follow', 'followed', 'follower', 'following', 'follows', 'font', 'food', 'foodie', 'fool', 'fooled', 'foolish', 'foot', 'football', 'footing', 'foraging', 'force', 'forced', 'foreboding', 'forecast', 'forefinger', 'forefront', 'forego', 'forehead', 'foreign', 'foreshadowing', 'forever', 'forget', 'forgetting', 'forgive', 'forgiving', 'forgot', 'forgotten', 'form', 'formal', 'format', 'formed', 'former', 'formula', 'formulate', 'forsaken', 'forth', 'fortnight', 'fortunate', 'fortune', 'forum', 'forward', 'fought', 'foul', 'found', 'foundation', 'foundry', 'fountain', 'four', 'foward', 'fps', 'fragile', 'fragmented', 'fragrance', 'frail', 'frailty', 'frame', 'france', 'frankly', 'frantic', 'frantically', 'franz', 'fraser', 'frazzle', 'freak', 'freaked', 'freaking', 'freakishly', 'free', 'freedom', 'freely', 'french', 'frequency', 'frequented', 'frequently', 'fresh', 'freshen', 'freshman', 'freud', 'fri', 'frickin', 'friday', 'fridge', 'friend', 'friendly', 'friendship', 'friggety', 'friggin', 'frightened', 'frightening', 'frightful', 'frizz', 'frock', 'fromthe', 'front', 'frosting', 'frozen', 'frugal', 'fruit', 'frusterated', 'frustrated', 'frustration', 'fuck', 'fucked', 'fuckin', 'fucking', 'fuel', 'fuhrer', 'fulfill', 'fulfilled', 'fulfilling', 'full', 'fullest', 'fullness', 'fully', 'fume', 'fun', 'function', 'fund', 'fundamentalist', 'fundamentally', 'funk', 'funky', 'funny', 'furious', 'furniture', 'furstenberg', 'fuss', 'futile', 'futon', 'future', 'gabapentin', 'gabriella', 'gag', 'gain', 'gained', 'gaining', 'gal', 'gallery', 'gallows', 'galvanised', 'game', 'gamer', 'gan', 'gander', 'ganging', 'gap', 'garage', 'garbage', 'garden', 'garment', 'gas', 'gaseumi', 'gastric', 'gate', 'gateway', 'gather', 'gathered', 'gathering', 'gatorade', 'gatsseo', 'gauche', 'gave', 'gay', 'gear', 'geared', 'ged', 'geek', 'geez', 'gel', 'gender', 'gene', 'genealogical', 'genentech', 'general', 'generally', 'generated', 'generation', 'generational', 'generator', 'generic', 'generosity', 'generous', 'genetics', 'genius', 'genre', 'gentle', 'gentleman', 'gently', 'genuine', 'genuinely', 'george', 'georgia', 'gerling', 'germ', 'german', 'gervase', 'gesture', 'get', 'gettin', 'getting', 'gfathers', 'ghost', 'giant', 'giddy', 'gift', 'gifted', 'gigantic', 'giggle', 'giggly', 'gina', 'ginger', 'girl', 'girlfriend', 'girly', 'give', 'giveaway', 'given', 'giver', 'giving', 'glad', 'glamorous', 'glamour', 'glamourous', 'glance', 'glanced', 'glancing', 'glare', 'glaring', 'glasgow', 'glass', 'glc', 'glee', 'gleefully', 'glenn', 'glimpse', 'glint', 'glistening', 'glitter', 'global', 'globe', 'glory', 'gloss', 'glove', 'glowing', 'glued', 'gluten', 'glycemic', 'gm', 'gnawing', 'go', 'goal', 'god', 'goddamn', 'goddess', 'going', 'gold', 'golden', 'goldilocks', 'goliath', 'gon', 'gone', 'gong', 'good', 'goodbye', 'goodie', 'goodness', 'gook', 'gooooood', 'gore', 'gorgeous', 'gorgeously', 'got', 'gotong', 'gotten', 'government', 'governor', 'gown', 'grab', 'grabbed', 'grabbing', 'grace', 'graceful', 'gracious', 'grade', 'grader', 'gradually', 'graduate', 'graduating', 'graduation', 'grammar', 'grand', 'grandchild', 'grandeur', 'grandfather', 'grandma', 'grandmother', 'grandparent', 'granted', 'graphic', 'grappled', 'grasp', 'grasping', 'grateful', 'gratefulness', 'gratitude', 'gratuitously', 'gravity', 'grayish', 'greasy', 'great', 'greater', 'greatest', 'greatly', 'greatness', 'greed', 'greedy', 'green', 'greeted', 'greg', 'grew', 'grey', 'grief', 'grievance', 'grieving', 'grim', 'grin', 'grinned', 'grip', 'gripped', 'grit', 'grocery', 'gross', 'grossly', 'grotesque', 'grouchy', 'ground', 'grounded', 'group', 'grove', 'grow', 'growing', 'growled', 'grown', 'growth', 'grudge', 'grumble', 'grumpy', 'gt', 'guarantee', 'guard', 'guess', 'guessed', 'guessing', 'guest', 'guidance', 'guide', 'guilt', 'guilty', 'guitar', 'gulam', 'gulped', 'gummy', 'gun', 'guru', 'gush', 'gut', 'gutted', 'guy', 'gwiyomi', 'gym', 'haagen', 'habit', 'habitual', 'hacking', 'hackle', 'hadnt', 'hae', 'haggard', 'haha', 'hail', 'hair', 'hairstyle', 'hakodesh', 'half', 'halfway', 'hall', 'halloween', 'hallucinate', 'hallucination', 'hamper', 'hampered', 'hanbeon', 'hand', 'handbag', 'handbrake', 'handed', 'handful', 'handheld', 'handing', 'handle', 'handled', 'handmade', 'handrail', 'handsome', 'hanford', 'hang', 'hanging', 'hangover', 'hannah', 'hannahs', 'hansen', 'hapiness', 'happen', 'happened', 'happening', 'happens', 'happier', 'happily', 'happiness', 'happpy', 'happy', 'haptic', 'haptics', 'harass', 'harbor', 'hard', 'hardcore', 'hardcover', 'harden', 'harder', 'hardest', 'hardly', 'hardness', 'hardship', 'harm', 'harmed', 'harmful', 'harmfully', 'harmony', 'harrass', 'harrassment', 'harsh', 'harvest', 'harvey', 'hasan', 'hasnt', 'hastings', 'hat', 'hatchet', 'hate', 'hated', 'hateful', 'hater', 'hating', 'hatred', 'hatter', 'haul', 'hauled', 'hausa', 'hav', 'havent', 'hawk', 'haze', 'he', 'head', 'headache', 'headed', 'heading', 'headlamp', 'headless', 'headlock', 'headphone', 'heal', 'healing', 'health', 'healthcare', 'healthy', 'heap', 'hear', 'heard', 'hearing', 'hears', 'heart', 'heartache', 'heartbroken', 'heartburn', 'hearted', 'heartedly', 'heartless', 'heat', 'heated', 'heathen', 'heaven', 'heavenly', 'heavier', 'heavily', 'heaviness', 'heaving', 'heavy', 'heck', 'hed', 'hedgehog', 'heed', 'heel', 'hefty', 'hehe', 'height', 'heinous', 'heinously', 'held', 'hell', 'hellip', 'help', 'helped', 'helping', 'helpless', 'helvetica', 'hemorrhoid', 'hen', 'hence', 'hepburn', 'heralding', 'here', 'hero', 'herod', 'herrman', 'hertha', 'herzog', 'hesitant', 'hesitate', 'hesitation', 'heureulsurok', 'hey', 'hgtv', 'hi', 'hidden', 'hide', 'hiding', 'high', 'higher', 'highest', 'highlight', 'highly', 'highschool', 'hihi', 'hike', 'hilarious', 'hill', 'hindered', 'hint', 'hip', 'hire', 'historian', 'history', 'hit', 'hitting', 'hmmm', 'hoard', 'hoax', 'hobbs', 'hobby', 'hockey', 'hogging', 'hohoho', 'hold', 'holding', 'hole', 'holiday', 'holier', 'holistic', 'holler', 'hollow', 'holloway', 'holly', 'hollywood', 'holy', 'homage', 'home', 'homeland', 'homeless', 'homemaking', 'homeschooling', 'homesick', 'hometown', 'homework', 'homis', 'homosexuality', 'honest', 'honestly', 'honesty', 'honey', 'hong', 'honkerblonked', 'honor', 'honored', 'honoured', 'hoo', 'hood', 'hookah', 'hooker', 'hop', 'hope', 'hoped', 'hopeful', 'hopefully', 'hopeless', 'hopelessly', 'hopelessness', 'hoping', 'hopped', 'horizontal', 'hormone', 'horrible', 'horribly', 'horrid', 'horror', 'horse', 'horsey', 'hospital', 'host', 'hosted', 'hostel', 'hostile', 'hot', 'hotel', 'hotshot', 'hour', 'hourglass', 'house', 'housebound', 'housewife', 'however', 'hp', 'hr', 'href', 'http', 'hu', 'hubby', 'huckleberry', 'hug', 'huge', 'hugely', 'hugging', 'huhuhu', 'hum', 'human', 'humanbeings', 'humanly', 'humble', 'humbled', 'humblest', 'humbug', 'humiliated', 'humility', 'hummpffff', 'humor', 'humorous', 'humping', 'hun', 'hundred', 'hunger', 'hungry', 'hunter', 'hurry', 'hurt', 'hurtful', 'hurting', 'husband', 'hussein', 'hw', 'hyena', 'hype', 'hyper', 'hyperchondria', 'hyperemesis', 'hypersexual', 'hyperthyroidism', 'hyperventilating', 'hypocrite', 'hypocritical', 'hyundai', 'hyunjin', 'ibleeditout', 'ibs', 'ice', 'iced', 'ick', 'icon', 'id', 'idea', 'ideal', 'idealistic', 'idealized', 'identify', 'identifying', 'identity', 'idiocy', 'idiosyncrasy', 'idiot', 'idk', 'idling', 'idol', 'idrc', 'idreamculture', 'ie', 'ignites', 'ignorance', 'ignorant', 'ignore', 'ignored', 'ignoring', 'ii', 'iii', 'ill', 'illness', 'illogically', 'illustrating', 'illustration', 'illustrator', 'ima', 'image', 'imaginary', 'imagination', 'imagine', 'imagined', 'imagining', 'imdoing', 'img', 'immature', 'immediate', 'immediately', 'immedietly', 'immense', 'immensely', 'immobile', 'immune', 'impacting', 'impatient', 'impending', 'imperfect', 'implant', 'implement', 'implementing', 'implication', 'implies', 'impolite', 'importance', 'important', 'importantly', 'imposed', 'impossible', 'impostor', 'impotent', 'impoverished', 'impractical', 'impressed', 'impression', 'impressionable', 'impressive', 'impromptu', 'improv', 'improve', 'improved', 'improvement', 'improving', 'impulsive', 'inability', 'inaction', 'inanimate', 'inbalance', 'incapable', 'incase', 'incense', 'incessant', 'inch', 'incheswhyinches', 'incident', 'inclined', 'include', 'included', 'includes', 'including', 'income', 'incomplete', 'inconsiderate', 'inconsistent', 'inconvenience', 'incorporate', 'incorporated', 'incorrect', 'increase', 'increasing', 'increasingly', 'incredible', 'incredibly', 'incrementally', 'indecisive', 'indeed', 'indentured', 'independence', 'independent', 'india', 'indicated', 'indication', 'indigo', 'individual', 'individually', 'indonesia', 'induced', 'inducing', 'indulge', 'indulgence', 'indulgent', 'industry', 'inevitable', 'inevitably', 'inexperience', 'infection', 'inferior', 'infield', 'inflating', 'influence', 'influenced', 'influencing', 'info', 'inform', 'information', 'informed', 'informing', 'infuriated', 'ing', 'ingrain', 'ingrained', 'inhibited', 'inhuman', 'initally', 'initial', 'initially', 'initiation', 'injection', 'injured', 'injury', 'injustice', 'ink', 'inline', 'innanimate', 'innate', 'inner', 'innocent', 'innovation', 'input', 'inquire', 'insane', 'insanely', 'insecure', 'insecured', 'insecurity', 'insensitive', 'insert', 'inside', 'insider', 'insidious', 'insight', 'insignificant', 'insincere', 'insist', 'insisted', 'insomnia', 'inspect', 'inspected', 'inspiration', 'inspired', 'inspires', 'inspiring', 'instagram', 'instance', 'instant', 'instantly', 'instead', 'instigated', 'instinct', 'instinctively', 'instructables', 'instruction', 'insult', 'insulted', 'insulting', 'intact', 'integrity', 'intellect', 'intellectual', 'intellectually', 'intelligence', 'intelligent', 'intend', 'intended', 'intense', 'intensely', 'intensifying', 'intent', 'intention', 'intentional', 'intentionality', 'intentionally', 'inter', 'interacted', 'interaction', 'intercourse', 'interest', 'interested', 'interesting', 'intermarrying', 'interminable', 'intermittent', 'internally', 'internet', 'internist', 'internship', 'interrupt', 'interrupted', 'intervention', 'interview', 'intimate', 'intimated', 'intimately', 'intimidate', 'intimidated', 'intolerably', 'intrigued', 'intro', 'introduce', 'introducing', 'introduction', 'intrusion', 'intrusive', 'intuition', 'intuitive', 'invade', 'invaded', 'invented', 'inventory', 'invest', 'invested', 'investigate', 'investigator', 'investing', 'investment', 'invigorated', 'invitation', 'invite', 'invited', 'inviting', 'involved', 'involves', 'involving', 'iolani', 'ipad', 'ipod', 'iraq', 'irate', 'iris', 'irma', 'ironic', 'ironically', 'irrational', 'irrationally', 'irregardless', 'irreplaceable', 'irresistable', 'irresistible', 'irresponcible', 'irritable', 'irritated', 'irritation', 'isaac', 'ish', 'islam', 'island', 'ismobile', 'isnt', 'isolated', 'isolation', 'isprivate', 'isprivateblog', 'israel', 'issue', 'issued', 'italian', 'italy', 'itchy', 'itd', 'itdamyeon', 'item', 'iteration', 'itge', 'itll', 'itv', 'ivory', 'ivspirit', 'ivy', 'jack', 'jacked', 'jacket', 'jackson', 'jacynthe', 'jade', 'jaded', 'jail', 'jakun', 'jalopy', 'james', 'jammed', 'jan', 'jane', 'janelle', 'janine', 'janne', 'january', 'japanese', 'jar', 'jason', 'jaw', 'jazz', 'jcho', 'jdelivery', 'jealous', 'jealousy', 'jeanette', 'jeannie', 'jeff', 'jennifer', 'jens', 'jeremy', 'jerk', 'jerome', 'jerry', 'jersey', 'jesus', 'jew', 'jewellery', 'jewelry', 'ji', 'jia', 'jilted', 'jim', 'job', 'joel', 'johann', 'join', 'joining', 'joke', 'joking', 'jolly', 'jon', 'jonalyn', 'jones', 'jonesing', 'joseph', 'joshua', 'jot', 'journal', 'journalism', 'journalist', 'journey', 'joy', 'joyful', 'joyous', 'jsk', 'jubilant', 'jubilation', 'judeo', 'judge', 'judged', 'judging', 'judgment', 'jug', 'jugra', 'juice', 'juicy', 'julia', 'julian', 'july', 'jump', 'jumped', 'jumping', 'jumpy', 'jungle', 'junior', 'junk', 'justanswer', 'justice', 'justification', 'justified', 'justify', 'justifying', 'justin', 'justly', 'jz', 'kai', 'kairi', 'kakashi', 'kardashion', 'karen', 'kassim', 'kastrioti', 'katanya', 'kate', 'kathy', 'katniss', 'kay', 'kayle', 'keen', 'keenly', 'keep', 'keeping', 'keith', 'ken', 'kenny', 'kept', 'key', 'keyboard', 'kg', 'khartoum', 'khatsii', 'kiat', 'kick', 'kicked', 'kid', 'kidnapped', 'kierkegaard', 'kill', 'killed', 'killer', 'killing', 'kim', 'kin', 'kind', 'kinda', 'kindest', 'kindly', 'kindness', 'king', 'kingdom', 'kinship', 'kiss', 'kissed', 'kissing', 'kit', 'kitchen', 'kite', 'kitt', 'kj', 'km', 'knee', 'kneel', 'knew', 'knight', 'knit', 'knitter', 'knitting', 'knock', 'knot', 'know', 'knowing', 'knowingly', 'knowledge', 'known', 'kodi', 'kome', 'kong', 'kook', 'krupke', 'kurt', 'kyuhyun', 'la', 'lab', 'label', 'labor', 'labour', 'laced', 'lack', 'lacking', 'lacklustre', 'laconic', 'lacy', 'ladder', 'lady', 'laetshi', 'lagging', 'laid', 'lair', 'laiya', 'lake', 'lamb', 'lambrusco', 'lame', 'lance', 'land', 'landed', 'landlubber', 'language', 'languagedirection', 'lap', 'lapel', 'lapse', 'laptop', 'large', 'largely', 'larger', 'lash', 'last', 'lasting', 'latch', 'late', 'lately', 'later', 'latest', 'lathi', 'latte', 'latter', 'laugh', 'laughed', 'laughing', 'laughter', 'launch', 'laundering', 'laundry', 'lava', 'lavender', 'law', 'lawn', 'lawrencewashington', 'lawyer', 'lax', 'lay', 'layer', 'laying', 'layout', 'laze', 'laziness', 'lazy', 'lb', 'le', 'lea', 'lead', 'leaden', 'leader', 'leading', 'leadingstrings', 'leaf', 'lean', 'leanne', 'leap', 'learing', 'learn', 'learned', 'learning', 'learns', 'learnt', 'least', 'leather', 'leave', 'leaving', 'lecture', 'led', 'lee', 'leer', 'left', 'leg', 'legacy', 'legality', 'legard', 'legend', 'legitimate', 'lego', 'leisurely', 'lemon', 'lemonade', 'lending', 'lends', 'lenghth', 'length', 'lengthy', 'lens', 'lensflares', 'lent', 'leopard', 'leslie', 'less', 'lessen', 'lesson', 'lest', 'lestat', 'let', 'lethargic', 'lette', 'letter', 'letting', 'lettuce', 'level', 'lexicon', 'li', 'liar', 'liberal', 'liberated', 'libertine', 'liberty', 'library', 'lick', 'lie', 'liebkind', 'liebster', 'lied', 'life', 'lifeline', 'lifestyle', 'lifetime', 'lift', 'lifted', 'lifting', 'light', 'lighted', 'lighten', 'lightening', 'lighter', 'lighting', 'lightly', 'lightning', 'like', 'likeable', 'likeaudrey', 'liked', 'likelihood', 'likely', 'likewise', 'liking', 'lil', 'lily', 'limbo', 'limit', 'limitation', 'limited', 'linda', 'line', 'lined', 'linger', 'link', 'linus', 'linux', 'lip', 'lipstick', 'lisa', 'list', 'listen', 'listened', 'listener', 'listening', 'lit', 'literally', 'literary', 'litte', 'little', 'live', 'liveagainsttheflow', 'lived', 'livejournals', 'lively', 'living', 'lj', 'ller', 'load', 'loathe', 'loathing', 'lobbying', 'lobia', 'local', 'locale', 'lock', 'locked', 'locker', 'locking', 'log', 'logging', 'logic', 'logical', 'logistics', 'lol', 'lolita', 'lollipop', 'lollypop', 'london', 'lone', 'loneliness', 'lonely', 'loner', 'long', 'longer', 'longest', 'longing', 'longingly', 'look', 'looked', 'lookin', 'looking', 'looming', 'loop', 'loos', 'loose', 'loquacious', 'lord', 'lorde', 'lorena', 'los', 'lose', 'loser', 'losing', 'loss', 'lost', 'lot', 'lottery', 'lotus', 'louche', 'loud', 'louder', 'loudly', 'loudons', 'louis', 'lounge', 'love', 'loved', 'lovely', 'lover', 'loving', 'low', 'lower', 'lowest', 'lowlights', 'lowly', 'loyal', 'lp', 'lrt', 'ltr', 'luck', 'luckily', 'lucky', 'lucy', 'luftwaffe', 'luggage', 'luka', 'luke', 'luminary', 'lump', 'lunch', 'lung', 'lunge', 'lupron', 'lured', 'luring', 'lurker', 'lurking', 'lush', 'lve', 'lying', 'lyric', 'ma', 'mac', 'macabre', 'machine', 'mad', 'made', 'madness', 'maggie', 'magi', 'magic', 'magical', 'magnitude', 'maid', 'mail', 'mailbox', 'mailman', 'mailorder', 'main', 'mainly', 'mainstream', 'maintain', 'maintaining', 'major', 'majority', 'majorly', 'mak', 'make', 'makeup', 'making', 'male', 'malignant', 'mall', 'mama', 'mamma', 'mammogram', 'mammoth', 'man', 'manage', 'manageable', 'managed', 'manager', 'mane', 'manhood', 'maniacal', 'manicure', 'manifestation', 'manifesting', 'manila', 'manipulate', 'manipulated', 'manipulkated', 'manirado', 'manitz', 'manner', 'mantra', 'manual', 'manure', 'manuscript', 'many', 'map', 'mara', 'marathon', 'marge', 'margin', 'marginalised', 'marginally', 'mariah', 'marie', 'marijuana', 'mark', 'market', 'marketer', 'marriage', 'married', 'marry', 'marrying', 'marshal', 'marshmallow', 'mart', 'marten', 'martin', 'martinez', 'marvel', 'marveling', 'marvellous', 'marvelous', 'mary', 'maryland', 'masala', 'masculinity', 'mask', 'mass', 'massage', 'massive', 'massively', 'master', 'mastered', 'mastery', 'mat', 'match', 'mate', 'material', 'materialistic', 'maternal', 'matter', 'matty', 'max', 'may', 'maybe', 'maze', 'mba', 'mcas', 'mcdonalds', 'mcgarrigle', 'mcpherson', 'md', 'mda', 'meadow', 'meal', 'mean', 'meaning', 'meanness', 'meant', 'meantime', 'measure', 'measuring', 'meat', 'meath', 'med', 'medal', 'mediate', 'mediation', 'medical', 'medically', 'medication', 'medicine', 'mediocre', 'meditated', 'meditation', 'mediterranean', 'medium', 'meek', 'meet', 'meeting', 'mehow', 'melancholy', 'melbourne', 'melee', 'mellow', 'melodramatically', 'melonoma', 'melt', 'meltdown', 'melting', 'member', 'memory', 'men', 'mensa', 'menswear', 'mental', 'mentality', 'mentally', 'mention', 'mentioned', 'menu', 'merciless', 'mercy', 'mere', 'merely', 'merge', 'merida', 'merit', 'mermaidhaire', 'mesh', 'mess', 'message', 'messaging', 'messed', 'messy', 'met', 'metabolism', 'metal', 'metallic', 'metaphor', 'metaphorically', 'method', 'metre', 'metropolitan', 'mexican', 'mg', 'mi', 'michael', 'michigan', 'mid', 'middle', 'middot', 'midnight', 'midst', 'midterm', 'might', 'mighty', 'migraine', 'migrate', 'mike', 'mild', 'mildly', 'mile', 'milestone', 'military', 'milk', 'mill', 'millennium', 'million', 'min', 'mince', 'mind', 'mindful', 'mindset', 'mine', 'minibus', 'minimal', 'minimise', 'minimize', 'ministry', 'minor', 'minute', 'miracle', 'mircowaved', 'mirror', 'miscreant', 'miserable', 'misery', 'misgiving', 'mishap', 'misplaced', 'miss', 'misscariage', 'missed', 'missile', 'missing', 'mission', 'misspelt', 'misstreated', 'mistake', 'mistreated', 'mistress', 'misunderstanding', 'misunderstood', 'misused', 'mix', 'mixed', 'mixing', 'mixture', 'mm', 'moanday', 'moaning', 'mobileclass', 'mode', 'model', 'modern', 'modest', 'module', 'moffat', 'moisturiser', 'moisturising', 'molyneux', 'mom', 'moment', 'momentarily', 'momma', 'mommyhood', 'mon', 'monastery', 'monday', 'monetarily', 'money', 'monica', 'monitoring', 'monroe', 'monster', 'montana', 'month', 'monthe', 'mood', 'moody', 'moon', 'moose', 'moping', 'moral', 'morally', 'morbid', 'morbidly', 'mord', 'moreso', 'morgan', 'mormon', 'morning', 'morose', 'morris', 'morsel', 'mosquito', 'moss', 'mostly', 'mother', 'motherhood', 'mothering', 'motif', 'motion', 'motivate', 'motivated', 'motivating', 'motivation', 'motor', 'motorcyclist', 'motorway', 'mould', 'moulding', 'mound', 'mount', 'mountain', 'mounting', 'mourn', 'mouse', 'mousekins', 'mouth', 'move', 'moved', 'movement', 'movie', 'moving', 'moxie', 'moz', 'mr', 'mrdanbaird', 'mri', 'msg', 'mu', 'muay', 'muaz', 'much', 'muck', 'mucus', 'mud', 'mudder', 'muffling', 'mug', 'mujhe', 'mukerji', 'multiplayer', 'multiple', 'multitasking', 'multitude', 'mum', 'mumbai', 'mummy', 'mun', 'mundane', 'murakami', 'murder', 'murderer', 'murmur', 'murt', 'muscle', 'museum', 'mushy', 'music', 'musical', 'musically', 'musician', 'musing', 'must', 'mustered', 'musty', 'muze', 'mxm', 'mychem', 'myriad', 'mysterious', 'mystery', 'mystical', 'mystique', 'mythical', 'mythology', 'na', 'naega', 'naegen', 'nagging', 'naight', 'nail', 'naivety', 'naked', 'nakedness', 'nal', 'naman', 'name', 'named', 'nameless', 'nanashi', 'nao', 'nap', 'narcissism', 'narrated', 'narrative', 'narrow', 'nasal', 'nasty', 'natasha', 'nation', 'nationality', 'native', 'natural', 'naturally', 'nature', 'naughty', 'nausea', 'nauseated', 'nauseous', 'navigating', 'nay', 'nd', 'ne', 'near', 'nearby', 'nearing', 'nearly', 'necessarily', 'necessary', 'necessity', 'neck', 'necklace', 'need', 'needed', 'needing', 'needle', 'needlessly', 'negative', 'negatively', 'negativity', 'neglect', 'neglected', 'neglecting', 'neighbor', 'neighborhood', 'neighbour', 'neither', 'nellie', 'neol', 'neon', 'neoneun', 'nepali', 'nerdy', 'nerve', 'nervous', 'nervously', 'nervousness', 'nervs', 'ness', 'nesting', 'nesty', 'net', 'netherlands', 'network', 'neurosurgeon', 'neurotic', 'neutral', 'never', 'nevermind', 'nevertheless', 'new', 'newbie', 'newborn', 'newer', 'newest', 'newly', 'news', 'newspaper', 'newton', 'newtown', 'next', 'nfl', 'nic', 'nice', 'nicely', 'nicer', 'nicest', 'nick', 'nickey', 'nicotine', 'niga', 'nigeria', 'niggles', 'niggling', 'night', 'nightlife', 'nightly', 'nightmare', 'nilly', 'nine', 'nipping', 'nobody', 'nod', 'nodded', 'noe', 'noise', 'noisy', 'noleans', 'nominated', 'nominee', 'nomming', 'non', 'nonchalant', 'none', 'nonetheless', 'nonsense', 'nook', 'nooo', 'norah', 'norm', 'normal', 'normalcy', 'normality', 'normally', 'north', 'northwestern', 'nose', 'noseband', 'nostalgic', 'nosy', 'note', 'notebook', 'noted', 'nothing', 'nothingness', 'noticable', 'notice', 'noticed', 'noticing', 'notion', 'notoriety', 'nov', 'novel', 'november', 'novice', 'nowhere', 'nowwwwww', 'nuance', 'nuclear', 'nudist', 'numb', 'number', 'numerous', 'nurse', 'nursed', 'nursery', 'nursing', 'nurture', 'nurturing', 'nutrition', 'nutritional', 'nvm', 'nyc', 'nyps', 'oatmeal', 'obedience', 'obey', 'object', 'obligated', 'obligation', 'oblige', 'obnoxious', 'observation', 'observer', 'observing', 'obsessing', 'obsession', 'obsessive', 'obstacle', 'obvious', 'obviously', 'occasion', 'occasional', 'occasionally', 'occassionally', 'occupy', 'occur', 'occured', 'occurring', 'ocd', 'ocean', 'october', 'odd', 'oddly', 'odds', 'odor', 'offence', 'offend', 'offended', 'offender', 'offending', 'offends', 'offense', 'offensive', 'offer', 'offered', 'offering', 'office', 'officer', 'official', 'offline', 'offspring', 'often', 'oh', 'oil', 'oiler', 'oiut', 'ok', 'okay', 'ol', 'olajideolafunmbi', 'old', 'olden', 'older', 'olivia', 'olivias', 'olympic', 'olympics', 'omangy', 'omitted', 'oncologist', 'oncology', 'one', 'onel', 'online', 'ons', 'onscreen', 'onto', 'oomph', 'oooh', 'op', 'open', 'opened', 'opening', 'openly', 'openness', 'operating', 'operation', 'opinion', 'opinionated', 'opium', 'opponent', 'opportunity', 'opposed', 'opposite', 'opposition', 'oppressed', 'optimism', 'optimist', 'optimistic', 'option', 'orange', 'orchestra', 'order', 'ordered', 'ordering', 'orderly', 'ordinance', 'ordinary', 'oregon', 'organisation', 'organised', 'organization', 'organized', 'organizing', 'orgasm', 'orgasmic', 'origin', 'original', 'originally', 'originated', 'orphan', 'orthodontist', 'oscar', 'others', 'otherwise', 'ou', 'ought', 'outbreak', 'outburst', 'outcome', 'outdoors', 'outer', 'outfit', 'outgoing', 'outing', 'outlet', 'outrage', 'outraged', 'outright', 'outside', 'outta', 'outward', 'outweighs', 'ovation', 'oven', 'overall', 'overcome', 'overcomet', 'overcoming', 'overconfident', 'overdo', 'overeating', 'overeducated', 'overhear', 'overly', 'overpower', 'overrated', 'overreacted', 'overrrrrrrrrrrr', 'overseas', 'overshadowed', 'oversized', 'overt', 'overtly', 'overtone', 'overtook', 'overweight', 'overwhelmed', 'overwhelming', 'overwhelmingly', 'overworked', 'ow', 'owe', 'owen', 'owl', 'oxygen', 'pace', 'paced', 'pacified', 'pacing', 'pack', 'package', 'packaged', 'packed', 'packet', 'packing', 'padding', 'paella', 'pagan', 'page', 'pagetitle', 'paid', 'paige', 'pain', 'painful', 'painless', 'paint', 'painting', 'pair', 'pajama', 'pale', 'palin', 'palm', 'pan', 'panel', 'panic', 'panicked', 'panicky', 'pant', 'panther', 'panty', 'papa', 'paparazzo', 'paper', 'paperwork', 'par', 'paragraph', 'parallel', 'paralysis', 'paranoia', 'paranoid', 'paranoiud', 'paratrooper', 'parcel', 'parent', 'parenting', 'pariah', 'paris', 'park', 'parked', 'parking', 'parmesan', 'parody', 'part', 'partial', 'partially', 'participant', 'participate', 'particular', 'particularly', 'partly', 'partner', 'party', 'pas', 'pass', 'passage', 'passed', 'passenger', 'passer', 'passing', 'passion', 'passionate', 'passionately', 'passport', 'past', 'paste', 'pastor', 'patagonia', 'patent', 'path', 'pathetic', 'pathological', 'patience', 'patient', 'patio', 'patrick', 'patriotic', 'patriotism', 'patronize', 'pattern', 'paul', 'paulie', 'pause', 'paused', 'pavement', 'pavilion', 'pay', 'paying', 'pb', 'pcm', 'pe', 'pea', 'peace', 'peaceful', 'peach', 'peak', 'pearl', 'peckish', 'pedestrian', 'pediatric', 'peer', 'peggy', 'pelvis', 'pen', 'pencil', 'penn', 'penny', 'pensive', 'pent', 'people', 'per', 'perceive', 'perceived', 'perceives', 'perception', 'peregrinos', 'perfect', 'perfectly', 'perform', 'performance', 'performed', 'performing', 'perfume', 'perhaps', 'peril', 'period', 'perishable', 'permalink', 'permanent', 'permanently', 'permeate', 'permeates', 'perpetually', 'persecuted', 'persistent', 'persom', 'person', 'persona', 'personal', 'personality', 'personalized', 'personally', 'personnel', 'perspective', 'persuasively', 'pertaining', 'pesky', 'pester', 'pet', 'peta', 'pete', 'peter', 'petition', 'petrified', 'petronas', 'petty', 'pg', 'pgce', 'phase', 'phenomenon', 'philip', 'philosopher', 'philosophy', 'phoenix', 'phone', 'photo', 'photographed', 'photography', 'phrase', 'physic', 'physical', 'physically', 'pia', 'piano', 'pic', 'pick', 'picked', 'picking', 'pickle', 'picnic', 'picture', 'pictured', 'pie', 'piece', 'pierce', 'pig', 'pigeon', 'pile', 'pileon', 'piling', 'pill', 'pillow', 'pimple', 'pin', 'pinched', 'pinching', 'pine', 'pinging', 'pink', 'pinnacle', 'pinning', 'pinpoint', 'pioneer', 'pious', 'pipe', 'piped', 'pirate', 'piss', 'pissed', 'pit', 'pitied', 'pity', 'pizza', 'placce', 'place', 'placed', 'plagued', 'plain', 'plan', 'plane', 'planet', 'plank', 'planned', 'planning', 'plant', 'plantar', 'planting', 'plastic', 'plate', 'plateau', 'platform', 'platitude', 'play', 'played', 'player', 'playful', 'playing', 'playoff', 'plea', 'pleading', 'pleasant', 'please', 'pleased', 'pleasent', 'pleasing', 'pleasure', 'plenty', 'plight', 'plodded', 'plot', 'plug', 'plugged', 'plunging', 'plus', 'pm', 'poem', 'poet', 'poetry', 'point', 'pointing', 'pointless', 'poisoned', 'poke', 'polar', 'pole', 'police', 'policeman', 'policy', 'polish', 'polite', 'politely', 'political', 'politician', 'politics', 'poll', 'polling', 'pompous', 'ponder', 'poo', 'pool', 'poop', 'poor', 'pop', 'popeye', 'popped', 'popping', 'popular', 'population', 'porcupine', 'porn', 'port', 'portfolio', 'portion', 'portland', 'portray', 'portrayal', 'portrayed', 'pose', 'posed', 'position', 'positioned', 'positive', 'positively', 'possess', 'possession', 'possibility', 'possible', 'possibly', 'post', 'posted', 'posting', 'postponing', 'pot', 'potato', 'potential', 'potentially', 'pothole', 'pouhere', 'pound', 'pounding', 'pour', 'pouting', 'powder', 'power', 'powerful', 'powerless', 'powerlessness', 'pp', 'ppl', 'practical', 'practically', 'practice', 'practiced', 'practicies', 'practise', 'pragmatic', 'praise', 'praising', 'pram', 'prance', 'prank', 'prawn', 'pray', 'prayed', 'prayer', 'praying', 'pre', 'preceptor', 'precious', 'precipice', 'precise', 'precisely', 'precision', 'preclude', 'predatory', 'predict', 'predictable', 'predictably', 'predicted', 'preface', 'prefer', 'preferably', 'pregant', 'pregnancy', 'pregnant', 'prejudice', 'prep', 'preparation', 'prepare', 'prepared', 'preparing', 'preschool', 'prescribed', 'presence', 'present', 'presentation', 'presentational', 'presented', 'presenting', 'preservation', 'president', 'press', 'pressed', 'pressing', 'pressure', 'pressured', 'pressurized', 'prestige', 'presumably', 'presupposition', 'pretend', 'pretended', 'pretending', 'pretentious', 'pretty', 'prettymuch', 'prevent', 'prevention', 'previous', 'previously', 'prey', 'price', 'priced', 'pride', 'priest', 'primary', 'prime', 'primer', 'primetime', 'prince', 'print', 'printer', 'prior', 'priority', 'prisoner', 'prius', 'privacy', 'private', 'privately', 'privileged', 'prize', 'prizecompetition', 'pro', 'probably', 'probing', 'problem', 'procedure', 'process', 'processing', 'procession', 'proclaim', 'proclaims', 'procure', 'produce', 'producer', 'product', 'production', 'productive', 'productivity', 'profession', 'professional', 'professor', 'profile', 'profit', 'profoundly', 'program', 'programme', 'programming', 'progress', 'progressing', 'prohibition', 'project', 'projected', 'projector', 'prolonged', 'prom', 'prominent', 'promise', 'promised', 'prompted', 'prompting', 'prone', 'pronounced', 'proof', 'prop', 'proper', 'properly', 'property', 'proported', 'proposed', 'prospect', 'prostitute', 'protect', 'protected', 'protection', 'protective', 'protectiveness', 'protects', 'protein', 'protest', 'proto', 'proud', 'prove', 'proved', 'proven', 'provide', 'provided', 'provides', 'providing', 'proving', 'provocation', 'provocative', 'prowl', 'prupose', 'psyched', 'psychically', 'psychologically', 'psychologist', 'psychotic', 'ptl', 'ptpt', 'pub', 'public', 'publish', 'published', 'publisher', 'publishing', 'puff', 'pull', 'pulled', 'pulling', 'pulse', 'pulsed', 'pump', 'pumped', 'pumpin', 'pumpkin', 'punch', 'punched', 'punching', 'punctual', 'puncture', 'pundit', 'punished', 'punjabi', 'punk', 'pupil', 'puppy', 'purchase', 'purchased', 'purely', 'purpose', 'purposely', 'pursue', 'pursuing', 'pursuit', 'push', 'pushed', 'pushing', 'pushy', 'put', 'putter', 'putting', 'puzzle', 'puzzled', 'puzzling', 'px', 'qaf', 'quaker', 'quaking', 'qualified', 'qualify', 'quality', 'quarrel', 'quarter', 'queasy', 'queen', 'queer', 'queezy', 'quest', 'question', 'questionable', 'questioned', 'questioning', 'quicker', 'quickly', 'quiet', 'quietly', 'quilting', 'quirky', 'quit', 'quite', 'quitter', 'quiver', 'quivering', 'quixote', 'quo', 'quote', 'ra', 'rabbit', 'race', 'rachel', 'racial', 'racing', 'racism', 'radiant', 'radiation', 'radiator', 'radical', 'radio', 'rage', 'ragged', 'raging', 'raid', 'raiding', 'railway', 'rain', 'rainbow', 'rainy', 'raised', 'raising', 'rally', 'ramadan', 'rammstein', 'rampage', 'rampant', 'ran', 'ranbir', 'random', 'randomly', 'rang', 'range', 'rank', 'rant', 'rap', 'rape', 'raped', 'raphael', 'rapidly', 'rapport', 'rapture', 'rare', 'rarely', 'rash', 'rat', 'rate', 'rather', 'rating', 'ratty', 'raw', 'ray', 'razor', 'rd', 'reach', 'reached', 'reaching', 'reacting', 'reaction', 'reactive', 'read', 'reader', 'reading', 'readjust', 'readmit', 'ready', 'reagan', 'real', 'realise', 'realised', 'realising', 'realistic', 'reality', 'realization', 'realize', 'realized', 'realizing', 'really', 'reared', 'reason', 'reasonably', 'reassured', 'reassures', 'reassuring', 'reaura', 'rebecca', 'rebellious', 'rebuilding', 'recall', 'receive', 'received', 'receiver', 'receiving', 'recent', 'recently', 'reception', 'recess', 'recipe', 'reciprocate', 'recite', 'reckless', 'recless', 'recognised', 'recognition', 'recognize', 'recommend', 'recommendation', 'recommending', 'reconciliation', 'record', 'recording', 'recover', 'recovering', 'recovery', 'recreate', 'recurring', 'red', 'redcoat', 'redden', 'redeem', 'redhead', 'rediculous', 'reduce', 'redundant', 'reeeeeeeeally', 'reel', 'refer', 'refered', 'referee', 'reference', 'referred', 'refers', 'refined', 'reflect', 'reflected', 'reflection', 'refocus', 'reframing', 'refresh', 'refreshed', 'refrigerator', 'refusal', 'refuse', 'refused', 'refusing', 'regain', 'regained', 'regard', 'regarded', 'regarding', 'regardless', 'regimented', 'region', 'registration', 'rego', 'regret', 'regular', 'regularly', 'regulated', 'reign', 'reilly', 'reinforcement', 'reiterate', 'reject', 'rejected', 'rejection', 'rejoice', 'rejuvenated', 'rel', 'relate', 'related', 'relates', 'relating', 'relation', 'relationship', 'relative', 'relatively', 'relax', 'relaxation', 'relaxed', 'relaxing', 'release', 'released', 'relegated', 'relentless', 'relentlessly', 'relevant', 'reliable', 'relief', 'relieve', 'relieved', 'relieving', 'religion', 'religious', 'relish', 'relived', 'relocating', 'reluctance', 'reluctant', 'rely', 'relying', 'remain', 'remained', 'remaining', 'remains', 'remark', 'remarkable', 'remarkably', 'remedy', 'remember', 'remembered', 'remembering', 'remembrance', 'remind', 'reminded', 'reminder', 'reminds', 'remix', 'remodeled', 'remorse', 'remotely', 'remove', 'removing', 'render', 'renewed', 'renovation', 'renowned', 'repaired', 'repairing', 'repairman', 'repay', 'repeat', 'repeated', 'repeatedly', 'repeating', 'repentant', 'repercussion', 'replace', 'replaced', 'replacement', 'replica', 'reply', 'report', 'reported', 'reporting', 'representing', 'repressed', 'reprieve', 'reproductive', 'republic', 'repulsion', 'reputation', 'request', 'require', 'required', 'requirement', 'requires', 'reread', 'rescue', 'research', 'resemblance', 'resent', 'resented', 'resentful', 'resentment', 'reserved', 'reset', 'residence', 'resident', 'resilience', 'resist', 'resistant', 'resisting', 'resolution', 'resolve', 'resolved', 'resonates', 'resort', 'resorted', 'resource', 'respect', 'respected', 'respectful', 'respond', 'responding', 'responds', 'response', 'responsibility', 'responsible', 'rest', 'restaurant', 'rested', 'resting', 'restless', 'restore', 'result', 'resulted', 'resupplied', 'resurrect', 'retail', 'retarded', 'retirement', 'retiring', 'retrofitting', 'retrospect', 'return', 'returned', 'returning', 'reunited', 'revalidation', 'reveal', 'reved', 'revel', 'revelation', 'revenue', 'revered', 'review', 'revise', 'revolve', 'revovles', 'rewarded', 'rewrite', 'rex', 'rhetoric', 'rhythmic', 'rice', 'rich', 'rid', 'ride', 'rider', 'ridiculed', 'ridiculous', 'ridiculously', 'right', 'rightly', 'rigid', 'rihanna', 'riku', 'riled', 'ring', 'ringing', 'ringtone', 'riot', 'rip', 'ripe', 'rise', 'risen', 'rising', 'risk', 'riva', 'rmb', 'ro', 'road', 'roar', 'roast', 'roasting', 'rob', 'robin', 'robot', 'rock', 'rocking', 'rodarte', 'rode', 'role', 'rolex', 'roll', 'roller', 'rolling', 'romance', 'romantic', 'romcoms', 'roof', 'room', 'roommate', 'rooster', 'root', 'rose', 'rotates', 'rotten', 'rotund', 'rouge', 'rough', 'round', 'rounded', 'route', 'routine', 'row', 'ruach', 'rubber', 'rubbish', 'rude', 'rudely', 'rudolph', 'ruffling', 'rufus', 'rugmi', 'ruined', 'rule', 'rumour', 'run', 'runner', 'runneth', 'runnin', 'running', 'rupaul', 'rupee', 'rush', 'rushed', 'rushing', 'ruslan', 'russell', 'russia', 'rustie', 'rustle', 'rustling', 'sabotaging', 'sachaying', 'sacred', 'sacrifice', 'sacrificed', 'sad', 'saddened', 'sadistic', 'sadly', 'sadness', 'safe', 'safely', 'safety', 'sag', 'sage', 'sai', 'said', 'sailormoon', 'saint', 'sake', 'salad', 'sale', 'sally', 'salon', 'salvaging', 'salvation', 'sam', 'sample', 'sampled', 'sanctity', 'sand', 'sandal', 'sandwich', 'sandy', 'sane', 'sangria', 'sanity', 'sans', 'santa', 'sara', 'sarah', 'sarawak', 'sarcasm', 'sarcastic', 'sarcoidosis', 'sarcoma', 'sardonic', 'sassiness', 'sat', 'satisfaction', 'satisfied', 'saturday', 'sauce', 'saudi', 'sauna', 'savage', 'save', 'saved', 'saving', 'saw', 'say', 'saying', 'scabi', 'scafell', 'scale', 'scampering', 'scandalized', 'scar', 'scare', 'scared', 'scarf', 'scary', 'scattered', 'scenario', 'scene', 'scenery', 'scent', 'scented', 'sceptical', 'schadenfreude', 'schedule', 'scheduled', 'scheduler', 'scheme', 'schindlers', 'school', 'schultz', 'science', 'scientist', 'scissor', 'scissors', 'scoffing', 'scoop', 'scope', 'score', 'scotland', 'scott', 'scotty', 'scrapbook', 'scraped', 'scratch', 'scratchy', 'scream', 'screamed', 'screaming', 'screen', 'screw', 'screwed', 'scribble', 'script', 'scroll', 'scrubbing', 'scrunching', 'scrutiny', 'sd', 'sea', 'seafood', 'search', 'searched', 'searching', 'season', 'seat', 'sebastian', 'sec', 'second', 'secondary', 'secret', 'secretary', 'secretly', 'section', 'sectret', 'secure', 'security', 'see', 'seeing', 'seek', 'seeker', 'seeking', 'seem', 'seemad', 'seemed', 'seemingly', 'seems', 'seen', 'seeped', 'seeps', 'segregate', 'segregated', 'seized', 'seizing', 'selamat', 'seldom', 'select', 'selection', 'selective', 'selena', 'self', 'selfish', 'selfishness', 'sell', 'selling', 'semblance', 'semester', 'semi', 'senator', 'send', 'sending', 'sends', 'senior', 'sens', 'sensation', 'sensational', 'sense', 'sensibility', 'sensible', 'sensibly', 'sensing', 'sensitive', 'sent', 'sentence', 'sentimental', 'sentinel', 'seoul', 'separate', 'separated', 'separately', 'separating', 'separation', 'september', 'sequel', 'serendipity', 'serenity', 'serf', 'series', 'serif', 'serina', 'seriouly', 'serious', 'seriously', 'seriousness', 'seroquel', 'serve', 'served', 'service', 'serving', 'session', 'set', 'seth', 'settle', 'settled', 'settling', 'setup', 'seven', 'several', 'severely', 'sew', 'sewing', 'sex', 'sexaholic', 'sexual', 'sexually', 'sexy', 'shackle', 'shade', 'shadow', 'shafted', 'shake', 'shaken', 'shaking', 'shaky', 'shall', 'shallow', 'shalt', 'shame', 'shamefully', 'shaming', 'shannon', 'shape', 'shaping', 'share', 'shared', 'sharia', 'sharing', 'sharknado', 'sharp', 'sharpe', 'sharper', 'shattered', 'shaun', 'shaving', 'shed', 'sheer', 'shell', 'shelter', 'sheltered', 'shenanigan', 'sheri', 'sheriff', 'shes', 'shield', 'shielding', 'shift', 'shifting', 'shiftless', 'shine', 'shining', 'shiny', 'shire', 'shirt', 'shit', 'shitty', 'shiver', 'shivering', 'shizz', 'shock', 'shocked', 'shockingly', 'shoe', 'shoelace', 'shoeless', 'shook', 'shoot', 'shooter', 'shooting', 'shop', 'shoplifting', 'shopping', 'shore', 'short', 'shortcoming', 'shortening', 'shortlist', 'shortlisted', 'shortly', 'shortness', 'shortsighted', 'shot', 'shoudlnt', 'shoulder', 'shoulding', 'shouldnt', 'shouldve', 'shout', 'shouted', 'shove', 'shoveling', 'show', 'showed', 'shower', 'showing', 'shown', 'shunned', 'shushing', 'shut', 'shutting', 'shy', 'shyness', 'si', 'sibling', 'sick', 'sickened', 'sickening', 'side', 'sidewalk', 'siesta', 'sifted', 'sigani', 'sigh', 'sighed', 'sight', 'sigil', 'sign', 'signed', 'significant', 'significantly', 'signifies', 'signing', 'silence', 'silent', 'silently', 'silly', 'silver', 'similar', 'similarity', 'similarly', 'simple', 'simplicity', 'simply', 'simpson', 'simultaneously', 'sin', 'since', 'sincere', 'sincerity', 'sing', 'singapore', 'singed', 'singer', 'singing', 'single', 'singled', 'singular', 'sink', 'sinking', 'sinus', 'sip', 'sipping', 'sir', 'sister', 'sit', 'sitcom', 'site', 'sith', 'sits', 'sitter', 'sitting', 'situation', 'siwons', 'six', 'sixty', 'size', 'skeptical', 'sketch', 'ski', 'skill', 'skilled', 'skin', 'skincare', 'skinny', 'skip', 'skipping', 'skirt', 'sky', 'slacking', 'slam', 'slander', 'slap', 'slapped', 'slapping', 'slate', 'slave', 'sleep', 'sleeping', 'sleepy', 'sleeve', 'slept', 'slice', 'slide', 'sliding', 'slight', 'slighted', 'slightest', 'slightly', 'slink', 'slip', 'slipped', 'slipper', 'sloan', 'slobby', 'slope', 'sloppy', 'sloth', 'slough', 'slow', 'slowing', 'slowly', 'slugged', 'slumber', 'slur', 'slut', 'smack', 'small', 'smaller', 'smallest', 'smart', 'smarter', 'smash', 'smell', 'smelling', 'smelly', 'smile', 'smiled', 'smiley', 'smiling', 'smith', 'smoke', 'smoker', 'smoking', 'smooch', 'smooth', 'smoothie', 'smoothing', 'smoothly', 'smothered', 'smug', 'snack', 'snacking', 'snail', 'snake', 'snap', 'snapback', 'snapbacks', 'snapping', 'snappy', 'snatched', 'sneakily', 'sneha', 'sniff', 'sniffle', 'sniiiiifff', 'sniping', 'snippet', 'snippy', 'snob', 'snobbish', 'snooped', 'snooty', 'snooze', 'snotface', 'snow', 'snowboarding', 'snowglobe', 'snowy', 'snuggle', 'soak', 'soaked', 'soapbox', 'sob', 'sobbed', 'sobbing', 'sober', 'sobered', 'soccer', 'sociable', 'social', 'socialise', 'socialize', 'socially', 'society', 'sock', 'socket', 'soda', 'sodden', 'sodding', 'sofa', 'soft', 'softball', 'softer', 'software', 'sol', 'sold', 'soldier', 'solely', 'solemn', 'soley', 'solid', 'solidarity', 'solitude', 'solo', 'solution', 'solve', 'solved', 'solves', 'sombre', 'somebody', 'somehow', 'someobdy', 'someone', 'someplace', 'somethign', 'something', 'somethings', 'sometime', 'sometimes', 'someway', 'somewhat', 'somewhere', 'son', 'song', 'songy', 'sonia', 'sonnet', 'sony', 'soo', 'soon', 'sooner', 'sooo', 'soooo', 'sooooooooooo', 'soothe', 'sophomore', 'sor', 'sore', 'sorrow', 'sorry', 'sort', 'sorta', 'soul', 'soulation', 'soulmate', 'sound', 'soundscapes', 'soup', 'sour', 'source', 'south', 'southern', 'sox', 'spa', 'space', 'spacious', 'spacy', 'span', 'spanish', 'spare', 'spark', 'sparkle', 'sparkleapple', 'spat', 'spazzing', 'speak', 'speaker', 'speaking', 'speaks', 'special', 'specially', 'specific', 'specifically', 'specimen', 'spectacle', 'speech', 'speed', 'speedy', 'spelling', 'spencer', 'spend', 'spending', 'spent', 'spew', 'spice', 'spider', 'spilled', 'spin', 'spinach', 'spine', 'spinning', 'spirit', 'spiritual', 'spiritually', 'spitball', 'spite', 'spiteful', 'spitting', 'splash', 'splendid', 'splendor', 'split', 'splurge', 'spluttering', 'spock', 'spoil', 'spoiled', 'spoiler', 'spoke', 'spoken', 'sponsor', 'spontaneous', 'spook', 'spore', 'sport', 'spot', 'spotless', 'spotlighted', 'spouse', 'spouting', 'spray', 'spread', 'spreading', 'spreadsheet', 'spring', 'springer', 'sprinkling', 'spritz', 'spur', 'spurned', 'spurring', 'spy', 'spying', 'squad', 'square', 'squat', 'squeak', 'squeal', 'squeeze', 'squelching', 'squirt', 'squishing', 'src', 'ssr', 'st', 'stab', 'stable', 'stack', 'stadium', 'staff', 'stage', 'staggering', 'stagnate', 'stair', 'staked', 'stalker', 'stance', 'stand', 'standard', 'standby', 'standing', 'star', 'stare', 'stared', 'staring', 'start', 'started', 'starter', 'starting', 'startled', 'startling', 'starve', 'starving', 'stash', 'stasia', 'state', 'stated', 'statement', 'stating', 'station', 'stationary', 'statistic', 'stats', 'status', 'stay', 'stayed', 'staying', 'steady', 'steal', 'steam', 'steamy', 'steep', 'stellar', 'stem', 'stench', 'step', 'stepped', 'stepping', 'stereotype', 'steroid', 'stic', 'stick', 'sticker', 'sticking', 'stiff', 'still', 'stiller', 'stillness', 'stimulating', 'sting', 'stink', 'stinking', 'stinky', 'stir', 'stirred', 'stitch', 'stitching', 'stock', 'stole', 'stolen', 'stomach', 'stone', 'stoned', 'stood', 'stop', 'stopped', 'stopping', 'store', 'stored', 'storm', 'stormed', 'storming', 'story', 'straight', 'strain', 'strait', 'strand', 'stranded', 'strange', 'strangely', 'stranger', 'strapping', 'strategy', 'strawberry', 'streaked', 'stream', 'street', 'strength', 'strengthening', 'stress', 'stressed', 'stressful', 'stretch', 'strewn', 'strike', 'striking', 'string', 'stripped', 'stripping', 'strive', 'stroke', 'strolling', 'strong', 'stronger', 'strongest', 'strongly', 'strop', 'stropped', 'structure', 'struff', 'struggle', 'struggled', 'struggling', 'stubborn', 'stubbornly', 'stuck', 'stud', 'student', 'studied', 'studio', 'study', 'studying', 'stuff', 'stuffed', 'stumped', 'stunned', 'stunningly', 'stupid', 'stupidity', 'stupidly', 'stupor', 'sturdy', 'style', 'stylesheet', 'stymied', 'su', 'subconscious', 'subconsciously', 'subcontinent', 'subdued', 'subject', 'subjective', 'sublime', 'submarine', 'submerged', 'subsequently', 'substance', 'substitute', 'subtle', 'subtly', 'suburban', 'subway', 'succeed', 'succeeded', 'success', 'successful', 'successfully', 'succumb', 'sucessfully', 'suck', 'sucked', 'sucker', 'sucking', 'sucky', 'sudden', 'suddenly', 'sue', 'suede', 'suffer', 'suffered', 'suffering', 'sufficient', 'suffocated', 'sugar', 'sugary', 'suggested', 'suggestion', 'suicidal', 'suit', 'suitably', 'suitcase', 'sulk', 'sum', 'suman', 'summed', 'summer', 'summery', 'sumthg', 'sun', 'sundae', 'sunday', 'sunlight', 'sunny', 'sunshine', 'suominen', 'super', 'superficial', 'superior', 'superman', 'supermarket', 'superstition', 'superstorm', 'supervising', 'supplied', 'supply', 'support', 'supported', 'supporter', 'supporting', 'supportive', 'suppose', 'supposed', 'supposedly', 'suppress', 'supremely', 'sure', 'surely', 'surface', 'surfacing', 'surge', 'surged', 'surgery', 'surmise', 'surprise', 'surprised', 'surprising', 'surprisingly', 'surrender', 'surround', 'surrounded', 'surrounding', 'surroundings', 'survey', 'survive', 'survived', 'survivor', 'suspect', 'suspected', 'suspense', 'suspicion', 'suspicious', 'sustainability', 'sustained', 'swallow', 'swamp', 'swarming', 'swear', 'sweat', 'sweater', 'sweating', 'sweatshirt', 'sweden', 'sweet', 'sweetener', 'sweetly', 'sweetness', 'swell', 'swelling', 'swept', 'swift', 'swim', 'swimming', 'swinelord', 'swing', 'swirl', 'switch', 'switched', 'sword', 'swore', 'swung', 'sxe', 'symbol', 'sympathic', 'sympathize', 'sympathizing', 'sympathy', 'symptom', 'syndrome', 'synthetic', 'system', 'systematically', 'ta', 'tab', 'tabby', 'table', 'tackle', 'tackling', 'taco', 'tactic', 'tad', 'taewuhbeoryeo', 'tag', 'tail', 'taiwan', 'tak', 'take', 'takeing', 'taken', 'takeover', 'taker', 'taking', 'tale', 'talent', 'talented', 'talk', 'talkative', 'talked', 'talking', 'tall', 'tampa', 'tangent', 'tangible', 'tango', 'tank', 'tantrum', 'tape', 'tapped', 'target', 'targeted', 'tartlet', 'tarun', 'task', 'tasked', 'taste', 'tasteful', 'tastic', 'tasting', 'tasty', 'tat', 'tatter', 'tattoo', 'taught', 'taunted', 'tax', 'taylor', 'tbh', 'tch', 'te', 'tea', 'teach', 'teacher', 'teaching', 'team', 'tear', 'tease', 'teasing', 'tech', 'technically', 'technique', 'techno', 'ted', 'teddy', 'tee', 'teen', 'teenage', 'teenager', 'teeny', 'teeter', 'teeth', 'telephone', 'telethon', 'tell', 'telling', 'temp', 'temper', 'temperature', 'tempered', 'template', 'temple', 'temporarily', 'temptation', 'tempted', 'tempting', 'tempura', 'ten', 'tend', 'tended', 'tendency', 'tender', 'tenderly', 'tends', 'tenge', 'tennis', 'tense', 'tension', 'tent', 'tenure', 'term', 'terminal', 'terminando', 'terpene', 'terrible', 'terribly', 'terrific', 'terrified', 'terrifying', 'territory', 'terror', 'terrorised', 'terry', 'test', 'testing', 'tether', 'text', 'texture', 'th', 'thai', 'thank', 'thanked', 'thankful', 'thankfully', 'thankfulness', 'thanking', 'thanks', 'thanksgiving', 'thatrupert', 'thats', 'thearchitecturality', 'theme', 'themed', 'theofilou', 'theory', 'ther', 'therapist', 'therapy', 'there', 'thereby', 'therefore', 'thereof', 'thesis', 'theyd', 'theyll', 'theyre', 'theyve', 'thick', 'thief', 'thigh', 'thin', 'thing', 'think', 'thinking', 'third', 'thirty', 'thk', 'thn', 'thomas', 'thorough', 'thoroughly', 'thou', 'though', 'thought', 'thousand', 'threaten', 'threatened', 'three', 'threw', 'thrill', 'thrilled', 'thrive', 'throat', 'throbbing', 'throne', 'throng', 'throughout', 'throw', 'throwing', 'thrown', 'thru', 'thug', 'thumb', 'thursday', 'thus', 'thwarted', 'thyroid', 'ti', 'tibris', 'tick', 'ticket', 'tickle', 'tide', 'tied', 'tiffany', 'tiger', 'tight', 'tighter', 'tightly', 'til', 'till', 'time', 'timeline', 'timer', 'timetable', 'timid', 'timing', 'tinge', 'tingle', 'tiny', 'tip', 'tipping', 'tirade', 'tire', 'tired', 'tiredness', 'tiring', 'tissue', 'titanium', 'tith', 'title', 'titled', 'tizzy', 'tl', 'tmr', 'toast', 'toby', 'tod', 'today', 'todd', 'toddler', 'toe', 'togehter', 'together', 'toilet', 'told', 'tolerate', 'tolerated', 'toll', 'tome', 'tomfoolery', 'tomorrow', 'ton', 'tone', 'toner', 'tongue', 'tonguey', 'tonight', 'tonite', 'took', 'tool', 'top', 'topic', 'topping', 'torn', 'tornado', 'toronto', 'torso', 'torture', 'tortured', 'toshibalol', 'tossing', 'total', 'totality', 'totally', 'totering', 'tou', 'touch', 'touched', 'touching', 'touchy', 'tough', 'toughest', 'tour', 'tourist', 'tournament', 'toward', 'towards', 'town', 'toxin', 'toy', 'track', 'tracking', 'traction', 'tracy', 'trad', 'trader', 'tradition', 'traditional', 'traffic', 'tragedy', 'tragic', 'trail', 'trailer', 'train', 'trainable', 'trainer', 'training', 'traitor', 'trajectory', 'trample', 'tranny', 'tranquil', 'trans', 'transcend', 'transcendent', 'transcribe', 'transferred', 'transformed', 'transition', 'translate', 'translatethis', 'transpired', 'transport', 'transportation', 'trap', 'trapping', 'trash', 'trauma', 'traumatic', 'travel', 'traveling', 'treader', 'treading', 'treadmill', 'treassured', 'treasure', 'treat', 'treated', 'treatment', 'trebuchet', 'tree', 'trembly', 'tremendously', 'tremor', 'trend', 'trendy', 'trepidatious', 'trial', 'tribal', 'tribute', 'trick', 'tried', 'trigger', 'triggered', 'triggering', 'trillion', 'trimmed', 'trimming', 'trinket', 'trip', 'triple', 'triumph', 'triumphant', 'trivial', 'trolley', 'trope', 'trophy', 'trouble', 'troubled', 'trudging', 'true', 'truely', 'truffle', 'truly', 'trumpeter', 'trust', 'trusted', 'trusting', 'trustworthy', 'trusty', 'truth', 'truthful', 'try', 'trying', 'tsa', 'ttaekkaji', 'ttawin', 'tub', 'tube', 'tuck', 'tucson', 'tuesday', 'tug', 'tugging', 'tummy', 'tune', 'tunji', 'tunnel', 'turbillion', 'turbulently', 'turkey', 'turmoil', 'turn', 'turned', 'turning', 'turnout', 'turnover', 'tutorial', 'tv', 'twelve', 'twenty', 'twice', 'twin', 'twinge', 'twist', 'twisted', 'twitch', 'twitchy', 'twitter', 'two', 'tx', 'ty', 'type', 'typical', 'typically', 'typing', 'tyre', 'uber', 'ubuntu', 'uglier', 'ugliness', 'ugly', 'uh', 'uk', 'ulbujitneun', 'ultimate', 'ultimately', 'um', 'umbrella', 'un', 'unable', 'unafraid', 'unappreciated', 'unattainable', 'unavoidably', 'unaware', 'uncaring', 'uncertain', 'uncertainty', 'uncle', 'unclear', 'uncoiling', 'uncomfortable', 'uncommon', 'unconscious', 'unconsciously', 'uncontrollably', 'unconvinced', 'underage', 'underbelly', 'underground', 'underneath', 'underpaid', 'underrated', 'understand', 'understanding', 'understands', 'understood', 'undertaking', 'underway', 'underwear', 'underwhelmed', 'undeservedly', 'undo', 'undone', 'undoubtedly', 'undue', 'unease', 'uneasy', 'unedited', 'uneffected', 'unemotional', 'uneventful', 'unexpected', 'unfair', 'unfairly', 'unfairness', 'unfaithful', 'unfashionable', 'unfeeling', 'unfinished', 'unfit', 'unfocused', 'unfold', 'unfortunately', 'unfulfilled', 'unfurling', 'ungrateful', 'unhappiness', 'unhappy', 'unhealthy', 'uni', 'unibrow', 'uniform', 'unilaterally', 'unimaginable', 'uninformed', 'uninhabited', 'unintended', 'unintentionally', 'union', 'unique', 'uniqueness', 'unit', 'unity', 'universal', 'universe', 'university', 'unjust', 'unkind', 'unkindness', 'unknown', 'unleashed', 'unless', 'unlike', 'unloved', 'unlucky', 'unmentioned', 'unmotivated', 'unnaturally', 'unnecessary', 'unnoticeable', 'unprepared', 'unpressed', 'unprotected', 'unrealistic', 'unreasonable', 'unreasonably', 'unreliable', 'unrest', 'unsafe', 'unsatisfied', 'unseen', 'unsettled', 'unsettling', 'unsheathe', 'unsolved', 'unspeakable', 'unspoilt', 'unsung', 'unsupervised', 'unsure', 'unsuspecting', 'untouched', 'untrieds', 'unusual', 'unusually', 'unwanted', 'unwarranted', 'unwelcome', 'unwell', 'unworthiness', 'unworthy', 'unza', 'upbeat', 'upcoming', 'update', 'uplifted', 'uplifter', 'uplifting', 'upload', 'uploaded', 'upon', 'upper', 'uppity', 'ups', 'upset', 'upsetting', 'upside', 'upstairs', 'uptight', 'urge', 'urgency', 'urgent', 'urgh', 'us', 'usa', 'usage', 'use', 'used', 'useful', 'useless', 'user', 'ushering', 'using', 'usmleasy', 'usual', 'usually', 'utah', 'ute', 'utf', 'utopian', 'utter', 'uttering', 'utterly', 'uuuugh', 'uw', 'vacation', 'vagina', 'vaguely', 'vain', 'valentine', 'valentino', 'valid', 'validity', 'valuable', 'value', 'valued', 'vanquished', 'vapor', 'variant', 'various', 'varnish', 'vast', 'vaughn', 'vault', 'vbac', 'veer', 'veering', 'vegan', 'vegetarian', 'vegitarianism', 'vehicle', 'veil', 'vein', 'venerable', 'venerate', 'vent', 'vented', 'venture', 'venue', 'vera', 'verbally', 'verdict', 'verge', 'verona', 'verse', 'version', 'versus', 'vertigo', 'vexed', 'vey', 'vibe', 'vibrant', 'vibration', 'vicarious', 'vice', 'vicious', 'victim', 'victorious', 'victory', 'video', 'videotape', 'vienna', 'view', 'viewed', 'viewer', 'viewpoint', 'vigilant', 'vigorous', 'vile', 'village', 'villian', 'vindictive', 'vine', 'vinegar', 'vinegary', 'viniagrette', 'vintage', 'violence', 'violent', 'violently', 'vip', 'virgin', 'virginia', 'virtual', 'virtuous', 'virus', 'visable', 'visible', 'visibly', 'vision', 'visit', 'visited', 'visiting', 'visitor', 'vista', 'visual', 'vital', 'vitamin', 'vividly', 'vj', 'vlog', 'vocab', 'vocal', 'voice', 'vol', 'volume', 'vomit', 'vomited', 'vomiting', 'vomity', 'von', 'vote', 'vow', 'vowed', 'voyeur', 'vulnerability', 'vulnerable', 'vunerable', 'wading', 'wainwright', 'wait', 'waited', 'waiting', 'waitrose', 'wake', 'waking', 'wal', 'waldo', 'walia', 'walk', 'walked', 'walking', 'wall', 'wallet', 'wallowing', 'wally', 'walt', 'wan', 'wander', 'wandering', 'wanders', 'waning', 'want', 'wanted', 'wanting', 'war', 'ward', 'wardrobe', 'wardrode', 'warehouse', 'warm', 'warmed', 'warmer', 'warming', 'warmly', 'warms', 'warmth', 'warner', 'warning', 'warp', 'warrick', 'warrior', 'wary', 'wash', 'washing', 'washington', 'wasnt', 'waste', 'wasted', 'wasting', 'wat', 'watch', 'watched', 'watcher', 'watching', 'water', 'waterside', 'wave', 'wax', 'waxed', 'waxing', 'way', 'wd', 'weak', 'weaker', 'weakest', 'weakness', 'wealth', 'weapon', 'wear', 'weariness', 'wearing', 'weather', 'weatherman', 'weave', 'web', 'webkit', 'webpage', 'website', 'wed', 'wedding', 'wednesday', 'wee', 'week', 'weekend', 'weekly', 'weeny', 'weep', 'weigh', 'weighed', 'weighing', 'weight', 'weighting', 'weightless', 'weinstein', 'weird', 'welcome', 'welcomed', 'welcoming', 'welfare', 'well', 'welling', 'went', 'werent', 'werner', 'west', 'westerner', 'wet', 'weve', 'wh', 'whack', 'whale', 'whatever', 'whats', 'wheat', 'wheeeeee', 'wheel', 'whelming', 'whenever', 'whereas', 'wherein', 'wherever', 'wherewithal', 'whether', 'whiff', 'whilst', 'whine', 'whined', 'whingeing', 'whining', 'whiny', 'whip', 'whipped', 'whir', 'whirlwind', 'whiskey', 'whisper', 'whispered', 'whistle', 'white', 'whitleys', 'who', 'whod', 'whoever', 'whole', 'wholeheartedly', 'wholeness', 'wholesale', 'wholly', 'whooooo', 'whooooooooos', 'whooooos', 'whoop', 'whoosh', 'whore', 'whose', 'wickdly', 'wicked', 'wide', 'width', 'wieght', 'wife', 'wig', 'wiheomhae', 'wihtout', 'wild', 'wilder', 'will', 'willed', 'williams', 'willing', 'willingness', 'willy', 'wimbledon', 'wimp', 'wimpy', 'win', 'wind', 'windmill', 'window', 'windy', 'wine', 'wing', 'wink', 'winner', 'winston', 'winter', 'winterpaysforsummer', 'winterson', 'wintry', 'wip', 'wipe', 'wiped', 'wired', 'wisconsin', 'wisdom', 'wise', 'wisely', 'wiser', 'wish', 'wished', 'wishful', 'wishing', 'wising', 'witch', 'withdraw', 'withdrawal', 'withdrawing', 'withdrawn', 'within', 'without', 'witness', 'witty', 'wo', 'wobbly', 'wod', 'woke', 'woken', 'woman', 'womanhood', 'wonder', 'wondered', 'wonderful', 'wonderfull', 'wondering', 'wondrous', 'wont', 'wood', 'wooden', 'woodland', 'woooo', 'woop', 'word', 'wore', 'work', 'worked', 'worker', 'working', 'workload', 'workout', 'workplace', 'world', 'worldly', 'worn', 'worried', 'worry', 'worrying', 'worse', 'worship', 'worshiping', 'worst', 'worth', 'worthless', 'worthwhile', 'worthy', 'would', 'wouldnt', 'wouldve', 'wound', 'wounded', 'wounding', 'wp', 'wrap', 'wrapped', 'wrapping', 'wrestle', 'wrinkle', 'wrist', 'wristwatch', 'write', 'writer', 'writes', 'writing', 'written', 'wrong', 'wronged', 'wrongly', 'wrote', 'wrung', 'wryly', 'wtf', 'wu', 'ww', 'www', 'xanax', 'xango', 'xbla', 'xd', 'xdd', 'xela', 'xia', 'xmas', 'xml', 'xox', 'xvi', 'xxx', 'ya', 'yall', 'yank', 'yanked', 'yard', 'yarn', 'yay', 'yeah', 'year', 'yearn', 'yearning', 'yearns', 'years', 'yeast', 'yell', 'yelled', 'yelling', 'yelping', 'yes', 'yesterday', 'yet', 'yhhhay', 'yiling', 'yippee', 'yixuan', 'yknow', 'yo', 'yoga', 'york', 'youd', 'youll', 'young', 'younger', 'youngster', 'youre', 'youth', 'youthful', 'youtube', 'youve', 'yu', 'yunhos', 'yup', 'yuuki', 'zack', 'zambia', 'zara', 'zay', 'zealand', 'zen', 'zendikar', 'zero', 'zest', 'zhu', 'zipline', 'zombie', 'zone', 'zonisamide', 'zq', 'zumba']\n"
     ]
    }
   ],
   "source": [
    "bow_vocabulary = vectorizer.get_feature_names_out()\n",
    "print(bow_vocabulary.tolist())"
   ]
  },
  {
   "cell_type": "markdown",
   "id": "6aeb753c-6b66-4d8d-99fb-932fe30f89b2",
   "metadata": {},
   "source": [
    "### 3. Model Development"
   ]
  },
  {
   "cell_type": "code",
   "execution_count": 87,
   "id": "be33e7f7-6292-49fa-a8a9-394e069d483b",
   "metadata": {},
   "outputs": [],
   "source": [
    "#Train Test Split"
   ]
  },
  {
   "cell_type": "code",
   "execution_count": 89,
   "id": "4351f51f-3ea6-4490-a1d6-cae393fbc272",
   "metadata": {},
   "outputs": [],
   "source": [
    "\n",
    "from sklearn.model_selection import train_test_split\n",
    "from sklearn.naive_bayes import MultinomialNB\n",
    "from sklearn.svm import SVC\n",
    "from sklearn.metrics import accuracy_score, classification_report, f1_score"
   ]
  },
  {
   "cell_type": "code",
   "execution_count": 90,
   "id": "c3440584-c583-476a-b485-cca8c7631e90",
   "metadata": {},
   "outputs": [],
   "source": [
    "# Fit and transform the cleaned comments into numerical features\n",
    "X = vectorizer.fit_transform(data['Processed_Comment'])\n",
    "\n",
    "# Target variable: 'Emotion'\n",
    "y = data['Emotion']"
   ]
  },
  {
   "cell_type": "code",
   "execution_count": 91,
   "id": "29912fb9-81f7-42fe-beb8-7bcb94857d6c",
   "metadata": {},
   "outputs": [],
   "source": [
    "# Split the dataset into training and testing sets (80% training, 20% testing)\n",
    "X_train, X_test, y_train, y_test = train_test_split(X, y, test_size=0.2, random_state=42)"
   ]
  },
  {
   "cell_type": "code",
   "execution_count": 92,
   "id": "bb5d3ea9-eb22-4359-b1d4-b36e62e3ebcd",
   "metadata": {},
   "outputs": [
    {
     "name": "stdout",
     "output_type": "stream",
     "text": [
      "X_train shape: (4747, 7969)\n",
      "y_train shape: 4747\n",
      "X_test shape: (1187, 7969)\n",
      "y_test shape: 1187\n"
     ]
    }
   ],
   "source": [
    "# Check the shape of the feature matrices and labels\n",
    "print(\"X_train shape:\", X_train.shape)\n",
    "print(\"y_train shape:\", len(y_train))  # or y_train.shape\n",
    "print(\"X_test shape:\", X_test.shape)\n",
    "print(\"y_test shape:\", len(y_test))  # or y_test.shape"
   ]
  },
  {
   "cell_type": "code",
   "execution_count": 93,
   "id": "ef698d24-93eb-41c2-865d-796ae00af607",
   "metadata": {},
   "outputs": [
    {
     "name": "stdout",
     "output_type": "stream",
     "text": [
      "Shape of bow_matrix: (5934, 7969)\n",
      "Length of data['Emotion']: 5934\n"
     ]
    }
   ],
   "source": [
    "print(\"Shape of bow_matrix:\", bow_matrix.shape)  # Should be (number of samples, number of features)\n",
    "print(\"Length of data['Emotion']:\", len(data['Emotion']))  # Should match the number of samples in bow_matrix"
   ]
  },
  {
   "cell_type": "markdown",
   "id": "ea5d9168-9d14-4d84-903e-b964b86aba32",
   "metadata": {},
   "source": [
    "#### A) Naive Bayes"
   ]
  },
  {
   "cell_type": "code",
   "execution_count": 94,
   "id": "a1bc5fc1-39c4-430d-b0f9-02f4b72889cb",
   "metadata": {},
   "outputs": [
    {
     "data": {
      "text/html": [
       "<style>#sk-container-id-1 {\n",
       "  /* Definition of color scheme common for light and dark mode */\n",
       "  --sklearn-color-text: black;\n",
       "  --sklearn-color-line: gray;\n",
       "  /* Definition of color scheme for unfitted estimators */\n",
       "  --sklearn-color-unfitted-level-0: #fff5e6;\n",
       "  --sklearn-color-unfitted-level-1: #f6e4d2;\n",
       "  --sklearn-color-unfitted-level-2: #ffe0b3;\n",
       "  --sklearn-color-unfitted-level-3: chocolate;\n",
       "  /* Definition of color scheme for fitted estimators */\n",
       "  --sklearn-color-fitted-level-0: #f0f8ff;\n",
       "  --sklearn-color-fitted-level-1: #d4ebff;\n",
       "  --sklearn-color-fitted-level-2: #b3dbfd;\n",
       "  --sklearn-color-fitted-level-3: cornflowerblue;\n",
       "\n",
       "  /* Specific color for light theme */\n",
       "  --sklearn-color-text-on-default-background: var(--sg-text-color, var(--theme-code-foreground, var(--jp-content-font-color1, black)));\n",
       "  --sklearn-color-background: var(--sg-background-color, var(--theme-background, var(--jp-layout-color0, white)));\n",
       "  --sklearn-color-border-box: var(--sg-text-color, var(--theme-code-foreground, var(--jp-content-font-color1, black)));\n",
       "  --sklearn-color-icon: #696969;\n",
       "\n",
       "  @media (prefers-color-scheme: dark) {\n",
       "    /* Redefinition of color scheme for dark theme */\n",
       "    --sklearn-color-text-on-default-background: var(--sg-text-color, var(--theme-code-foreground, var(--jp-content-font-color1, white)));\n",
       "    --sklearn-color-background: var(--sg-background-color, var(--theme-background, var(--jp-layout-color0, #111)));\n",
       "    --sklearn-color-border-box: var(--sg-text-color, var(--theme-code-foreground, var(--jp-content-font-color1, white)));\n",
       "    --sklearn-color-icon: #878787;\n",
       "  }\n",
       "}\n",
       "\n",
       "#sk-container-id-1 {\n",
       "  color: var(--sklearn-color-text);\n",
       "}\n",
       "\n",
       "#sk-container-id-1 pre {\n",
       "  padding: 0;\n",
       "}\n",
       "\n",
       "#sk-container-id-1 input.sk-hidden--visually {\n",
       "  border: 0;\n",
       "  clip: rect(1px 1px 1px 1px);\n",
       "  clip: rect(1px, 1px, 1px, 1px);\n",
       "  height: 1px;\n",
       "  margin: -1px;\n",
       "  overflow: hidden;\n",
       "  padding: 0;\n",
       "  position: absolute;\n",
       "  width: 1px;\n",
       "}\n",
       "\n",
       "#sk-container-id-1 div.sk-dashed-wrapped {\n",
       "  border: 1px dashed var(--sklearn-color-line);\n",
       "  margin: 0 0.4em 0.5em 0.4em;\n",
       "  box-sizing: border-box;\n",
       "  padding-bottom: 0.4em;\n",
       "  background-color: var(--sklearn-color-background);\n",
       "}\n",
       "\n",
       "#sk-container-id-1 div.sk-container {\n",
       "  /* jupyter's `normalize.less` sets `[hidden] { display: none; }`\n",
       "     but bootstrap.min.css set `[hidden] { display: none !important; }`\n",
       "     so we also need the `!important` here to be able to override the\n",
       "     default hidden behavior on the sphinx rendered scikit-learn.org.\n",
       "     See: https://github.com/scikit-learn/scikit-learn/issues/21755 */\n",
       "  display: inline-block !important;\n",
       "  position: relative;\n",
       "}\n",
       "\n",
       "#sk-container-id-1 div.sk-text-repr-fallback {\n",
       "  display: none;\n",
       "}\n",
       "\n",
       "div.sk-parallel-item,\n",
       "div.sk-serial,\n",
       "div.sk-item {\n",
       "  /* draw centered vertical line to link estimators */\n",
       "  background-image: linear-gradient(var(--sklearn-color-text-on-default-background), var(--sklearn-color-text-on-default-background));\n",
       "  background-size: 2px 100%;\n",
       "  background-repeat: no-repeat;\n",
       "  background-position: center center;\n",
       "}\n",
       "\n",
       "/* Parallel-specific style estimator block */\n",
       "\n",
       "#sk-container-id-1 div.sk-parallel-item::after {\n",
       "  content: \"\";\n",
       "  width: 100%;\n",
       "  border-bottom: 2px solid var(--sklearn-color-text-on-default-background);\n",
       "  flex-grow: 1;\n",
       "}\n",
       "\n",
       "#sk-container-id-1 div.sk-parallel {\n",
       "  display: flex;\n",
       "  align-items: stretch;\n",
       "  justify-content: center;\n",
       "  background-color: var(--sklearn-color-background);\n",
       "  position: relative;\n",
       "}\n",
       "\n",
       "#sk-container-id-1 div.sk-parallel-item {\n",
       "  display: flex;\n",
       "  flex-direction: column;\n",
       "}\n",
       "\n",
       "#sk-container-id-1 div.sk-parallel-item:first-child::after {\n",
       "  align-self: flex-end;\n",
       "  width: 50%;\n",
       "}\n",
       "\n",
       "#sk-container-id-1 div.sk-parallel-item:last-child::after {\n",
       "  align-self: flex-start;\n",
       "  width: 50%;\n",
       "}\n",
       "\n",
       "#sk-container-id-1 div.sk-parallel-item:only-child::after {\n",
       "  width: 0;\n",
       "}\n",
       "\n",
       "/* Serial-specific style estimator block */\n",
       "\n",
       "#sk-container-id-1 div.sk-serial {\n",
       "  display: flex;\n",
       "  flex-direction: column;\n",
       "  align-items: center;\n",
       "  background-color: var(--sklearn-color-background);\n",
       "  padding-right: 1em;\n",
       "  padding-left: 1em;\n",
       "}\n",
       "\n",
       "\n",
       "/* Toggleable style: style used for estimator/Pipeline/ColumnTransformer box that is\n",
       "clickable and can be expanded/collapsed.\n",
       "- Pipeline and ColumnTransformer use this feature and define the default style\n",
       "- Estimators will overwrite some part of the style using the `sk-estimator` class\n",
       "*/\n",
       "\n",
       "/* Pipeline and ColumnTransformer style (default) */\n",
       "\n",
       "#sk-container-id-1 div.sk-toggleable {\n",
       "  /* Default theme specific background. It is overwritten whether we have a\n",
       "  specific estimator or a Pipeline/ColumnTransformer */\n",
       "  background-color: var(--sklearn-color-background);\n",
       "}\n",
       "\n",
       "/* Toggleable label */\n",
       "#sk-container-id-1 label.sk-toggleable__label {\n",
       "  cursor: pointer;\n",
       "  display: block;\n",
       "  width: 100%;\n",
       "  margin-bottom: 0;\n",
       "  padding: 0.5em;\n",
       "  box-sizing: border-box;\n",
       "  text-align: center;\n",
       "}\n",
       "\n",
       "#sk-container-id-1 label.sk-toggleable__label-arrow:before {\n",
       "  /* Arrow on the left of the label */\n",
       "  content: \"▸\";\n",
       "  float: left;\n",
       "  margin-right: 0.25em;\n",
       "  color: var(--sklearn-color-icon);\n",
       "}\n",
       "\n",
       "#sk-container-id-1 label.sk-toggleable__label-arrow:hover:before {\n",
       "  color: var(--sklearn-color-text);\n",
       "}\n",
       "\n",
       "/* Toggleable content - dropdown */\n",
       "\n",
       "#sk-container-id-1 div.sk-toggleable__content {\n",
       "  max-height: 0;\n",
       "  max-width: 0;\n",
       "  overflow: hidden;\n",
       "  text-align: left;\n",
       "  /* unfitted */\n",
       "  background-color: var(--sklearn-color-unfitted-level-0);\n",
       "}\n",
       "\n",
       "#sk-container-id-1 div.sk-toggleable__content.fitted {\n",
       "  /* fitted */\n",
       "  background-color: var(--sklearn-color-fitted-level-0);\n",
       "}\n",
       "\n",
       "#sk-container-id-1 div.sk-toggleable__content pre {\n",
       "  margin: 0.2em;\n",
       "  border-radius: 0.25em;\n",
       "  color: var(--sklearn-color-text);\n",
       "  /* unfitted */\n",
       "  background-color: var(--sklearn-color-unfitted-level-0);\n",
       "}\n",
       "\n",
       "#sk-container-id-1 div.sk-toggleable__content.fitted pre {\n",
       "  /* unfitted */\n",
       "  background-color: var(--sklearn-color-fitted-level-0);\n",
       "}\n",
       "\n",
       "#sk-container-id-1 input.sk-toggleable__control:checked~div.sk-toggleable__content {\n",
       "  /* Expand drop-down */\n",
       "  max-height: 200px;\n",
       "  max-width: 100%;\n",
       "  overflow: auto;\n",
       "}\n",
       "\n",
       "#sk-container-id-1 input.sk-toggleable__control:checked~label.sk-toggleable__label-arrow:before {\n",
       "  content: \"▾\";\n",
       "}\n",
       "\n",
       "/* Pipeline/ColumnTransformer-specific style */\n",
       "\n",
       "#sk-container-id-1 div.sk-label input.sk-toggleable__control:checked~label.sk-toggleable__label {\n",
       "  color: var(--sklearn-color-text);\n",
       "  background-color: var(--sklearn-color-unfitted-level-2);\n",
       "}\n",
       "\n",
       "#sk-container-id-1 div.sk-label.fitted input.sk-toggleable__control:checked~label.sk-toggleable__label {\n",
       "  background-color: var(--sklearn-color-fitted-level-2);\n",
       "}\n",
       "\n",
       "/* Estimator-specific style */\n",
       "\n",
       "/* Colorize estimator box */\n",
       "#sk-container-id-1 div.sk-estimator input.sk-toggleable__control:checked~label.sk-toggleable__label {\n",
       "  /* unfitted */\n",
       "  background-color: var(--sklearn-color-unfitted-level-2);\n",
       "}\n",
       "\n",
       "#sk-container-id-1 div.sk-estimator.fitted input.sk-toggleable__control:checked~label.sk-toggleable__label {\n",
       "  /* fitted */\n",
       "  background-color: var(--sklearn-color-fitted-level-2);\n",
       "}\n",
       "\n",
       "#sk-container-id-1 div.sk-label label.sk-toggleable__label,\n",
       "#sk-container-id-1 div.sk-label label {\n",
       "  /* The background is the default theme color */\n",
       "  color: var(--sklearn-color-text-on-default-background);\n",
       "}\n",
       "\n",
       "/* On hover, darken the color of the background */\n",
       "#sk-container-id-1 div.sk-label:hover label.sk-toggleable__label {\n",
       "  color: var(--sklearn-color-text);\n",
       "  background-color: var(--sklearn-color-unfitted-level-2);\n",
       "}\n",
       "\n",
       "/* Label box, darken color on hover, fitted */\n",
       "#sk-container-id-1 div.sk-label.fitted:hover label.sk-toggleable__label.fitted {\n",
       "  color: var(--sklearn-color-text);\n",
       "  background-color: var(--sklearn-color-fitted-level-2);\n",
       "}\n",
       "\n",
       "/* Estimator label */\n",
       "\n",
       "#sk-container-id-1 div.sk-label label {\n",
       "  font-family: monospace;\n",
       "  font-weight: bold;\n",
       "  display: inline-block;\n",
       "  line-height: 1.2em;\n",
       "}\n",
       "\n",
       "#sk-container-id-1 div.sk-label-container {\n",
       "  text-align: center;\n",
       "}\n",
       "\n",
       "/* Estimator-specific */\n",
       "#sk-container-id-1 div.sk-estimator {\n",
       "  font-family: monospace;\n",
       "  border: 1px dotted var(--sklearn-color-border-box);\n",
       "  border-radius: 0.25em;\n",
       "  box-sizing: border-box;\n",
       "  margin-bottom: 0.5em;\n",
       "  /* unfitted */\n",
       "  background-color: var(--sklearn-color-unfitted-level-0);\n",
       "}\n",
       "\n",
       "#sk-container-id-1 div.sk-estimator.fitted {\n",
       "  /* fitted */\n",
       "  background-color: var(--sklearn-color-fitted-level-0);\n",
       "}\n",
       "\n",
       "/* on hover */\n",
       "#sk-container-id-1 div.sk-estimator:hover {\n",
       "  /* unfitted */\n",
       "  background-color: var(--sklearn-color-unfitted-level-2);\n",
       "}\n",
       "\n",
       "#sk-container-id-1 div.sk-estimator.fitted:hover {\n",
       "  /* fitted */\n",
       "  background-color: var(--sklearn-color-fitted-level-2);\n",
       "}\n",
       "\n",
       "/* Specification for estimator info (e.g. \"i\" and \"?\") */\n",
       "\n",
       "/* Common style for \"i\" and \"?\" */\n",
       "\n",
       ".sk-estimator-doc-link,\n",
       "a:link.sk-estimator-doc-link,\n",
       "a:visited.sk-estimator-doc-link {\n",
       "  float: right;\n",
       "  font-size: smaller;\n",
       "  line-height: 1em;\n",
       "  font-family: monospace;\n",
       "  background-color: var(--sklearn-color-background);\n",
       "  border-radius: 1em;\n",
       "  height: 1em;\n",
       "  width: 1em;\n",
       "  text-decoration: none !important;\n",
       "  margin-left: 1ex;\n",
       "  /* unfitted */\n",
       "  border: var(--sklearn-color-unfitted-level-1) 1pt solid;\n",
       "  color: var(--sklearn-color-unfitted-level-1);\n",
       "}\n",
       "\n",
       ".sk-estimator-doc-link.fitted,\n",
       "a:link.sk-estimator-doc-link.fitted,\n",
       "a:visited.sk-estimator-doc-link.fitted {\n",
       "  /* fitted */\n",
       "  border: var(--sklearn-color-fitted-level-1) 1pt solid;\n",
       "  color: var(--sklearn-color-fitted-level-1);\n",
       "}\n",
       "\n",
       "/* On hover */\n",
       "div.sk-estimator:hover .sk-estimator-doc-link:hover,\n",
       ".sk-estimator-doc-link:hover,\n",
       "div.sk-label-container:hover .sk-estimator-doc-link:hover,\n",
       ".sk-estimator-doc-link:hover {\n",
       "  /* unfitted */\n",
       "  background-color: var(--sklearn-color-unfitted-level-3);\n",
       "  color: var(--sklearn-color-background);\n",
       "  text-decoration: none;\n",
       "}\n",
       "\n",
       "div.sk-estimator.fitted:hover .sk-estimator-doc-link.fitted:hover,\n",
       ".sk-estimator-doc-link.fitted:hover,\n",
       "div.sk-label-container:hover .sk-estimator-doc-link.fitted:hover,\n",
       ".sk-estimator-doc-link.fitted:hover {\n",
       "  /* fitted */\n",
       "  background-color: var(--sklearn-color-fitted-level-3);\n",
       "  color: var(--sklearn-color-background);\n",
       "  text-decoration: none;\n",
       "}\n",
       "\n",
       "/* Span, style for the box shown on hovering the info icon */\n",
       ".sk-estimator-doc-link span {\n",
       "  display: none;\n",
       "  z-index: 9999;\n",
       "  position: relative;\n",
       "  font-weight: normal;\n",
       "  right: .2ex;\n",
       "  padding: .5ex;\n",
       "  margin: .5ex;\n",
       "  width: min-content;\n",
       "  min-width: 20ex;\n",
       "  max-width: 50ex;\n",
       "  color: var(--sklearn-color-text);\n",
       "  box-shadow: 2pt 2pt 4pt #999;\n",
       "  /* unfitted */\n",
       "  background: var(--sklearn-color-unfitted-level-0);\n",
       "  border: .5pt solid var(--sklearn-color-unfitted-level-3);\n",
       "}\n",
       "\n",
       ".sk-estimator-doc-link.fitted span {\n",
       "  /* fitted */\n",
       "  background: var(--sklearn-color-fitted-level-0);\n",
       "  border: var(--sklearn-color-fitted-level-3);\n",
       "}\n",
       "\n",
       ".sk-estimator-doc-link:hover span {\n",
       "  display: block;\n",
       "}\n",
       "\n",
       "/* \"?\"-specific style due to the `<a>` HTML tag */\n",
       "\n",
       "#sk-container-id-1 a.estimator_doc_link {\n",
       "  float: right;\n",
       "  font-size: 1rem;\n",
       "  line-height: 1em;\n",
       "  font-family: monospace;\n",
       "  background-color: var(--sklearn-color-background);\n",
       "  border-radius: 1rem;\n",
       "  height: 1rem;\n",
       "  width: 1rem;\n",
       "  text-decoration: none;\n",
       "  /* unfitted */\n",
       "  color: var(--sklearn-color-unfitted-level-1);\n",
       "  border: var(--sklearn-color-unfitted-level-1) 1pt solid;\n",
       "}\n",
       "\n",
       "#sk-container-id-1 a.estimator_doc_link.fitted {\n",
       "  /* fitted */\n",
       "  border: var(--sklearn-color-fitted-level-1) 1pt solid;\n",
       "  color: var(--sklearn-color-fitted-level-1);\n",
       "}\n",
       "\n",
       "/* On hover */\n",
       "#sk-container-id-1 a.estimator_doc_link:hover {\n",
       "  /* unfitted */\n",
       "  background-color: var(--sklearn-color-unfitted-level-3);\n",
       "  color: var(--sklearn-color-background);\n",
       "  text-decoration: none;\n",
       "}\n",
       "\n",
       "#sk-container-id-1 a.estimator_doc_link.fitted:hover {\n",
       "  /* fitted */\n",
       "  background-color: var(--sklearn-color-fitted-level-3);\n",
       "}\n",
       "</style><div id=\"sk-container-id-1\" class=\"sk-top-container\"><div class=\"sk-text-repr-fallback\"><pre>MultinomialNB()</pre><b>In a Jupyter environment, please rerun this cell to show the HTML representation or trust the notebook. <br />On GitHub, the HTML representation is unable to render, please try loading this page with nbviewer.org.</b></div><div class=\"sk-container\" hidden><div class=\"sk-item\"><div class=\"sk-estimator fitted sk-toggleable\"><input class=\"sk-toggleable__control sk-hidden--visually\" id=\"sk-estimator-id-1\" type=\"checkbox\" checked><label for=\"sk-estimator-id-1\" class=\"sk-toggleable__label fitted sk-toggleable__label-arrow fitted\">&nbsp;&nbsp;MultinomialNB<a class=\"sk-estimator-doc-link fitted\" rel=\"noreferrer\" target=\"_blank\" href=\"https://scikit-learn.org/1.5/modules/generated/sklearn.naive_bayes.MultinomialNB.html\">?<span>Documentation for MultinomialNB</span></a><span class=\"sk-estimator-doc-link fitted\">i<span>Fitted</span></span></label><div class=\"sk-toggleable__content fitted\"><pre>MultinomialNB()</pre></div> </div></div></div></div>"
      ],
      "text/plain": [
       "MultinomialNB()"
      ]
     },
     "execution_count": 94,
     "metadata": {},
     "output_type": "execute_result"
    }
   ],
   "source": [
    "from sklearn.naive_bayes import MultinomialNB\n",
    "nb_model = MultinomialNB()\n",
    "nb_model.fit(X_train, y_train)"
   ]
  },
  {
   "cell_type": "code",
   "execution_count": 95,
   "id": "bbc92d77-d694-41d2-b4be-e5fb8975ee40",
   "metadata": {},
   "outputs": [],
   "source": [
    "y_pred = nb_model.predict(X_test)  # Naive Bayes model trained with bow"
   ]
  },
  {
   "cell_type": "code",
   "execution_count": 97,
   "id": "9c6fa695-8714-41e8-9586-522d45e47662",
   "metadata": {},
   "outputs": [
    {
     "data": {
      "text/plain": [
       "Text(0.5, 1.0, 'Confusion Matrix of NB')"
      ]
     },
     "execution_count": 97,
     "metadata": {},
     "output_type": "execute_result"
    },
    {
     "data": {
      "image/png": "[encoded data removed]",
      "text/plain": [
       "<Figure size 640x480 with 2 Axes>"
      ]
     },
     "metadata": {},
     "output_type": "display_data"
    }
   ],
   "source": [
    "from sklearn.metrics import confusion_matrix\n",
    "con = confusion_matrix(y_test, y_pred)\n",
    "sns.heatmap(con, annot=True, fmt=\".2f\", cmap=\"rainbow\", linewidths=0.3)\n",
    "plt.title('Confusion Matrix of NB')"
   ]
  },
  {
   "cell_type": "code",
   "execution_count": 98,
   "id": "b35b971e-58d7-4a8a-9f05-2a146a1eea70",
   "metadata": {},
   "outputs": [
    {
     "name": "stdout",
     "output_type": "stream",
     "text": [
      "Confusion Matrix:\n"
     ]
    },
    {
     "data": {
      "text/plain": [
       "array([[371,  18,  12],\n",
       "       [ 31, 356,  14],\n",
       "       [ 28,  26, 331]], dtype=int64)"
      ]
     },
     "execution_count": 98,
     "metadata": {},
     "output_type": "execute_result"
    }
   ],
   "source": [
    "cm = confusion_matrix(y_test, y_pred)\n",
    "print(\"Confusion Matrix:\")\n",
    "cm"
   ]
  },
  {
   "cell_type": "code",
   "execution_count": 99,
   "id": "5a7f4db0-80c2-4a9c-8240-22eff94a638c",
   "metadata": {},
   "outputs": [
    {
     "name": "stdout",
     "output_type": "stream",
     "text": [
      "classification_report:\n"
     ]
    },
    {
     "data": {
      "text/plain": [
       "'              precision    recall  f1-score   support\\n\\n       anger       0.86      0.93      0.89       401\\n        fear       0.89      0.89      0.89       401\\n         joy       0.93      0.86      0.89       385\\n\\n    accuracy                           0.89      1187\\n   macro avg       0.89      0.89      0.89      1187\\nweighted avg       0.89      0.89      0.89      1187\\n'"
      ]
     },
     "execution_count": 99,
     "metadata": {},
     "output_type": "execute_result"
    }
   ],
   "source": [
    "# Classification report\n",
    "cr = classification_report(y_test, y_pred)\n",
    "print(\"classification_report:\")\n",
    "cr"
   ]
  },
  {
   "cell_type": "code",
   "execution_count": 100,
   "id": "fdab4e5e-7c3c-4fb5-98a6-a2c43b54f511",
   "metadata": {},
   "outputs": [
    {
     "name": "stdout",
     "output_type": "stream",
     "text": [
      "              precision    recall  f1-score   support\n",
      "\n",
      "       anger       0.86      0.93      0.89       401\n",
      "        fear       0.89      0.89      0.89       401\n",
      "         joy       0.93      0.86      0.89       385\n",
      "\n",
      "    accuracy                           0.89      1187\n",
      "   macro avg       0.89      0.89      0.89      1187\n",
      "weighted avg       0.89      0.89      0.89      1187\n",
      "\n"
     ]
    }
   ],
   "source": [
    "print(classification_report(y_test, y_pred))"
   ]
  },
  {
   "cell_type": "code",
   "execution_count": 101,
   "id": "3c27516e-5258-450c-b8ef-85fa859589c9",
   "metadata": {},
   "outputs": [
    {
     "name": "stdout",
     "output_type": "stream",
     "text": [
      "Naive Bayes Accuracy Score:\n",
      "0.8913226621735467\n"
     ]
    }
   ],
   "source": [
    "# Accuracy score\n",
    "nb_accuracy = accuracy_score(y_test, y_pred)\n",
    "print(\"Naive Bayes Accuracy Score:\")\n",
    "print(nb_accuracy)"
   ]
  },
  {
   "cell_type": "code",
   "execution_count": 102,
   "id": "b5232aec-d08a-481f-9efd-6dbd4d604f73",
   "metadata": {},
   "outputs": [
    {
     "data": {
      "text/plain": [
       "array(['joy', 'anger', 'fear', ..., 'fear', 'anger', 'fear'], dtype='<U5')"
      ]
     },
     "execution_count": 102,
     "metadata": {},
     "output_type": "execute_result"
    }
   ],
   "source": [
    "nb_pred = y_pred\n",
    "nb_pred"
   ]
  },
  {
   "cell_type": "code",
   "execution_count": 103,
   "id": "0ed4e6c3-ca58-48e2-8ca7-fb644d080230",
   "metadata": {},
   "outputs": [
    {
     "data": {
      "text/plain": [
       "array(['joy', 'anger', 'anger', ..., 'fear', 'anger', 'anger'],\n",
       "      dtype=object)"
      ]
     },
     "execution_count": 103,
     "metadata": {},
     "output_type": "execute_result"
    }
   ],
   "source": [
    "y_test.values"
   ]
  },
  {
   "cell_type": "markdown",
   "id": "6e3f9486-59ab-4622-b53e-db4855990019",
   "metadata": {},
   "source": [
    "#### B) Support Vector Machine"
   ]
  },
  {
   "cell_type": "code",
   "execution_count": 106,
   "id": "25b8c44e-31f8-4b74-b774-2cac2fed6f93",
   "metadata": {},
   "outputs": [
    {
     "data": {
      "text/html": [
       "<style>#sk-container-id-4 {\n",
       "  /* Definition of color scheme common for light and dark mode */\n",
       "  --sklearn-color-text: black;\n",
       "  --sklearn-color-line: gray;\n",
       "  /* Definition of color scheme for unfitted estimators */\n",
       "  --sklearn-color-unfitted-level-0: #fff5e6;\n",
       "  --sklearn-color-unfitted-level-1: #f6e4d2;\n",
       "  --sklearn-color-unfitted-level-2: #ffe0b3;\n",
       "  --sklearn-color-unfitted-level-3: chocolate;\n",
       "  /* Definition of color scheme for fitted estimators */\n",
       "  --sklearn-color-fitted-level-0: #f0f8ff;\n",
       "  --sklearn-color-fitted-level-1: #d4ebff;\n",
       "  --sklearn-color-fitted-level-2: #b3dbfd;\n",
       "  --sklearn-color-fitted-level-3: cornflowerblue;\n",
       "\n",
       "  /* Specific color for light theme */\n",
       "  --sklearn-color-text-on-default-background: var(--sg-text-color, var(--theme-code-foreground, var(--jp-content-font-color1, black)));\n",
       "  --sklearn-color-background: var(--sg-background-color, var(--theme-background, var(--jp-layout-color0, white)));\n",
       "  --sklearn-color-border-box: var(--sg-text-color, var(--theme-code-foreground, var(--jp-content-font-color1, black)));\n",
       "  --sklearn-color-icon: #696969;\n",
       "\n",
       "  @media (prefers-color-scheme: dark) {\n",
       "    /* Redefinition of color scheme for dark theme */\n",
       "    --sklearn-color-text-on-default-background: var(--sg-text-color, var(--theme-code-foreground, var(--jp-content-font-color1, white)));\n",
       "    --sklearn-color-background: var(--sg-background-color, var(--theme-background, var(--jp-layout-color0, #111)));\n",
       "    --sklearn-color-border-box: var(--sg-text-color, var(--theme-code-foreground, var(--jp-content-font-color1, white)));\n",
       "    --sklearn-color-icon: #878787;\n",
       "  }\n",
       "}\n",
       "\n",
       "#sk-container-id-4 {\n",
       "  color: var(--sklearn-color-text);\n",
       "}\n",
       "\n",
       "#sk-container-id-4 pre {\n",
       "  padding: 0;\n",
       "}\n",
       "\n",
       "#sk-container-id-4 input.sk-hidden--visually {\n",
       "  border: 0;\n",
       "  clip: rect(1px 1px 1px 1px);\n",
       "  clip: rect(1px, 1px, 1px, 1px);\n",
       "  height: 1px;\n",
       "  margin: -1px;\n",
       "  overflow: hidden;\n",
       "  padding: 0;\n",
       "  position: absolute;\n",
       "  width: 1px;\n",
       "}\n",
       "\n",
       "#sk-container-id-4 div.sk-dashed-wrapped {\n",
       "  border: 1px dashed var(--sklearn-color-line);\n",
       "  margin: 0 0.4em 0.5em 0.4em;\n",
       "  box-sizing: border-box;\n",
       "  padding-bottom: 0.4em;\n",
       "  background-color: var(--sklearn-color-background);\n",
       "}\n",
       "\n",
       "#sk-container-id-4 div.sk-container {\n",
       "  /* jupyter's `normalize.less` sets `[hidden] { display: none; }`\n",
       "     but bootstrap.min.css set `[hidden] { display: none !important; }`\n",
       "     so we also need the `!important` here to be able to override the\n",
       "     default hidden behavior on the sphinx rendered scikit-learn.org.\n",
       "     See: https://github.com/scikit-learn/scikit-learn/issues/21755 */\n",
       "  display: inline-block !important;\n",
       "  position: relative;\n",
       "}\n",
       "\n",
       "#sk-container-id-4 div.sk-text-repr-fallback {\n",
       "  display: none;\n",
       "}\n",
       "\n",
       "div.sk-parallel-item,\n",
       "div.sk-serial,\n",
       "div.sk-item {\n",
       "  /* draw centered vertical line to link estimators */\n",
       "  background-image: linear-gradient(var(--sklearn-color-text-on-default-background), var(--sklearn-color-text-on-default-background));\n",
       "  background-size: 2px 100%;\n",
       "  background-repeat: no-repeat;\n",
       "  background-position: center center;\n",
       "}\n",
       "\n",
       "/* Parallel-specific style estimator block */\n",
       "\n",
       "#sk-container-id-4 div.sk-parallel-item::after {\n",
       "  content: \"\";\n",
       "  width: 100%;\n",
       "  border-bottom: 2px solid var(--sklearn-color-text-on-default-background);\n",
       "  flex-grow: 1;\n",
       "}\n",
       "\n",
       "#sk-container-id-4 div.sk-parallel {\n",
       "  display: flex;\n",
       "  align-items: stretch;\n",
       "  justify-content: center;\n",
       "  background-color: var(--sklearn-color-background);\n",
       "  position: relative;\n",
       "}\n",
       "\n",
       "#sk-container-id-4 div.sk-parallel-item {\n",
       "  display: flex;\n",
       "  flex-direction: column;\n",
       "}\n",
       "\n",
       "#sk-container-id-4 div.sk-parallel-item:first-child::after {\n",
       "  align-self: flex-end;\n",
       "  width: 50%;\n",
       "}\n",
       "\n",
       "#sk-container-id-4 div.sk-parallel-item:last-child::after {\n",
       "  align-self: flex-start;\n",
       "  width: 50%;\n",
       "}\n",
       "\n",
       "#sk-container-id-4 div.sk-parallel-item:only-child::after {\n",
       "  width: 0;\n",
       "}\n",
       "\n",
       "/* Serial-specific style estimator block */\n",
       "\n",
       "#sk-container-id-4 div.sk-serial {\n",
       "  display: flex;\n",
       "  flex-direction: column;\n",
       "  align-items: center;\n",
       "  background-color: var(--sklearn-color-background);\n",
       "  padding-right: 1em;\n",
       "  padding-left: 1em;\n",
       "}\n",
       "\n",
       "\n",
       "/* Toggleable style: style used for estimator/Pipeline/ColumnTransformer box that is\n",
       "clickable and can be expanded/collapsed.\n",
       "- Pipeline and ColumnTransformer use this feature and define the default style\n",
       "- Estimators will overwrite some part of the style using the `sk-estimator` class\n",
       "*/\n",
       "\n",
       "/* Pipeline and ColumnTransformer style (default) */\n",
       "\n",
       "#sk-container-id-4 div.sk-toggleable {\n",
       "  /* Default theme specific background. It is overwritten whether we have a\n",
       "  specific estimator or a Pipeline/ColumnTransformer */\n",
       "  background-color: var(--sklearn-color-background);\n",
       "}\n",
       "\n",
       "/* Toggleable label */\n",
       "#sk-container-id-4 label.sk-toggleable__label {\n",
       "  cursor: pointer;\n",
       "  display: block;\n",
       "  width: 100%;\n",
       "  margin-bottom: 0;\n",
       "  padding: 0.5em;\n",
       "  box-sizing: border-box;\n",
       "  text-align: center;\n",
       "}\n",
       "\n",
       "#sk-container-id-4 label.sk-toggleable__label-arrow:before {\n",
       "  /* Arrow on the left of the label */\n",
       "  content: \"▸\";\n",
       "  float: left;\n",
       "  margin-right: 0.25em;\n",
       "  color: var(--sklearn-color-icon);\n",
       "}\n",
       "\n",
       "#sk-container-id-4 label.sk-toggleable__label-arrow:hover:before {\n",
       "  color: var(--sklearn-color-text);\n",
       "}\n",
       "\n",
       "/* Toggleable content - dropdown */\n",
       "\n",
       "#sk-container-id-4 div.sk-toggleable__content {\n",
       "  max-height: 0;\n",
       "  max-width: 0;\n",
       "  overflow: hidden;\n",
       "  text-align: left;\n",
       "  /* unfitted */\n",
       "  background-color: var(--sklearn-color-unfitted-level-0);\n",
       "}\n",
       "\n",
       "#sk-container-id-4 div.sk-toggleable__content.fitted {\n",
       "  /* fitted */\n",
       "  background-color: var(--sklearn-color-fitted-level-0);\n",
       "}\n",
       "\n",
       "#sk-container-id-4 div.sk-toggleable__content pre {\n",
       "  margin: 0.2em;\n",
       "  border-radius: 0.25em;\n",
       "  color: var(--sklearn-color-text);\n",
       "  /* unfitted */\n",
       "  background-color: var(--sklearn-color-unfitted-level-0);\n",
       "}\n",
       "\n",
       "#sk-container-id-4 div.sk-toggleable__content.fitted pre {\n",
       "  /* unfitted */\n",
       "  background-color: var(--sklearn-color-fitted-level-0);\n",
       "}\n",
       "\n",
       "#sk-container-id-4 input.sk-toggleable__control:checked~div.sk-toggleable__content {\n",
       "  /* Expand drop-down */\n",
       "  max-height: 200px;\n",
       "  max-width: 100%;\n",
       "  overflow: auto;\n",
       "}\n",
       "\n",
       "#sk-container-id-4 input.sk-toggleable__control:checked~label.sk-toggleable__label-arrow:before {\n",
       "  content: \"▾\";\n",
       "}\n",
       "\n",
       "/* Pipeline/ColumnTransformer-specific style */\n",
       "\n",
       "#sk-container-id-4 div.sk-label input.sk-toggleable__control:checked~label.sk-toggleable__label {\n",
       "  color: var(--sklearn-color-text);\n",
       "  background-color: var(--sklearn-color-unfitted-level-2);\n",
       "}\n",
       "\n",
       "#sk-container-id-4 div.sk-label.fitted input.sk-toggleable__control:checked~label.sk-toggleable__label {\n",
       "  background-color: var(--sklearn-color-fitted-level-2);\n",
       "}\n",
       "\n",
       "/* Estimator-specific style */\n",
       "\n",
       "/* Colorize estimator box */\n",
       "#sk-container-id-4 div.sk-estimator input.sk-toggleable__control:checked~label.sk-toggleable__label {\n",
       "  /* unfitted */\n",
       "  background-color: var(--sklearn-color-unfitted-level-2);\n",
       "}\n",
       "\n",
       "#sk-container-id-4 div.sk-estimator.fitted input.sk-toggleable__control:checked~label.sk-toggleable__label {\n",
       "  /* fitted */\n",
       "  background-color: var(--sklearn-color-fitted-level-2);\n",
       "}\n",
       "\n",
       "#sk-container-id-4 div.sk-label label.sk-toggleable__label,\n",
       "#sk-container-id-4 div.sk-label label {\n",
       "  /* The background is the default theme color */\n",
       "  color: var(--sklearn-color-text-on-default-background);\n",
       "}\n",
       "\n",
       "/* On hover, darken the color of the background */\n",
       "#sk-container-id-4 div.sk-label:hover label.sk-toggleable__label {\n",
       "  color: var(--sklearn-color-text);\n",
       "  background-color: var(--sklearn-color-unfitted-level-2);\n",
       "}\n",
       "\n",
       "/* Label box, darken color on hover, fitted */\n",
       "#sk-container-id-4 div.sk-label.fitted:hover label.sk-toggleable__label.fitted {\n",
       "  color: var(--sklearn-color-text);\n",
       "  background-color: var(--sklearn-color-fitted-level-2);\n",
       "}\n",
       "\n",
       "/* Estimator label */\n",
       "\n",
       "#sk-container-id-4 div.sk-label label {\n",
       "  font-family: monospace;\n",
       "  font-weight: bold;\n",
       "  display: inline-block;\n",
       "  line-height: 1.2em;\n",
       "}\n",
       "\n",
       "#sk-container-id-4 div.sk-label-container {\n",
       "  text-align: center;\n",
       "}\n",
       "\n",
       "/* Estimator-specific */\n",
       "#sk-container-id-4 div.sk-estimator {\n",
       "  font-family: monospace;\n",
       "  border: 1px dotted var(--sklearn-color-border-box);\n",
       "  border-radius: 0.25em;\n",
       "  box-sizing: border-box;\n",
       "  margin-bottom: 0.5em;\n",
       "  /* unfitted */\n",
       "  background-color: var(--sklearn-color-unfitted-level-0);\n",
       "}\n",
       "\n",
       "#sk-container-id-4 div.sk-estimator.fitted {\n",
       "  /* fitted */\n",
       "  background-color: var(--sklearn-color-fitted-level-0);\n",
       "}\n",
       "\n",
       "/* on hover */\n",
       "#sk-container-id-4 div.sk-estimator:hover {\n",
       "  /* unfitted */\n",
       "  background-color: var(--sklearn-color-unfitted-level-2);\n",
       "}\n",
       "\n",
       "#sk-container-id-4 div.sk-estimator.fitted:hover {\n",
       "  /* fitted */\n",
       "  background-color: var(--sklearn-color-fitted-level-2);\n",
       "}\n",
       "\n",
       "/* Specification for estimator info (e.g. \"i\" and \"?\") */\n",
       "\n",
       "/* Common style for \"i\" and \"?\" */\n",
       "\n",
       ".sk-estimator-doc-link,\n",
       "a:link.sk-estimator-doc-link,\n",
       "a:visited.sk-estimator-doc-link {\n",
       "  float: right;\n",
       "  font-size: smaller;\n",
       "  line-height: 1em;\n",
       "  font-family: monospace;\n",
       "  background-color: var(--sklearn-color-background);\n",
       "  border-radius: 1em;\n",
       "  height: 1em;\n",
       "  width: 1em;\n",
       "  text-decoration: none !important;\n",
       "  margin-left: 1ex;\n",
       "  /* unfitted */\n",
       "  border: var(--sklearn-color-unfitted-level-1) 1pt solid;\n",
       "  color: var(--sklearn-color-unfitted-level-1);\n",
       "}\n",
       "\n",
       ".sk-estimator-doc-link.fitted,\n",
       "a:link.sk-estimator-doc-link.fitted,\n",
       "a:visited.sk-estimator-doc-link.fitted {\n",
       "  /* fitted */\n",
       "  border: var(--sklearn-color-fitted-level-1) 1pt solid;\n",
       "  color: var(--sklearn-color-fitted-level-1);\n",
       "}\n",
       "\n",
       "/* On hover */\n",
       "div.sk-estimator:hover .sk-estimator-doc-link:hover,\n",
       ".sk-estimator-doc-link:hover,\n",
       "div.sk-label-container:hover .sk-estimator-doc-link:hover,\n",
       ".sk-estimator-doc-link:hover {\n",
       "  /* unfitted */\n",
       "  background-color: var(--sklearn-color-unfitted-level-3);\n",
       "  color: var(--sklearn-color-background);\n",
       "  text-decoration: none;\n",
       "}\n",
       "\n",
       "div.sk-estimator.fitted:hover .sk-estimator-doc-link.fitted:hover,\n",
       ".sk-estimator-doc-link.fitted:hover,\n",
       "div.sk-label-container:hover .sk-estimator-doc-link.fitted:hover,\n",
       ".sk-estimator-doc-link.fitted:hover {\n",
       "  /* fitted */\n",
       "  background-color: var(--sklearn-color-fitted-level-3);\n",
       "  color: var(--sklearn-color-background);\n",
       "  text-decoration: none;\n",
       "}\n",
       "\n",
       "/* Span, style for the box shown on hovering the info icon */\n",
       ".sk-estimator-doc-link span {\n",
       "  display: none;\n",
       "  z-index: 9999;\n",
       "  position: relative;\n",
       "  font-weight: normal;\n",
       "  right: .2ex;\n",
       "  padding: .5ex;\n",
       "  margin: .5ex;\n",
       "  width: min-content;\n",
       "  min-width: 20ex;\n",
       "  max-width: 50ex;\n",
       "  color: var(--sklearn-color-text);\n",
       "  box-shadow: 2pt 2pt 4pt #999;\n",
       "  /* unfitted */\n",
       "  background: var(--sklearn-color-unfitted-level-0);\n",
       "  border: .5pt solid var(--sklearn-color-unfitted-level-3);\n",
       "}\n",
       "\n",
       ".sk-estimator-doc-link.fitted span {\n",
       "  /* fitted */\n",
       "  background: var(--sklearn-color-fitted-level-0);\n",
       "  border: var(--sklearn-color-fitted-level-3);\n",
       "}\n",
       "\n",
       ".sk-estimator-doc-link:hover span {\n",
       "  display: block;\n",
       "}\n",
       "\n",
       "/* \"?\"-specific style due to the `<a>` HTML tag */\n",
       "\n",
       "#sk-container-id-4 a.estimator_doc_link {\n",
       "  float: right;\n",
       "  font-size: 1rem;\n",
       "  line-height: 1em;\n",
       "  font-family: monospace;\n",
       "  background-color: var(--sklearn-color-background);\n",
       "  border-radius: 1rem;\n",
       "  height: 1rem;\n",
       "  width: 1rem;\n",
       "  text-decoration: none;\n",
       "  /* unfitted */\n",
       "  color: var(--sklearn-color-unfitted-level-1);\n",
       "  border: var(--sklearn-color-unfitted-level-1) 1pt solid;\n",
       "}\n",
       "\n",
       "#sk-container-id-4 a.estimator_doc_link.fitted {\n",
       "  /* fitted */\n",
       "  border: var(--sklearn-color-fitted-level-1) 1pt solid;\n",
       "  color: var(--sklearn-color-fitted-level-1);\n",
       "}\n",
       "\n",
       "/* On hover */\n",
       "#sk-container-id-4 a.estimator_doc_link:hover {\n",
       "  /* unfitted */\n",
       "  background-color: var(--sklearn-color-unfitted-level-3);\n",
       "  color: var(--sklearn-color-background);\n",
       "  text-decoration: none;\n",
       "}\n",
       "\n",
       "#sk-container-id-4 a.estimator_doc_link.fitted:hover {\n",
       "  /* fitted */\n",
       "  background-color: var(--sklearn-color-fitted-level-3);\n",
       "}\n",
       "</style><div id=\"sk-container-id-4\" class=\"sk-top-container\"><div class=\"sk-text-repr-fallback\"><pre>SVC()</pre><b>In a Jupyter environment, please rerun this cell to show the HTML representation or trust the notebook. <br />On GitHub, the HTML representation is unable to render, please try loading this page with nbviewer.org.</b></div><div class=\"sk-container\" hidden><div class=\"sk-item\"><div class=\"sk-estimator fitted sk-toggleable\"><input class=\"sk-toggleable__control sk-hidden--visually\" id=\"sk-estimator-id-4\" type=\"checkbox\" checked><label for=\"sk-estimator-id-4\" class=\"sk-toggleable__label fitted sk-toggleable__label-arrow fitted\">&nbsp;&nbsp;SVC<a class=\"sk-estimator-doc-link fitted\" rel=\"noreferrer\" target=\"_blank\" href=\"https://scikit-learn.org/1.5/modules/generated/sklearn.svm.SVC.html\">?<span>Documentation for SVC</span></a><span class=\"sk-estimator-doc-link fitted\">i<span>Fitted</span></span></label><div class=\"sk-toggleable__content fitted\"><pre>SVC()</pre></div> </div></div></div></div>"
      ],
      "text/plain": [
       "SVC()"
      ]
     },
     "execution_count": 106,
     "metadata": {},
     "output_type": "execute_result"
    }
   ],
   "source": [
    "from sklearn.svm import SVC\n",
    "svm_model = SVC()\n",
    "svm_model.fit(X_train, y_train)"
   ]
  },
  {
   "cell_type": "code",
   "execution_count": 107,
   "id": "58b7968c-5d59-40a5-8ae9-7cd1f5e055d5",
   "metadata": {},
   "outputs": [],
   "source": [
    "# Predictions\n",
    "y_pred = svm_model.predict(X_test)"
   ]
  },
  {
   "cell_type": "code",
   "execution_count": 109,
   "id": "b66653b7-36f4-45d8-902a-271b6c67132d",
   "metadata": {},
   "outputs": [
    {
     "data": {
      "image/png": "[encoded data removed]",
      "text/plain": [
       "<Figure size 640x480 with 2 Axes>"
      ]
     },
     "metadata": {},
     "output_type": "display_data"
    }
   ],
   "source": [
    "con = confusion_matrix(y_test, y_pred)\n",
    "sns.heatmap(con, annot=True, fmt=\".2f\", cmap='rainbow', linewidths=0.3)\n",
    "plt.title('Confusion Matrix SVM')\n",
    "plt.show()"
   ]
  },
  {
   "cell_type": "code",
   "execution_count": 110,
   "id": "5a3fc942-1286-47bb-bdad-28133de061b8",
   "metadata": {},
   "outputs": [
    {
     "name": "stdout",
     "output_type": "stream",
     "text": [
      "Confusion matrix:\n"
     ]
    },
    {
     "data": {
      "text/plain": [
       "array([[373,   4,  24],\n",
       "       [ 38, 341,  22],\n",
       "       [  8,   3, 374]], dtype=int64)"
      ]
     },
     "execution_count": 110,
     "metadata": {},
     "output_type": "execute_result"
    }
   ],
   "source": [
    "cm =  confusion_matrix(y_test, y_pred)\n",
    "print('Confusion matrix:')\n",
    "cm"
   ]
  },
  {
   "cell_type": "code",
   "execution_count": 111,
   "id": "b52ca5e5-7fa9-418b-9c08-3cf4e917220d",
   "metadata": {},
   "outputs": [
    {
     "name": "stdout",
     "output_type": "stream",
     "text": [
      "              precision    recall  f1-score   support\n",
      "\n",
      "       anger       0.89      0.93      0.91       401\n",
      "        fear       0.98      0.85      0.91       401\n",
      "         joy       0.89      0.97      0.93       385\n",
      "\n",
      "    accuracy                           0.92      1187\n",
      "   macro avg       0.92      0.92      0.92      1187\n",
      "weighted avg       0.92      0.92      0.92      1187\n",
      "\n"
     ]
    }
   ],
   "source": [
    "# Classification report\n",
    "print(classification_report(y_test, y_pred))"
   ]
  },
  {
   "cell_type": "code",
   "execution_count": 112,
   "id": "ebf2a983-8c38-46ff-b557-d9b42af578d0",
   "metadata": {},
   "outputs": [
    {
     "name": "stdout",
     "output_type": "stream",
     "text": [
      "Support Vector Machine Accuracy Score:\n",
      "0.9165964616680707\n"
     ]
    }
   ],
   "source": [
    "# Accuracy score\n",
    "svm_accuracy = accuracy_score(y_test, y_pred)\n",
    "print(\"Support Vector Machine Accuracy Score:\")\n",
    "print(svm_accuracy)   "
   ]
  },
  {
   "cell_type": "code",
   "execution_count": 113,
   "id": "ff5b89bc-09e5-41cd-a829-70edb5abd327",
   "metadata": {},
   "outputs": [
    {
     "data": {
      "text/plain": [
       "array(['joy', 'anger', 'anger', ..., 'fear', 'anger', 'anger'],\n",
       "      dtype=object)"
      ]
     },
     "execution_count": 113,
     "metadata": {},
     "output_type": "execute_result"
    }
   ],
   "source": [
    "svm_pred = y_pred\n",
    "svm_pred"
   ]
  },
  {
   "cell_type": "code",
   "execution_count": 114,
   "id": "ee150a6e-f579-4b58-822c-e0887ac569e7",
   "metadata": {},
   "outputs": [
    {
     "data": {
      "text/plain": [
       "array(['joy', 'anger', 'anger', ..., 'fear', 'anger', 'anger'],\n",
       "      dtype=object)"
      ]
     },
     "execution_count": 114,
     "metadata": {},
     "output_type": "execute_result"
    }
   ],
   "source": [
    "y_test.values"
   ]
  },
  {
   "cell_type": "markdown",
   "id": "7331b27b-4523-491c-a93e-420086024cbc",
   "metadata": {},
   "source": [
    "### 4. Model Comparison\n"
   ]
  },
  {
   "cell_type": "code",
   "execution_count": 116,
   "id": "f8537aec-bbcb-4b78-92b3-0b110e34b2a8",
   "metadata": {},
   "outputs": [],
   "source": [
    "# Evaluate Naive Bayes model\n",
    "nb_accuracy = accuracy_score(y_test, nb_pred)\n",
    "nb_f1_score = f1_score(y_test, nb_pred, average='weighted')"
   ]
  },
  {
   "cell_type": "code",
   "execution_count": 117,
   "id": "91cab969-f40e-4301-873d-25313fe35697",
   "metadata": {},
   "outputs": [],
   "source": [
    "# Evaluate SVM model\n",
    "svm_accuracy = accuracy_score(y_test, svm_pred)\n",
    "svm_f1_score = f1_score(y_test, svm_pred, average='weighted')"
   ]
  },
  {
   "cell_type": "code",
   "execution_count": 118,
   "id": "328f9c09-6daa-4e31-abff-17be936e394a",
   "metadata": {},
   "outputs": [
    {
     "name": "stdout",
     "output_type": "stream",
     "text": [
      "Naive Bayes Accuracy: 0.8913\n",
      "Naive Bayes F1 Score: 0.8913\n",
      "SVM Accuracy: 0.9166\n",
      "SVM F1 Score: 0.9163\n"
     ]
    }
   ],
   "source": [
    "# Print model evaluation results\n",
    "\n",
    "print(f\"Naive Bayes Accuracy: {nb_accuracy:.4f}\")\n",
    "print(f\"Naive Bayes F1 Score: {nb_f1_score:.4f}\")\n",
    "\n",
    "print(f\"SVM Accuracy: {svm_accuracy:.4f}\")\n",
    "print(f\"SVM F1 Score: {svm_f1_score:.4f}\")"
   ]
  },
  {
   "cell_type": "markdown",
   "id": "ef3ec275-8985-4714-9e27-8d8e91d985c8",
   "metadata": {},
   "source": [
    "## Evaluation\n"
   ]
  },
  {
   "cell_type": "code",
   "execution_count": 119,
   "id": "e90b30e9-b2de-4af0-8f65-7aeaaf1d990b",
   "metadata": {},
   "outputs": [],
   "source": [
    "results = {\n",
    "    \"Model\": [\"Naive Bayes\", \"Support Vector Machine (SVM)\"],\n",
    "    \"Accuracy\": [nb_accuracy, svm_accuracy],\n",
    "    \"F1 Score\": [nb_f1_score, svm_f1_score]}\n"
   ]
  },
  {
   "cell_type": "code",
   "execution_count": 120,
   "id": "9ac26601-7637-4868-92b8-bd6d9936f9c2",
   "metadata": {},
   "outputs": [
    {
     "data": {
      "text/html": [
       "<div>\n",
       "<style scoped>\n",
       "    .dataframe tbody tr th:only-of-type {\n",
       "        vertical-align: middle;\n",
       "    }\n",
       "\n",
       "    .dataframe tbody tr th {\n",
       "        vertical-align: top;\n",
       "    }\n",
       "\n",
       "    .dataframe thead th {\n",
       "        text-align: right;\n",
       "    }\n",
       "</style>\n",
       "<table border=\"1\" class=\"dataframe\">\n",
       "  <thead>\n",
       "    <tr style=\"text-align: right;\">\n",
       "      <th></th>\n",
       "      <th>Model</th>\n",
       "      <th>Accuracy</th>\n",
       "      <th>F1 Score</th>\n",
       "    </tr>\n",
       "  </thead>\n",
       "  <tbody>\n",
       "    <tr>\n",
       "      <th>0</th>\n",
       "      <td>Naive Bayes</td>\n",
       "      <td>0.891323</td>\n",
       "      <td>0.891313</td>\n",
       "    </tr>\n",
       "    <tr>\n",
       "      <th>1</th>\n",
       "      <td>Support Vector Machine (SVM)</td>\n",
       "      <td>0.916596</td>\n",
       "      <td>0.916328</td>\n",
       "    </tr>\n",
       "  </tbody>\n",
       "</table>\n",
       "</div>"
      ],
      "text/plain": [
       "                          Model  Accuracy  F1 Score\n",
       "0                   Naive Bayes  0.891323  0.891313\n",
       "1  Support Vector Machine (SVM)  0.916596  0.916328"
      ]
     },
     "execution_count": 120,
     "metadata": {},
     "output_type": "execute_result"
    }
   ],
   "source": [
    "# Convert results into a DataFrame\n",
    "results_df = pd.DataFrame(results)\n",
    "results_df"
   ]
  },
  {
   "cell_type": "markdown",
   "id": "ccfcaa2d-0cbf-4f3d-9de0-fd2371ee7354",
   "metadata": {},
   "source": [
    "## performance level:"
   ]
  },
  {
   "cell_type": "markdown",
   "id": "bbd22a41-31e4-4fb2-b5d7-871e36328e1c",
   "metadata": {},
   "source": [
    "#### 1. Naive Bayes Performance:\n",
    "##### -- Accuracy: 0.8913 (89.13%)\n",
    "##### -- F1 Score: 0.8913 (89.13%)"
   ]
  },
  {
   "cell_type": "markdown",
   "id": "82dee396-8f5f-466b-b31a-36c16426f911",
   "metadata": {},
   "source": [
    "#### 2. Support Vector Machine (SVM) Performance:\n",
    "##### -- Accuracy: 0.9166 (91.66%)\n",
    "##### -- F1 Score: 0.9163 (91.63%)"
   ]
  },
  {
   "cell_type": "markdown",
   "id": "328f5bc6-c5fe-4b43-ac3b-b4409712bc15",
   "metadata": {},
   "source": [
    "#### Observation:\n",
    "\n",
    "##### -- The SVM model outperforms Naive Bayes by achieving higher accuracy and F1 score.\n",
    "\n",
    "##### -- Its performance indicates it can better capture the underlying patterns in the dataset.\n",
    "\n"
   ]
  },
  {
   "cell_type": "markdown",
   "id": "67a0f1ae-4f37-4e26-b89b-bde6d341281e",
   "metadata": {},
   "source": [
    "## Comparison:\n",
    "\n",
    "##### -- SVM is the superior model based on both accuracy and F1 score.\n",
    "\n",
    "##### -- SVM's ability to handle complex decision boundaries likely makes it better suited for this emotion classification task, where the data may not be linearly separable.\n",
    "\n",
    "##### -- Naive Bayes, despite being a simpler model, still performs commendably and may be preferred when computational efficiency is a priority."
   ]
  },
  {
   "cell_type": "markdown",
   "id": "2e65e192-95c5-4fce-a8f6-a30376f54182",
   "metadata": {},
   "source": [
    "## Result Analysis:\n",
    "\n",
    "##### -- Naive Bayes: Good for tasks where the data distribution aligns well with its assumptions (e.g., word independence). It's lightweight and faster to train.\n",
    "\n",
    "##### -- SVM: Better for handling high-dimensional data and more complex classification problems. Its use of kernels helps capture intricate relationships, making it more robust for emotion classification.\n",
    "\n"
   ]
  },
  {
   "cell_type": "markdown",
   "id": "69a0186d-6331-4eef-95ac-503f1041c98c",
   "metadata": {},
   "source": [
    "##### -- SVM is the better choice for this task due to its superior performance. However, Naive Bayes is a viable alternative for quick and reasonably accurate predictions.\n"
   ]
  },
  {
   "cell_type": "code",
   "execution_count": null,
   "id": "0ffb4cbf-7fb7-4301-836f-22a308fa4f72",
   "metadata": {},
   "outputs": [],
   "source": []
  }
 ],
 "metadata": {
  "kernelspec": {
   "display_name": "Python 3 (ipykernel)",
   "language": "python",
   "name": "python3"
  },
  "language_info": {
   "codemirror_mode": {
    "name": "ipython",
    "version": 3
   },
   "file_extension": ".py",
   "mimetype": "text/x-python",
   "name": "python",
   "nbconvert_exporter": "python",
   "pygments_lexer": "ipython3",
   "version": "3.12.2"
  }
 },
 "nbformat": 4,
 "nbformat_minor": 5
}
